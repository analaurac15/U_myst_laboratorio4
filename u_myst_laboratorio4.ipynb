{
 "cells": [
  {
   "cell_type": "markdown",
   "metadata": {},
   "source": [
    "# Laboratorio 4\n",
    "\n",
    "## Equipo U\n",
    "\n",
    "#### Ana Laura Correa Cabrales\n",
    "#### Carlos Eduardo Ochoa Arambula\n",
    "#### Pablo Francisco Vargas Castellanos\n",
    "#### Emilio De La Torre Jimenez O'Farril"
   ]
  },
  {
   "cell_type": "markdown",
   "metadata": {},
   "source": [
    "## Introducción\n",
    "\n",
    "Dentro del mundo financiero bursátil es muy sabido que las noticias mueven a los mercados de manera positiva o negativa. En internet existen múltiples páginas web que nos indican cuales serán las siguientes noticias en todo el mundo relacionadas con temas financieros y muchas veces te dicen la importancia volátil que va a tener cada noticia en los mercados bursátiles.\n",
    "\n",
    "Partiendo de ese tema sabemos que la economía es algo que siempre esta en movimiento y más en el mercado bursátil, la mayor afirmación es que el mercado siempre se mueva para abajo o para arriba pero que nunca se queda estático a lo largo del tiempo.\n",
    "\n",
    "Los diferentes movimientos que tiene el mercado bursátil se pueden asociar a diferentes supuestos en los cuales uno de ellos son las noticias como ya se menciono en la parte de arriba.\n",
    "\n",
    "En este laboratorio se mostrara como dos tipos de noticias que en este caso fueron el \"Retail Sales\" e \"Industrial Production\" tuvieron un impacto en la cotización del \"Euro\".\n"
   ]
  },
  {
   "cell_type": "markdown",
   "metadata": {},
   "source": [
    "## Propósito:\n",
    "\n",
    "Que puedas describir los efectos cuantitativos en el precio durante los comunicados de indicadores macroeconómicos, así como el detectar oportunidades de inversión a partir de los resultados obtenidos. Lo anterior, utilizando lo que se conoce como \"Calendario Económico\", y más en particular, aquel que incorpora información de las principales economías del mundo por lo que es ampliamiente utilizado en el mercado de Forex."
   ]
  },
  {
   "cell_type": "markdown",
   "metadata": {},
   "source": [
    "## Definiciones\n",
    "\n",
    "Dentro de los análisis que se hicieron para este proyecto hubo dos noticias que fueron las que se necesitaban analizar para ver el impacto que se iba a tener en las monedas, los dos indicadores que se anunciaron fueron “Retail Sales” e “Industrial Production”.\n",
    "\n",
    "Una breve explicación de estos indicadores se mostrará a continuación para que se tenga una mayor comprensión en las tablas que se mostraran a lo largo del código, así como servirá para entender de mejor manera las gráficas que se mostraran en las cuales podremos observar como fluctuó la moneda. \n"
   ]
  },
  {
   "cell_type": "markdown",
   "metadata": {},
   "source": [
    "#### Retail Sales: \n",
    "    \n",
    "Este término en español se comprende como “Ventas al por menor” el cual nos mide los ingresos totales en los establecimientos de ventas al por menor donde se venden bienes duraderos y no duraderos. Estas cifras se publican sin ser ajustados a la inflación. Si se ajustan estacionalmente y por vacaciones según los meses del año.\n",
    "\n",
    "La importancia de este indicador es muy grande ya que las ventas minoristas se consideran el indicador más pertinente de las tendencias y comportamientos de consumos, ya que representan casi la mitad del gasto d consumo total y aproximadamente un tercio de la actividad económica agregada. Este indicador se publica de modo mensual.\n"
   ]
  },
  {
   "cell_type": "markdown",
   "metadata": {},
   "source": [
    "#### Industrial Production:\n",
    "\n",
    "Este indicador tiene el objetivo de medir la evolución de la producción del sector industrial, excluida la construcción. Se trata de un índice cuántico que muestra los cambios en la cantidad y la calidad de la producción industrial con respecto a un período anterior definido como período base, al que se le asigna el valor 100, eliminando la posible influencia de los precios.\n",
    "\n",
    "Constituye un indicador de buena calidad para el análisis coyuntural pues permite identificar el ciclo económico: tiene una amplia desagregación, elevada calidad y fiabilidad, elevada periodicidad y se dispone de una serie temporal larga. Todo ello lo hace muy útil para el seguimiento de diversas macromagnitudes, entre las que destacamos la evolución del sector industrial y de la actividad económica en general. A su vez, su desagregación permite el seguimiento de variables de demanda, como son el consumo privado, la Formación Bruta de Capital Fijo y la inversión.\n"
   ]
  },
  {
   "cell_type": "markdown",
   "metadata": {},
   "source": [
    "## Expliación de la predicción de las noticias\n",
    "\n",
    "Dentro de las diferentes tablas que se muesran a lo largo del laboratorio muestran tres definiciones en ingles las cuales son \"actual\", \"previous\" y \"consensus\".\n",
    "\n",
    "Estas definiciones lo que nos quieren decir es muy fácil.\n",
    "En el caso de actual es el valor cuantitativo del indicar \"Retail Sales\" o \"Industrial production\" que nos dice que valor tiene en este momento, en el caso de previous nos muestra el valor del mes pasado de uno de los dos indicadores y por ultimo el valor de consensus es la cantidad que va cambiar el valor actual y que se va a convertir en el siguiente mes en el valor previous.\n",
    "\n",
    "En la mayoria de los casos el valor de consensus es el mismo que se predijo con el valor que se calculo por que existen fugas de información y por diferentes factores que son conocidos pero cuando un valor esperado es diferente al valor most"
   ]
  },
  {
   "cell_type": "code",
   "execution_count": 6,
   "metadata": {
    "scrolled": true
   },
   "outputs": [
    {
     "ename": "ModuleNotFoundError",
     "evalue": "No module named 'plotly'",
     "output_type": "error",
     "traceback": [
      "\u001b[1;31m---------------------------------------------------------------------------\u001b[0m",
      "\u001b[1;31mModuleNotFoundError\u001b[0m                       Traceback (most recent call last)",
      "\u001b[1;32m<ipython-input-6-2830753a0521>\u001b[0m in \u001b[0;36m<module>\u001b[1;34m\u001b[0m\n\u001b[0;32m      1\u001b[0m \u001b[1;32mimport\u001b[0m \u001b[0mnumpy\u001b[0m \u001b[1;32mas\u001b[0m \u001b[0mnp\u001b[0m\u001b[1;33m\u001b[0m\u001b[1;33m\u001b[0m\u001b[0m\n\u001b[0;32m      2\u001b[0m \u001b[1;32mimport\u001b[0m \u001b[0mpandas\u001b[0m \u001b[1;32mas\u001b[0m \u001b[0mpd\u001b[0m\u001b[1;33m\u001b[0m\u001b[1;33m\u001b[0m\u001b[0m\n\u001b[1;32m----> 3\u001b[1;33m \u001b[1;32mimport\u001b[0m \u001b[0mplotly\u001b[0m\u001b[1;33m.\u001b[0m\u001b[0mgraph_objs\u001b[0m \u001b[1;32mas\u001b[0m \u001b[0mgo\u001b[0m\u001b[1;33m\u001b[0m\u001b[1;33m\u001b[0m\u001b[0m\n\u001b[0m\u001b[0;32m      4\u001b[0m \u001b[1;32mfrom\u001b[0m \u001b[0mplotly\u001b[0m\u001b[1;33m.\u001b[0m\u001b[0msubplots\u001b[0m \u001b[1;32mimport\u001b[0m \u001b[0mmake_subplots\u001b[0m\u001b[1;33m\u001b[0m\u001b[1;33m\u001b[0m\u001b[0m\n\u001b[0;32m      5\u001b[0m \u001b[1;32mfrom\u001b[0m \u001b[0mplotly\u001b[0m\u001b[1;33m.\u001b[0m\u001b[0moffline\u001b[0m \u001b[1;32mimport\u001b[0m \u001b[0mdownload_plotlyjs\u001b[0m\u001b[1;33m,\u001b[0m \u001b[0minit_notebook_mode\u001b[0m\u001b[1;33m,\u001b[0m \u001b[0mplot\u001b[0m\u001b[1;33m,\u001b[0m \u001b[0miplot\u001b[0m\u001b[1;33m\u001b[0m\u001b[1;33m\u001b[0m\u001b[0m\n",
      "\u001b[1;31mModuleNotFoundError\u001b[0m: No module named 'plotly'"
     ]
    }
   ],
   "source": [
    "import numpy as np\n",
    "import pandas as pd\n",
    "import plotly.graph_objs as go\n",
    "from plotly.subplots import make_subplots\n",
    "from plotly.offline import download_plotlyjs, init_notebook_mode, plot, iplot\n",
    "import plotly.offline as py\n",
    "from collections import Counter\n",
    "import matplotlib.pyplot as plt\n",
    "import plotly.graph_objects as go\n",
    "import datetime as dt\n",
    "import warnings\n",
    "warnings.filterwarnings(\"ignore\")\n",
    "from collections import Counter"
   ]
  },
  {
   "cell_type": "code",
   "execution_count": 7,
   "metadata": {},
   "outputs": [],
   "source": [
    "#Cargamos los datos, y eliminamos los que no tienen valor\n",
    "df = pd.read_csv(\"calendario_economico.csv\") \n",
    "df.dropna(inplace = True)\n"
   ]
  },
  {
   "cell_type": "code",
   "execution_count": 8,
   "metadata": {},
   "outputs": [],
   "source": [
    "#buscamos y agrupamos nuestros datos en Data Frames\n",
    "data1=df.loc[df['Name'] == 'Industrial Production s.a. (MoM)']\n",
    "IndProduction=data1.loc[df['Country'] == 'European Monetary Union']\n",
    "IndProduction=IndProduction.reset_index(drop=True)\n",
    "data2=df.loc[df['Name'] == 'Retail Sales (MoM)']\n",
    "RetailSales=data2.loc[df['Country'] == 'European Monetary Union']\n",
    "RetailSales=RetailSales.reset_index(drop=True)\n"
   ]
  },
  {
   "cell_type": "code",
   "execution_count": 9,
   "metadata": {},
   "outputs": [],
   "source": [
    "#Date time a la variable \"timestamp\" para poder despues buscarla en los precios \n",
    "IndProduction['timestamp']=pd.to_datetime(IndProduction['timestamp'])\n",
    "IndProduction['timestamp']=IndProduction['timestamp'].dt.tz_localize('UTC')\n",
    "RetailSales['timestamp']=pd.to_datetime(RetailSales['timestamp'])\n",
    "RetailSales['timestamp']=RetailSales['timestamp'].dt.tz_localize('UTC')"
   ]
  },
  {
   "cell_type": "code",
   "execution_count": 10,
   "metadata": {},
   "outputs": [],
   "source": [
    "#definimos escenarios por restricciones\n",
    "def escenario(x):\n",
    "    x['escenario']= x['actual']\n",
    "    for i in range(len(x)):\n",
    "        if x['actual'][i] >= x['consensus'][i] >= x['previous'][i]:\n",
    "            x['escenario'][i] = \"A\"\n",
    "        elif x['actual'][i] >= x['consensus'][i] < x['previous'][i]:\n",
    "            x['escenario'][i]=\"B\"\n",
    "        elif x['actual'][i] < x['consensus'][i] >= x['previous'][i]:\n",
    "            x['escenario'][i]=\"C\"\n",
    "        elif x['actual'][i] < x['consensus'][i] < x['previous'][i]:\n",
    "            x['escenario'][i]=\"D\"\n",
    "    return x\n",
    "    "
   ]
  },
  {
   "cell_type": "code",
   "execution_count": 11,
   "metadata": {},
   "outputs": [
    {
     "name": "stderr",
     "output_type": "stream",
     "text": [
      "C:\\ProgramData\\Anaconda3\\lib\\site-packages\\ipykernel_launcher.py:8: SettingWithCopyWarning: \n",
      "A value is trying to be set on a copy of a slice from a DataFrame\n",
      "\n",
      "See the caveats in the documentation: http://pandas.pydata.org/pandas-docs/stable/indexing.html#indexing-view-versus-copy\n",
      "  \n",
      "C:\\ProgramData\\Anaconda3\\lib\\site-packages\\pandas\\core\\indexing.py:189: SettingWithCopyWarning: \n",
      "A value is trying to be set on a copy of a slice from a DataFrame\n",
      "\n",
      "See the caveats in the documentation: http://pandas.pydata.org/pandas-docs/stable/indexing.html#indexing-view-versus-copy\n",
      "  self._setitem_with_indexer(indexer, value)\n",
      "C:\\ProgramData\\Anaconda3\\lib\\site-packages\\ipykernel_launcher.py:12: SettingWithCopyWarning: \n",
      "A value is trying to be set on a copy of a slice from a DataFrame\n",
      "\n",
      "See the caveats in the documentation: http://pandas.pydata.org/pandas-docs/stable/indexing.html#indexing-view-versus-copy\n",
      "  if sys.path[0] == '':\n",
      "C:\\ProgramData\\Anaconda3\\lib\\site-packages\\ipykernel_launcher.py:10: SettingWithCopyWarning: \n",
      "A value is trying to be set on a copy of a slice from a DataFrame\n",
      "\n",
      "See the caveats in the documentation: http://pandas.pydata.org/pandas-docs/stable/indexing.html#indexing-view-versus-copy\n",
      "  # Remove the CWD from sys.path while we load stuff.\n",
      "C:\\ProgramData\\Anaconda3\\lib\\site-packages\\ipykernel_launcher.py:6: SettingWithCopyWarning: \n",
      "A value is trying to be set on a copy of a slice from a DataFrame\n",
      "\n",
      "See the caveats in the documentation: http://pandas.pydata.org/pandas-docs/stable/indexing.html#indexing-view-versus-copy\n",
      "  \n"
     ]
    }
   ],
   "source": [
    "# utilizamos la función escenario para obtener cada comunicado del indicador económico si es A, B, C ó D dependiendo del actual,\n",
    "# previous y consensus.\n",
    "RS=escenario(RetailSales)\n",
    "IP=escenario(IndProduction)\n"
   ]
  },
  {
   "cell_type": "code",
   "execution_count": 12,
   "metadata": {},
   "outputs": [],
   "source": [
    "# Cargamos los datos de los precios del Euro-Dolar\n",
    "df = pd.read_csv(\"precios_historicos_eurusd.csv\") \n",
    "df['timestamp']=pd.to_datetime(df['timestamp'])\n",
    "df['timestamp']=df['timestamp'].dt.tz_localize('UTC')\n"
   ]
  },
  {
   "cell_type": "code",
   "execution_count": 13,
   "metadata": {},
   "outputs": [],
   "source": [
    "# Checando valores en precios EUR/USD con misma hora que nuestro calendario económico\n",
    "# Data frame con los valores que coinciden las horas\n",
    "comparacionRS=df[df.timestamp.isin(RS.timestamp)]\n",
    "comparacionIP=df[df.timestamp.isin(IP.timestamp)]"
   ]
  },
  {
   "cell_type": "code",
   "execution_count": 16,
   "metadata": {},
   "outputs": [
    {
     "data": {
      "text/plain": [
       "[                     timestamp     open     high      low    close\n",
       " 1826 2009-01-14 09:30:00+00:00  1.32424  1.32425  1.32017  1.32150\n",
       " 1827 2009-01-14 09:35:00+00:00  1.32155  1.32190  1.31897  1.32172\n",
       " 1828 2009-01-14 09:40:00+00:00  1.32170  1.32497  1.32138  1.32250\n",
       " 1829 2009-01-14 09:45:00+00:00  1.32235  1.32429  1.32206  1.32354\n",
       " 1830 2009-01-14 09:50:00+00:00  1.32356  1.32356  1.32107  1.32141\n",
       " 1831 2009-01-14 09:55:00+00:00  1.32141  1.32256  1.32031  1.32031\n",
       " 1832 2009-01-14 10:00:00+00:00  1.32029  1.32496  1.32029  1.32386\n",
       " 1833 2009-01-14 10:05:00+00:00  1.32384  1.32444  1.32333  1.32414\n",
       " 1834 2009-01-14 10:10:00+00:00  1.32409  1.32419  1.32270  1.32345\n",
       " 1835 2009-01-14 10:15:00+00:00  1.32335  1.32420  1.32288  1.32308\n",
       " 1836 2009-01-14 10:20:00+00:00  1.32308  1.32412  1.32284  1.32370\n",
       " 1837 2009-01-14 10:25:00+00:00  1.32368  1.32426  1.32326  1.32332\n",
       " 1838 2009-01-14 10:30:00+00:00  1.32332  1.32586  1.32328  1.32586,\n",
       "                      timestamp     open     high      low    close\n",
       " 8006 2009-02-12 09:30:00+00:00  1.28616  1.28632  1.28544  1.28544\n",
       " 8007 2009-02-12 09:35:00+00:00  1.28544  1.28660  1.28514  1.28634\n",
       " 8008 2009-02-12 09:40:00+00:00  1.28640  1.28692  1.28612  1.28628\n",
       " 8009 2009-02-12 09:45:00+00:00  1.28628  1.28664  1.28578  1.28658\n",
       " 8010 2009-02-12 09:50:00+00:00  1.28658  1.28674  1.28580  1.28580\n",
       " 8011 2009-02-12 09:55:00+00:00  1.28580  1.28628  1.28522  1.28552\n",
       " 8012 2009-02-12 10:00:00+00:00  1.28548  1.28554  1.28388  1.28548\n",
       " 8013 2009-02-12 10:05:00+00:00  1.28548  1.28624  1.28534  1.28590\n",
       " 8014 2009-02-12 10:10:00+00:00  1.28584  1.28590  1.28168  1.28308\n",
       " 8015 2009-02-12 10:15:00+00:00  1.28308  1.28354  1.28174  1.28238\n",
       " 8016 2009-02-12 10:20:00+00:00  1.28238  1.28354  1.28228  1.28348\n",
       " 8017 2009-02-12 10:25:00+00:00  1.28348  1.28388  1.28216  1.28232\n",
       " 8018 2009-02-12 10:30:00+00:00  1.28232  1.28236  1.28004  1.28064,\n",
       "                       timestamp     open     high      low    close\n",
       " 15663 2009-03-20 09:30:00+00:00  1.36707  1.36796  1.36697  1.36732\n",
       " 15664 2009-03-20 09:35:00+00:00  1.36734  1.36756  1.36636  1.36670\n",
       " 15665 2009-03-20 09:40:00+00:00  1.36670  1.37030  1.36670  1.36924\n",
       " 15666 2009-03-20 09:45:00+00:00  1.36924  1.37010  1.36832  1.36970\n",
       " 15667 2009-03-20 09:50:00+00:00  1.36960  1.36974  1.36844  1.36886\n",
       " 15668 2009-03-20 09:55:00+00:00  1.36892  1.36906  1.36786  1.36786\n",
       " 15669 2009-03-20 10:00:00+00:00  1.36786  1.36826  1.36634  1.36686\n",
       " 15670 2009-03-20 10:05:00+00:00  1.36686  1.36766  1.36636  1.36650\n",
       " 15671 2009-03-20 10:10:00+00:00  1.36646  1.36696  1.36424  1.36436\n",
       " 15672 2009-03-20 10:15:00+00:00  1.36436  1.36526  1.36376  1.36468\n",
       " 15673 2009-03-20 10:20:00+00:00  1.36464  1.36486  1.36362  1.36438\n",
       " 15674 2009-03-20 10:25:00+00:00  1.36440  1.36552  1.36296  1.36320\n",
       " 15675 2009-03-20 10:30:00+00:00  1.36320  1.36338  1.36096  1.36096,\n",
       "                       timestamp     open     high      low    close\n",
       " 21227 2009-04-16 08:30:00+00:00  1.31814  1.31814  1.31748  1.31748\n",
       " 21228 2009-04-16 08:35:00+00:00  1.31752  1.31762  1.31710  1.31760\n",
       " 21229 2009-04-16 08:40:00+00:00  1.31762  1.31790  1.31702  1.31758\n",
       " 21230 2009-04-16 08:45:00+00:00  1.31748  1.31784  1.31724  1.31748\n",
       " 21231 2009-04-16 08:50:00+00:00  1.31750  1.31792  1.31722  1.31728\n",
       " 21232 2009-04-16 08:55:00+00:00  1.31720  1.31744  1.31660  1.31677\n",
       " 21233 2009-04-16 09:00:00+00:00  1.31679  1.31726  1.31584  1.31584\n",
       " 21234 2009-04-16 09:05:00+00:00  1.31586  1.31600  1.31476  1.31570\n",
       " 21235 2009-04-16 09:10:00+00:00  1.31564  1.31654  1.31544  1.31636\n",
       " 21236 2009-04-16 09:15:00+00:00  1.31630  1.31642  1.31520  1.31612\n",
       " 21237 2009-04-16 09:20:00+00:00  1.31614  1.31660  1.31574  1.31600\n",
       " 21238 2009-04-16 09:25:00+00:00  1.31598  1.31620  1.31380  1.31402\n",
       " 21239 2009-04-16 09:30:00+00:00  1.31400  1.31468  1.31320  1.31338,\n",
       "                       timestamp     open     high      low    close\n",
       " 26775 2009-05-13 08:30:00+00:00  1.36868  1.36890  1.36826  1.36866\n",
       " 26776 2009-05-13 08:35:00+00:00  1.36862  1.36946  1.36852  1.36898\n",
       " 26777 2009-05-13 08:40:00+00:00  1.36898  1.37004  1.36896  1.36944\n",
       " 26778 2009-05-13 08:45:00+00:00  1.36940  1.37028  1.36914  1.37006\n",
       " 26779 2009-05-13 08:50:00+00:00  1.37000  1.37036  1.36974  1.36996\n",
       " 26780 2009-05-13 08:55:00+00:00  1.36994  1.36998  1.36863  1.36869\n",
       " 26781 2009-05-13 09:00:00+00:00  1.36863  1.36863  1.36763  1.36825\n",
       " 26782 2009-05-13 09:05:00+00:00  1.36825  1.36825  1.36754  1.36754\n",
       " 26783 2009-05-13 09:10:00+00:00  1.36758  1.36847  1.36653  1.36812\n",
       " 26784 2009-05-13 09:15:00+00:00  1.36812  1.36828  1.36782  1.36794\n",
       " 26785 2009-05-13 09:20:00+00:00  1.36796  1.36876  1.36794  1.36876\n",
       " 26786 2009-05-13 09:25:00+00:00  1.36874  1.36944  1.36866  1.36898\n",
       " 26787 2009-05-13 09:30:00+00:00  1.36894  1.36962  1.36804  1.36918,\n",
       "                       timestamp     open     high      low    close\n",
       " 33195 2009-06-12 08:30:00+00:00  1.40670  1.40734  1.40628  1.40710\n",
       " 33196 2009-06-12 08:35:00+00:00  1.40714  1.40736  1.40636  1.40662\n",
       " 33197 2009-06-12 08:40:00+00:00  1.40664  1.40670  1.40542  1.40590\n",
       " 33198 2009-06-12 08:45:00+00:00  1.40592  1.40604  1.40526  1.40580\n",
       " 33199 2009-06-12 08:50:00+00:00  1.40578  1.40652  1.40556  1.40606\n",
       " 33200 2009-06-12 08:55:00+00:00  1.40602  1.40626  1.40548  1.40554\n",
       " 33201 2009-06-12 09:00:00+00:00  1.40552  1.40552  1.40430  1.40514\n",
       " 33202 2009-06-12 09:05:00+00:00  1.40510  1.40550  1.40392  1.40456\n",
       " 33203 2009-06-12 09:10:00+00:00  1.40452  1.40466  1.40368  1.40382\n",
       " 33204 2009-06-12 09:15:00+00:00  1.40384  1.40434  1.40318  1.40428\n",
       " 33205 2009-06-12 09:20:00+00:00  1.40426  1.40466  1.40394  1.40446\n",
       " 33206 2009-06-12 09:25:00+00:00  1.40448  1.40546  1.40448  1.40526\n",
       " 33207 2009-06-12 09:30:00+00:00  1.40524  1.40530  1.40444  1.40472,\n",
       "                       timestamp     open     high      low    close\n",
       " 39606 2009-07-14 08:30:00+00:00  1.40108  1.40112  1.39973  1.40012\n",
       " 39607 2009-07-14 08:35:00+00:00  1.40016  1.40090  1.40008  1.40010\n",
       " 39608 2009-07-14 08:40:00+00:00  1.40012  1.40044  1.39960  1.40008\n",
       " 39609 2009-07-14 08:45:00+00:00  1.40006  1.40086  1.39980  1.40050\n",
       " 39610 2009-07-14 08:50:00+00:00  1.40052  1.40052  1.39904  1.39948\n",
       " 39611 2009-07-14 08:55:00+00:00  1.39950  1.40004  1.39950  1.39956\n",
       " 39612 2009-07-14 09:00:00+00:00  1.39951  1.39951  1.39659  1.39788\n",
       " 39613 2009-07-14 09:05:00+00:00  1.39784  1.39884  1.39736  1.39864\n",
       " 39614 2009-07-14 09:10:00+00:00  1.39866  1.39866  1.39782  1.39790\n",
       " 39615 2009-07-14 09:15:00+00:00  1.39792  1.39806  1.39746  1.39796\n",
       " 39616 2009-07-14 09:20:00+00:00  1.39792  1.39928  1.39774  1.39912\n",
       " 39617 2009-07-14 09:25:00+00:00  1.39908  1.39912  1.39834  1.39838\n",
       " 39618 2009-07-14 09:30:00+00:00  1.39840  1.39860  1.39836  1.39846,\n",
       "                       timestamp     open     high      low    close\n",
       " 45722 2009-08-12 08:30:00+00:00  1.41236  1.41236  1.41160  1.41218\n",
       " 45723 2009-08-12 08:35:00+00:00  1.41222  1.41224  1.41150  1.41150\n",
       " 45724 2009-08-12 08:40:00+00:00  1.41148  1.41246  1.41140  1.41200\n",
       " 45725 2009-08-12 08:45:00+00:00  1.41204  1.41206  1.41090  1.41138\n",
       " 45726 2009-08-12 08:50:00+00:00  1.41140  1.41176  1.41120  1.41128\n",
       " 45727 2009-08-12 08:55:00+00:00  1.41126  1.41174  1.41118  1.41160\n",
       " 45728 2009-08-12 09:00:00+00:00  1.41158  1.41176  1.41118  1.41152\n",
       " 45729 2009-08-12 09:05:00+00:00  1.41154  1.41386  1.41154  1.41384\n",
       " 45730 2009-08-12 09:10:00+00:00  1.41386  1.41386  1.41296  1.41304\n",
       " 45731 2009-08-12 09:15:00+00:00  1.41306  1.41314  1.41274  1.41312\n",
       " 45732 2009-08-12 09:20:00+00:00  1.41310  1.41340  1.41286  1.41296\n",
       " 45733 2009-08-12 09:25:00+00:00  1.41294  1.41300  1.41254  1.41266\n",
       " 45734 2009-08-12 09:30:00+00:00  1.41268  1.41324  1.41222  1.41300,\n",
       "                       timestamp     open     high      low    close\n",
       " 52403 2009-09-14 08:30:00+00:00  1.45544  1.45554  1.45466  1.45466\n",
       " 52404 2009-09-14 08:35:00+00:00  1.45464  1.45490  1.45454  1.45454\n",
       " 52405 2009-09-14 08:40:00+00:00  1.45458  1.45484  1.45412  1.45438\n",
       " 52406 2009-09-14 08:45:00+00:00  1.45436  1.45454  1.45392  1.45446\n",
       " 52407 2009-09-14 08:50:00+00:00  1.45444  1.45514  1.45424  1.45514\n",
       " 52408 2009-09-14 08:55:00+00:00  1.45516  1.45520  1.45460  1.45476\n",
       " 52409 2009-09-14 09:00:00+00:00  1.45472  1.45474  1.45380  1.45386\n",
       " 52410 2009-09-14 09:05:00+00:00  1.45390  1.45408  1.45308  1.45332\n",
       " 52411 2009-09-14 09:10:00+00:00  1.45334  1.45370  1.45328  1.45352\n",
       " 52412 2009-09-14 09:15:00+00:00  1.45350  1.45402  1.45346  1.45396\n",
       " 52413 2009-09-14 09:20:00+00:00  1.45392  1.45392  1.45366  1.45374\n",
       " 52414 2009-09-14 09:25:00+00:00  1.45372  1.45382  1.45274  1.45304\n",
       " 52415 2009-09-14 09:30:00+00:00  1.45306  1.45342  1.45270  1.45288,\n",
       "                       timestamp     open     high      low    close\n",
       " 58831 2009-10-14 08:30:00+00:00  1.48832  1.48888  1.48818  1.48824\n",
       " 58832 2009-10-14 08:35:00+00:00  1.48822  1.48846  1.48790  1.48816\n",
       " 58833 2009-10-14 08:40:00+00:00  1.48814  1.48884  1.48806  1.48884\n",
       " 58834 2009-10-14 08:45:00+00:00  1.48886  1.48914  1.48864  1.48894\n",
       " 58835 2009-10-14 08:50:00+00:00  1.48896  1.49026  1.48896  1.48982\n",
       " 58836 2009-10-14 08:55:00+00:00  1.48980  1.49031  1.48950  1.49026\n",
       " 58837 2009-10-14 09:00:00+00:00  1.49029  1.49099  1.48987  1.49001\n",
       " 58838 2009-10-14 09:05:00+00:00  1.48998  1.49122  1.48990  1.49046\n",
       " 58839 2009-10-14 09:10:00+00:00  1.49048  1.49064  1.48928  1.48976\n",
       " 58840 2009-10-14 09:15:00+00:00  1.48974  1.49034  1.48938  1.48974\n",
       " 58841 2009-10-14 09:20:00+00:00  1.48972  1.49000  1.48918  1.48984\n",
       " 58842 2009-10-14 09:25:00+00:00  1.48982  1.49134  1.48962  1.49060\n",
       " 58843 2009-10-14 09:30:00+00:00  1.49062  1.49098  1.49038  1.49058,\n",
       "                       timestamp     open     high      low    close\n",
       " 65017 2009-11-12 09:30:00+00:00  1.49402  1.49402  1.49326  1.49390\n",
       " 65018 2009-11-12 09:35:00+00:00  1.49392  1.49454  1.49380  1.49444\n",
       " 65019 2009-11-12 09:40:00+00:00  1.49446  1.49476  1.49428  1.49464\n",
       " 65020 2009-11-12 09:45:00+00:00  1.49462  1.49482  1.49438  1.49476\n",
       " 65021 2009-11-12 09:50:00+00:00  1.49472  1.49484  1.49446  1.49458\n",
       " 65022 2009-11-12 09:55:00+00:00  1.49456  1.49462  1.49356  1.49378\n",
       " 65023 2009-11-12 10:00:00+00:00  1.49381  1.49496  1.49376  1.49472\n",
       " 65024 2009-11-12 10:05:00+00:00  1.49476  1.49484  1.49424  1.49464\n",
       " 65025 2009-11-12 10:10:00+00:00  1.49462  1.49532  1.49458  1.49502\n",
       " 65026 2009-11-12 10:15:00+00:00  1.49500  1.49542  1.49474  1.49518\n",
       " 65027 2009-11-12 10:20:00+00:00  1.49520  1.49626  1.49472  1.49626\n",
       " 65028 2009-11-12 10:25:00+00:00  1.49628  1.49628  1.49526  1.49526\n",
       " 65029 2009-11-12 10:30:00+00:00  1.49522  1.49570  1.49514  1.49540,\n",
       "                       timestamp     open     high      low    close\n",
       " 71559 2009-12-14 09:30:00+00:00  1.46680  1.46688  1.46638  1.46642\n",
       " 71560 2009-12-14 09:35:00+00:00  1.46644  1.46652  1.46608  1.46616\n",
       " 71561 2009-12-14 09:40:00+00:00  1.46620  1.46636  1.46614  1.46614\n",
       " 71562 2009-12-14 09:45:00+00:00  1.46612  1.46656  1.46606  1.46644\n",
       " 71563 2009-12-14 09:50:00+00:00  1.46646  1.46678  1.46614  1.46618\n",
       " 71564 2009-12-14 09:55:00+00:00  1.46620  1.46673  1.46594  1.46673\n",
       " 71565 2009-12-14 10:00:00+00:00  1.46671  1.46690  1.46642  1.46662\n",
       " 71566 2009-12-14 10:05:00+00:00  1.46666  1.46668  1.46644  1.46666\n",
       " 71567 2009-12-14 10:10:00+00:00  1.46668  1.46722  1.46668  1.46692\n",
       " 71568 2009-12-14 10:15:00+00:00  1.46694  1.46728  1.46678  1.46712\n",
       " 71569 2009-12-14 10:20:00+00:00  1.46714  1.46726  1.46588  1.46592\n",
       " 71570 2009-12-14 10:25:00+00:00  1.46588  1.46588  1.46476  1.46544\n",
       " 71571 2009-12-14 10:30:00+00:00  1.46546  1.46546  1.46452  1.46476,\n",
       "                       timestamp     open     high      low    close\n",
       " 77861 2010-01-14 09:30:00+00:00  1.45170  1.45174  1.45134  1.45138\n",
       " 77862 2010-01-14 09:35:00+00:00  1.45136  1.45156  1.45114  1.45148\n",
       " 77863 2010-01-14 09:40:00+00:00  1.45150  1.45234  1.45146  1.45214\n",
       " 77864 2010-01-14 09:45:00+00:00  1.45216  1.45234  1.45142  1.45142\n",
       " 77865 2010-01-14 09:50:00+00:00  1.45140  1.45152  1.45106  1.45120\n",
       " 77866 2010-01-14 09:55:00+00:00  1.45122  1.45134  1.45026  1.45060\n",
       " 77867 2010-01-14 10:00:00+00:00  1.45062  1.45134  1.45060  1.45096\n",
       " 77868 2010-01-14 10:05:00+00:00  1.45094  1.45126  1.44984  1.44996\n",
       " 77869 2010-01-14 10:10:00+00:00  1.44998  1.45046  1.44968  1.44992\n",
       " 77870 2010-01-14 10:15:00+00:00  1.44994  1.45090  1.44964  1.45088\n",
       " 77871 2010-01-14 10:20:00+00:00  1.45086  1.45124  1.45064  1.45110\n",
       " 77872 2010-01-14 10:25:00+00:00  1.45108  1.45138  1.45088  1.45094\n",
       " 77873 2010-01-14 10:30:00+00:00  1.45090  1.45134  1.45086  1.45118,\n",
       "                       timestamp     open     high      low    close\n",
       " 84092 2010-02-12 09:30:00+00:00  1.36160  1.36168  1.36072  1.36104\n",
       " 84093 2010-02-12 09:35:00+00:00  1.36102  1.36176  1.36092  1.36168\n",
       " 84094 2010-02-12 09:40:00+00:00  1.36170  1.36192  1.36148  1.36190\n",
       " 84095 2010-02-12 09:45:00+00:00  1.36188  1.36190  1.36158  1.36172\n",
       " 84096 2010-02-12 09:50:00+00:00  1.36170  1.36184  1.36078  1.36078\n",
       " 84097 2010-02-12 09:55:00+00:00  1.36076  1.36076  1.35668  1.35692\n",
       " 84098 2010-02-12 10:00:00+00:00  1.35695  1.35842  1.35558  1.35694\n",
       " 84099 2010-02-12 10:05:00+00:00  1.35698  1.35720  1.35548  1.35618\n",
       " 84100 2010-02-12 10:10:00+00:00  1.35616  1.35736  1.35566  1.35730\n",
       " 84101 2010-02-12 10:15:00+00:00  1.35728  1.35728  1.35568  1.35652\n",
       " 84102 2010-02-12 10:20:00+00:00  1.35650  1.35664  1.35572  1.35630\n",
       " 84103 2010-02-12 10:25:00+00:00  1.35628  1.35652  1.35528  1.35528\n",
       " 84104 2010-02-12 10:30:00+00:00  1.35530  1.35606  1.35368  1.35560,\n",
       "                       timestamp     open     high      low    close\n",
       " 90028 2010-03-12 09:30:00+00:00  1.37298  1.37316  1.37244  1.37262\n",
       " 90029 2010-03-12 09:35:00+00:00  1.37264  1.37284  1.37236  1.37244\n",
       " 90030 2010-03-12 09:40:00+00:00  1.37246  1.37294  1.37246  1.37286\n",
       " 90031 2010-03-12 09:45:00+00:00  1.37284  1.37374  1.37264  1.37372\n",
       " 90032 2010-03-12 09:50:00+00:00  1.37370  1.37532  1.37342  1.37484\n",
       " 90033 2010-03-12 09:55:00+00:00  1.37486  1.37634  1.37444  1.37590\n",
       " 90034 2010-03-12 10:00:00+00:00  1.37592  1.37616  1.37530  1.37596\n",
       " 90035 2010-03-12 10:05:00+00:00  1.37594  1.37774  1.37568  1.37758\n",
       " 90036 2010-03-12 10:10:00+00:00  1.37760  1.37764  1.37658  1.37664\n",
       " 90037 2010-03-12 10:15:00+00:00  1.37666  1.37718  1.37650  1.37718\n",
       " 90038 2010-03-12 10:20:00+00:00  1.37720  1.37784  1.37720  1.37742\n",
       " 90039 2010-03-12 10:25:00+00:00  1.37740  1.37870  1.37728  1.37838\n",
       " 90040 2010-03-12 10:30:00+00:00  1.37840  1.37858  1.37770  1.37770,\n",
       "                       timestamp     open     high      low    close\n",
       " 96788 2010-04-14 08:30:00+00:00  1.36396  1.36422  1.36378  1.36402\n",
       " 96789 2010-04-14 08:35:00+00:00  1.36404  1.36480  1.36382  1.36472\n",
       " 96790 2010-04-14 08:40:00+00:00  1.36470  1.36472  1.36428  1.36448\n",
       " 96791 2010-04-14 08:45:00+00:00  1.36446  1.36492  1.36446  1.36472\n",
       " 96792 2010-04-14 08:50:00+00:00  1.36470  1.36490  1.36444  1.36488\n",
       " 96793 2010-04-14 08:55:00+00:00  1.36486  1.36502  1.36452  1.36466\n",
       " 96794 2010-04-14 09:00:00+00:00  1.36468  1.36492  1.36422  1.36430\n",
       " 96795 2010-04-14 09:05:00+00:00  1.36432  1.36436  1.36352  1.36368\n",
       " 96796 2010-04-14 09:10:00+00:00  1.36366  1.36410  1.36354  1.36392\n",
       " 96797 2010-04-14 09:15:00+00:00  1.36394  1.36432  1.36372  1.36428\n",
       " 96798 2010-04-14 09:20:00+00:00  1.36430  1.36472  1.36426  1.36432\n",
       " 96799 2010-04-14 09:25:00+00:00  1.36430  1.36460  1.36412  1.36452\n",
       " 96800 2010-04-14 09:30:00+00:00  1.36450  1.36452  1.36422  1.36452,\n",
       "                        timestamp     open     high      low    close\n",
       " 102673 2010-05-12 08:30:00+00:00  1.27188  1.27206  1.27014  1.27026\n",
       " 102674 2010-05-12 08:35:00+00:00  1.27024  1.27208  1.27016  1.27208\n",
       " 102675 2010-05-12 08:40:00+00:00  1.27212  1.27390  1.27184  1.27350\n",
       " 102676 2010-05-12 08:45:00+00:00  1.27348  1.27364  1.27292  1.27298\n",
       " 102677 2010-05-12 08:50:00+00:00  1.27296  1.27306  1.27206  1.27266\n",
       " 102678 2010-05-12 08:55:00+00:00  1.27264  1.27270  1.27214  1.27228\n",
       " 102679 2010-05-12 09:00:00+00:00  1.27226  1.27228  1.27062  1.27068\n",
       " 102680 2010-05-12 09:05:00+00:00  1.27070  1.27074  1.26918  1.26968\n",
       " 102681 2010-05-12 09:10:00+00:00  1.26966  1.26974  1.26780  1.26784\n",
       " 102682 2010-05-12 09:15:00+00:00  1.26786  1.27008  1.26786  1.26942\n",
       " 102683 2010-05-12 09:20:00+00:00  1.26940  1.26994  1.26878  1.26934\n",
       " 102684 2010-05-12 09:25:00+00:00  1.26936  1.27002  1.26918  1.26944\n",
       " 102685 2010-05-12 09:30:00+00:00  1.26942  1.27050  1.26780  1.26996,\n",
       "                        timestamp     open     high      low    close\n",
       " 109428 2010-06-14 08:30:00+00:00  1.21936  1.21974  1.21892  1.21942\n",
       " 109429 2010-06-14 08:35:00+00:00  1.21944  1.22033  1.21928  1.21988\n",
       " 109430 2010-06-14 08:40:00+00:00  1.21986  1.22130  1.21942  1.22090\n",
       " 109431 2010-06-14 08:45:00+00:00  1.22088  1.22186  1.22068  1.22164\n",
       " 109432 2010-06-14 08:50:00+00:00  1.22162  1.22172  1.22126  1.22160\n",
       " 109433 2010-06-14 08:55:00+00:00  1.22156  1.22334  1.22156  1.22243\n",
       " 109434 2010-06-14 09:00:00+00:00  1.22245  1.22348  1.22239  1.22304\n",
       " 109435 2010-06-14 09:05:00+00:00  1.22302  1.22306  1.22230  1.22260\n",
       " 109436 2010-06-14 09:10:00+00:00  1.22264  1.22292  1.22238  1.22250\n",
       " 109437 2010-06-14 09:15:00+00:00  1.22248  1.22352  1.22248  1.22326\n",
       " 109438 2010-06-14 09:20:00+00:00  1.22328  1.22376  1.22326  1.22358\n",
       " 109439 2010-06-14 09:25:00+00:00  1.22360  1.22382  1.22336  1.22356\n",
       " 109440 2010-06-14 09:30:00+00:00  1.22354  1.22450  1.22328  1.22426,\n",
       "                        timestamp     open     high      low    close\n",
       " 115833 2010-07-14 08:30:00+00:00  1.27280  1.27352  1.27262  1.27272\n",
       " 115834 2010-07-14 08:35:00+00:00  1.27270  1.27296  1.27224  1.27248\n",
       " 115835 2010-07-14 08:40:00+00:00  1.27246  1.27248  1.27192  1.27234\n",
       " 115836 2010-07-14 08:45:00+00:00  1.27236  1.27242  1.27170  1.27210\n",
       " 115837 2010-07-14 08:50:00+00:00  1.27206  1.27222  1.27158  1.27210\n",
       " 115838 2010-07-14 08:55:00+00:00  1.27208  1.27210  1.27170  1.27207\n",
       " 115839 2010-07-14 09:00:00+00:00  1.27204  1.27204  1.27044  1.27098\n",
       " 115840 2010-07-14 09:05:00+00:00  1.27096  1.27154  1.27084  1.27094\n",
       " 115841 2010-07-14 09:10:00+00:00  1.27096  1.27134  1.27088  1.27134\n",
       " 115842 2010-07-14 09:15:00+00:00  1.27138  1.27160  1.27062  1.27096\n",
       " 115843 2010-07-14 09:20:00+00:00  1.27092  1.27112  1.27064  1.27106\n",
       " 115844 2010-07-14 09:25:00+00:00  1.27110  1.27134  1.27048  1.27048\n",
       " 115845 2010-07-14 09:30:00+00:00  1.27044  1.27090  1.27026  1.27082,\n",
       "                        timestamp     open     high      low    close\n",
       " 121952 2010-08-12 08:30:00+00:00  1.29004  1.29086  1.29004  1.29040\n",
       " 121953 2010-08-12 08:35:00+00:00  1.29038  1.29064  1.28976  1.28976\n",
       " 121954 2010-08-12 08:40:00+00:00  1.28974  1.28974  1.28744  1.28790\n",
       " 121955 2010-08-12 08:45:00+00:00  1.28788  1.28788  1.28586  1.28666\n",
       " 121956 2010-08-12 08:50:00+00:00  1.28664  1.28676  1.28532  1.28564\n",
       " 121957 2010-08-12 08:55:00+00:00  1.28562  1.28684  1.28546  1.28576\n",
       " 121958 2010-08-12 09:00:00+00:00  1.28574  1.28574  1.28394  1.28408\n",
       " 121959 2010-08-12 09:05:00+00:00  1.28406  1.28508  1.28404  1.28494\n",
       " 121960 2010-08-12 09:10:00+00:00  1.28496  1.28504  1.28358  1.28432\n",
       " 121961 2010-08-12 09:15:00+00:00  1.28434  1.28514  1.28434  1.28468\n",
       " 121962 2010-08-12 09:20:00+00:00  1.28470  1.28536  1.28468  1.28470\n",
       " 121963 2010-08-12 09:25:00+00:00  1.28472  1.28504  1.28376  1.28396\n",
       " 121964 2010-08-12 09:30:00+00:00  1.28398  1.28502  1.28376  1.28480,\n",
       "                        timestamp     open     high      low    close\n",
       " 128687 2010-09-14 08:30:00+00:00  1.28920  1.29050  1.28920  1.28972\n",
       " 128688 2010-09-14 08:35:00+00:00  1.28974  1.28992  1.28934  1.28952\n",
       " 128689 2010-09-14 08:40:00+00:00  1.28950  1.28966  1.28884  1.28908\n",
       " 128690 2010-09-14 08:45:00+00:00  1.28906  1.28908  1.28832  1.28874\n",
       " 128691 2010-09-14 08:50:00+00:00  1.28872  1.28910  1.28862  1.28888\n",
       " 128692 2010-09-14 08:55:00+00:00  1.28890  1.28919  1.28834  1.28834\n",
       " 128693 2010-09-14 09:00:00+00:00  1.28837  1.28843  1.28625  1.28749\n",
       " 128694 2010-09-14 09:05:00+00:00  1.28752  1.28847  1.28644  1.28706\n",
       " 128695 2010-09-14 09:10:00+00:00  1.28708  1.28732  1.28538  1.28556\n",
       " 128696 2010-09-14 09:15:00+00:00  1.28558  1.28598  1.28468  1.28546\n",
       " 128697 2010-09-14 09:20:00+00:00  1.28548  1.28584  1.28532  1.28542\n",
       " 128698 2010-09-14 09:25:00+00:00  1.28540  1.28560  1.28400  1.28424\n",
       " 128699 2010-09-14 09:30:00+00:00  1.28428  1.28540  1.28428  1.28520,\n",
       "                        timestamp     open     high      low    close\n",
       " 134835 2010-10-13 08:30:00+00:00  1.39838  1.39944  1.39838  1.39934\n",
       " 134836 2010-10-13 08:35:00+00:00  1.39932  1.39972  1.39928  1.39932\n",
       " 134837 2010-10-13 08:40:00+00:00  1.39930  1.39932  1.39876  1.39898\n",
       " 134838 2010-10-13 08:45:00+00:00  1.39896  1.39898  1.39844  1.39854\n",
       " 134839 2010-10-13 08:50:00+00:00  1.39850  1.39888  1.39792  1.39792\n",
       " 134840 2010-10-13 08:55:00+00:00  1.39788  1.39790  1.39670  1.39729\n",
       " 134841 2010-10-13 09:00:00+00:00  1.39731  1.39902  1.39731  1.39902\n",
       " 134842 2010-10-13 09:05:00+00:00  1.39900  1.39992  1.39866  1.39972\n",
       " 134843 2010-10-13 09:10:00+00:00  1.39976  1.40006  1.39884  1.39888\n",
       " 134844 2010-10-13 09:15:00+00:00  1.39884  1.39942  1.39880  1.39934\n",
       " 134845 2010-10-13 09:20:00+00:00  1.39936  1.39952  1.39854  1.39902\n",
       " 134846 2010-10-13 09:25:00+00:00  1.39898  1.39930  1.39854  1.39876\n",
       " 134847 2010-10-13 09:30:00+00:00  1.39878  1.39942  1.39878  1.39932,\n",
       "                        timestamp     open     high      low    close\n",
       " 141326 2010-11-12 09:30:00+00:00  1.36364  1.36372  1.36308  1.36318\n",
       " 141327 2010-11-12 09:35:00+00:00  1.36322  1.36376  1.36206  1.36228\n",
       " 141328 2010-11-12 09:40:00+00:00  1.36230  1.36272  1.36190  1.36264\n",
       " 141329 2010-11-12 09:45:00+00:00  1.36262  1.36438  1.36240  1.36422\n",
       " 141330 2010-11-12 09:50:00+00:00  1.36424  1.36434  1.36246  1.36278\n",
       " 141331 2010-11-12 09:55:00+00:00  1.36276  1.36462  1.36232  1.36405\n",
       " 141332 2010-11-12 10:00:00+00:00  1.36402  1.36434  1.36246  1.36324\n",
       " 141333 2010-11-12 10:05:00+00:00  1.36322  1.36430  1.36294  1.36388\n",
       " 141334 2010-11-12 10:10:00+00:00  1.36386  1.36572  1.36368  1.36492\n",
       " 141335 2010-11-12 10:15:00+00:00  1.36490  1.36664  1.36474  1.36546\n",
       " 141336 2010-11-12 10:20:00+00:00  1.36548  1.36590  1.36456  1.36586\n",
       " 141337 2010-11-12 10:25:00+00:00  1.36584  1.36902  1.36578  1.36870\n",
       " 141338 2010-11-12 10:30:00+00:00  1.36874  1.36970  1.36840  1.36854,\n",
       "                        timestamp     open     high      low    close\n",
       " 147873 2010-12-14 09:30:00+00:00  1.34294  1.34294  1.34110  1.34138\n",
       " 147874 2010-12-14 09:35:00+00:00  1.34136  1.34361  1.34133  1.34342\n",
       " 147875 2010-12-14 09:40:00+00:00  1.34345  1.34365  1.34279  1.34317\n",
       " 147876 2010-12-14 09:45:00+00:00  1.34315  1.34442  1.34300  1.34356\n",
       " 147877 2010-12-14 09:50:00+00:00  1.34353  1.34371  1.34312  1.34330\n",
       " 147878 2010-12-14 09:55:00+00:00  1.34333  1.34355  1.34265  1.34328\n",
       " 147879 2010-12-14 10:00:00+00:00  1.34326  1.34368  1.34124  1.34230\n",
       " 147880 2010-12-14 10:05:00+00:00  1.34228  1.34450  1.34228  1.34436\n",
       " 147881 2010-12-14 10:10:00+00:00  1.34440  1.34457  1.34386  1.34449\n",
       " 147882 2010-12-14 10:15:00+00:00  1.34453  1.34456  1.34375  1.34409\n",
       " 147883 2010-12-14 10:20:00+00:00  1.34412  1.34452  1.34370  1.34443\n",
       " 147884 2010-12-14 10:25:00+00:00  1.34446  1.34581  1.34446  1.34560\n",
       " 147885 2010-12-14 10:30:00+00:00  1.34562  1.34643  1.34539  1.34553,\n",
       "                        timestamp     open     high      low    close\n",
       " 154068 2011-01-12 09:30:00+00:00  1.30367  1.30402  1.30313  1.30394\n",
       " 154069 2011-01-12 09:35:00+00:00  1.30398  1.30460  1.30366  1.30382\n",
       " 154070 2011-01-12 09:40:00+00:00  1.30384  1.30432  1.30338  1.30350\n",
       " 154071 2011-01-12 09:45:00+00:00  1.30354  1.30380  1.30330  1.30344\n",
       " 154072 2011-01-12 09:50:00+00:00  1.30346  1.30414  1.30258  1.30266\n",
       " 154073 2011-01-12 09:55:00+00:00  1.30264  1.30340  1.30239  1.30338\n",
       " 154074 2011-01-12 10:00:00+00:00  1.30335  1.30341  1.30228  1.30238\n",
       " 154075 2011-01-12 10:05:00+00:00  1.30242  1.30252  1.30174  1.30214\n",
       " 154076 2011-01-12 10:10:00+00:00  1.30212  1.30214  1.30134  1.30168\n",
       " 154077 2011-01-12 10:15:00+00:00  1.30170  1.30292  1.30170  1.30292\n",
       " 154078 2011-01-12 10:20:00+00:00  1.30296  1.30304  1.30186  1.30218\n",
       " 154079 2011-01-12 10:25:00+00:00  1.30222  1.30262  1.30216  1.30220\n",
       " 154080 2011-01-12 10:30:00+00:00  1.30218  1.30372  1.30208  1.30342,\n",
       "                        timestamp     open     high      low    close\n",
       " 161005 2011-02-14 09:30:00+00:00  1.34721  1.34812  1.34721  1.34781\n",
       " 161006 2011-02-14 09:35:00+00:00  1.34779  1.34823  1.34760  1.34816\n",
       " 161007 2011-02-14 09:40:00+00:00  1.34818  1.34823  1.34794  1.34805\n",
       " 161008 2011-02-14 09:45:00+00:00  1.34803  1.34812  1.34719  1.34744\n",
       " 161009 2011-02-14 09:50:00+00:00  1.34742  1.34804  1.34740  1.34761\n",
       " 161010 2011-02-14 09:55:00+00:00  1.34763  1.34763  1.34613  1.34645\n",
       " 161011 2011-02-14 10:00:00+00:00  1.34643  1.34679  1.34612  1.34658\n",
       " 161012 2011-02-14 10:05:00+00:00  1.34655  1.34658  1.34542  1.34595\n",
       " 161013 2011-02-14 10:10:00+00:00  1.34598  1.34682  1.34563  1.34671\n",
       " 161014 2011-02-14 10:15:00+00:00  1.34668  1.34696  1.34643  1.34650\n",
       " 161015 2011-02-14 10:20:00+00:00  1.34647  1.34700  1.34618  1.34638\n",
       " 161016 2011-02-14 10:25:00+00:00  1.34636  1.34640  1.34564  1.34573\n",
       " 161017 2011-02-14 10:30:00+00:00  1.34576  1.34620  1.34555  1.34560,\n",
       "                        timestamp     open     high      low    close\n",
       " 167009 2011-03-14 09:30:00+00:00  1.39458  1.39624  1.39458  1.39612\n",
       " 167010 2011-03-14 09:35:00+00:00  1.39609  1.39644  1.39566  1.39566\n",
       " 167011 2011-03-14 09:40:00+00:00  1.39563  1.39606  1.39512  1.39585\n",
       " 167012 2011-03-14 09:45:00+00:00  1.39582  1.39589  1.39545  1.39545\n",
       " 167013 2011-03-14 09:50:00+00:00  1.39547  1.39559  1.39450  1.39463\n",
       " 167014 2011-03-14 09:55:00+00:00  1.39465  1.39543  1.39463  1.39543\n",
       " 167015 2011-03-14 10:00:00+00:00  1.39546  1.39580  1.39463  1.39465\n",
       " 167016 2011-03-14 10:05:00+00:00  1.39467  1.39550  1.39467  1.39523\n",
       " 167017 2011-03-14 10:10:00+00:00  1.39521  1.39607  1.39521  1.39607\n",
       " 167018 2011-03-14 10:15:00+00:00  1.39609  1.39629  1.39566  1.39622\n",
       " 167019 2011-03-14 10:20:00+00:00  1.39620  1.39667  1.39575  1.39575\n",
       " 167020 2011-03-14 10:25:00+00:00  1.39573  1.39623  1.39571  1.39610\n",
       " 167021 2011-03-14 10:30:00+00:00  1.39613  1.39681  1.39610  1.39674,\n",
       "                        timestamp     open     high      low    close\n",
       " 173548 2011-04-13 08:30:00+00:00  1.44995  1.45040  1.44968  1.45036\n",
       " 173549 2011-04-13 08:35:00+00:00  1.45038  1.45100  1.45029  1.45074\n",
       " 173550 2011-04-13 08:40:00+00:00  1.45072  1.45095  1.45044  1.45059\n",
       " 173551 2011-04-13 08:45:00+00:00  1.45061  1.45068  1.44979  1.45000\n",
       " 173552 2011-04-13 08:50:00+00:00  1.44998  1.45051  1.44979  1.44999\n",
       " 173553 2011-04-13 08:55:00+00:00  1.44997  1.45016  1.44964  1.44983\n",
       " 173554 2011-04-13 09:00:00+00:00  1.44981  1.45000  1.44940  1.44996\n",
       " 173555 2011-04-13 09:05:00+00:00  1.44994  1.45030  1.44988  1.45024\n",
       " 173556 2011-04-13 09:10:00+00:00  1.45022  1.45022  1.44908  1.44925\n",
       " 173557 2011-04-13 09:15:00+00:00  1.44923  1.44923  1.44854  1.44873\n",
       " 173558 2011-04-13 09:20:00+00:00  1.44870  1.44901  1.44854  1.44897\n",
       " 173559 2011-04-13 09:25:00+00:00  1.44895  1.44953  1.44895  1.44948\n",
       " 173560 2011-04-13 09:30:00+00:00  1.44950  1.44952  1.44834  1.44860,\n",
       "                        timestamp     open     high      low    close\n",
       " 179726 2011-05-12 08:30:00+00:00  1.42101  1.42118  1.41969  1.42020\n",
       " 179727 2011-05-12 08:35:00+00:00  1.42018  1.42018  1.41849  1.41862\n",
       " 179728 2011-05-12 08:40:00+00:00  1.41860  1.41963  1.41846  1.41928\n",
       " 179729 2011-05-12 08:45:00+00:00  1.41931  1.41931  1.41788  1.41895\n",
       " 179730 2011-05-12 08:50:00+00:00  1.41893  1.41943  1.41863  1.41939\n",
       " 179731 2011-05-12 08:55:00+00:00  1.41941  1.42008  1.41927  1.41963\n",
       " 179732 2011-05-12 09:00:00+00:00  1.41961  1.41961  1.41723  1.41749\n",
       " 179733 2011-05-12 09:05:00+00:00  1.41752  1.41947  1.41748  1.41947\n",
       " 179734 2011-05-12 09:10:00+00:00  1.41950  1.41959  1.41837  1.41894\n",
       " 179735 2011-05-12 09:15:00+00:00  1.41898  1.42010  1.41890  1.41890\n",
       " 179736 2011-05-12 09:20:00+00:00  1.41888  1.41926  1.41822  1.41846\n",
       " 179737 2011-05-12 09:25:00+00:00  1.41850  1.41866  1.41792  1.41822\n",
       " 179738 2011-05-12 09:30:00+00:00  1.41824  1.41840  1.41624  1.41714,\n",
       "                        timestamp     open     high      low    close\n",
       " 186870 2011-06-15 08:30:00+00:00  1.43750  1.43758  1.43630  1.43644\n",
       " 186871 2011-06-15 08:35:00+00:00  1.43642  1.43652  1.43532  1.43552\n",
       " 186872 2011-06-15 08:40:00+00:00  1.43556  1.43564  1.43482  1.43552\n",
       " 186873 2011-06-15 08:45:00+00:00  1.43556  1.43584  1.43534  1.43564\n",
       " 186874 2011-06-15 08:50:00+00:00  1.43562  1.43582  1.43516  1.43524\n",
       " 186875 2011-06-15 08:55:00+00:00  1.43526  1.43526  1.43355  1.43355\n",
       " 186876 2011-06-15 09:00:00+00:00  1.43357  1.43426  1.43355  1.43384\n",
       " 186877 2011-06-15 09:05:00+00:00  1.43386  1.43388  1.43282  1.43326\n",
       " 186878 2011-06-15 09:10:00+00:00  1.43328  1.43396  1.43318  1.43372\n",
       " 186879 2011-06-15 09:15:00+00:00  1.43370  1.43378  1.43278  1.43324\n",
       " 186880 2011-06-15 09:20:00+00:00  1.43320  1.43346  1.43302  1.43326\n",
       " 186881 2011-06-15 09:25:00+00:00  1.43328  1.43348  1.43162  1.43214\n",
       " 186882 2011-06-15 09:30:00+00:00  1.43212  1.43212  1.43072  1.43102,\n",
       "                        timestamp     open     high      low    close\n",
       " 192817 2011-07-13 08:30:00+00:00  1.40728  1.40728  1.40612  1.40724\n",
       " 192818 2011-07-13 08:35:00+00:00  1.40726  1.40734  1.40562  1.40570\n",
       " 192819 2011-07-13 08:40:00+00:00  1.40567  1.40574  1.40504  1.40560\n",
       " 192820 2011-07-13 08:45:00+00:00  1.40562  1.40612  1.40536  1.40596\n",
       " 192821 2011-07-13 08:50:00+00:00  1.40598  1.40668  1.40558  1.40640\n",
       " 192822 2011-07-13 08:55:00+00:00  1.40638  1.40666  1.40578  1.40641\n",
       " 192823 2011-07-13 09:00:00+00:00  1.40643  1.40754  1.40562  1.40714\n",
       " 192824 2011-07-13 09:05:00+00:00  1.40716  1.40894  1.40678  1.40788\n",
       " 192825 2011-07-13 09:10:00+00:00  1.40786  1.40810  1.40718  1.40724\n",
       " 192826 2011-07-13 09:15:00+00:00  1.40722  1.40818  1.40722  1.40744\n",
       " 192827 2011-07-13 09:20:00+00:00  1.40742  1.40854  1.40736  1.40854\n",
       " 192828 2011-07-13 09:25:00+00:00  1.40856  1.40908  1.40812  1.40904\n",
       " 192829 2011-07-13 09:30:00+00:00  1.40902  1.40986  1.40884  1.40960,\n",
       "                        timestamp     open     high      low    close\n",
       " 199343 2011-08-12 08:30:00+00:00  1.42082  1.42142  1.42014  1.42089\n",
       " 199344 2011-08-12 08:35:00+00:00  1.42092  1.42187  1.42044  1.42187\n",
       " 199345 2011-08-12 08:40:00+00:00  1.42190  1.42282  1.42135  1.42201\n",
       " 199346 2011-08-12 08:45:00+00:00  1.42204  1.42400  1.42187  1.42349\n",
       " 199347 2011-08-12 08:50:00+00:00  1.42346  1.42415  1.42278  1.42317\n",
       " 199348 2011-08-12 08:55:00+00:00  1.42315  1.42347  1.42227  1.42247\n",
       " 199349 2011-08-12 09:00:00+00:00  1.42249  1.42354  1.42183  1.42306\n",
       " 199350 2011-08-12 09:05:00+00:00  1.42304  1.42488  1.42295  1.42477\n",
       " 199351 2011-08-12 09:10:00+00:00  1.42474  1.42485  1.42319  1.42361\n",
       " 199352 2011-08-12 09:15:00+00:00  1.42364  1.42431  1.42335  1.42346\n",
       " 199353 2011-08-12 09:20:00+00:00  1.42349  1.42551  1.42329  1.42509\n",
       " 199354 2011-08-12 09:25:00+00:00  1.42506  1.42559  1.42444  1.42551\n",
       " 199355 2011-08-12 09:30:00+00:00  1.42554  1.42615  1.42508  1.42557,\n",
       "                        timestamp     open     high      low    close\n",
       " 206195 2011-09-14 08:30:00+00:00  1.36441  1.36483  1.36360  1.36470\n",
       " 206196 2011-09-14 08:35:00+00:00  1.36474  1.36478  1.36362  1.36478\n",
       " 206197 2011-09-14 08:40:00+00:00  1.36482  1.36628  1.36436  1.36588\n",
       " 206198 2011-09-14 08:45:00+00:00  1.36591  1.36619  1.36526  1.36536\n",
       " 206199 2011-09-14 08:50:00+00:00  1.36538  1.36653  1.36536  1.36574\n",
       " 206200 2011-09-14 08:55:00+00:00  1.36571  1.36614  1.36569  1.36599\n",
       " 206201 2011-09-14 09:00:00+00:00  1.36601  1.36601  1.36454  1.36492\n",
       " 206202 2011-09-14 09:05:00+00:00  1.36494  1.36572  1.36457  1.36544\n",
       " 206203 2011-09-14 09:10:00+00:00  1.36547  1.36587  1.36512  1.36539\n",
       " 206204 2011-09-14 09:15:00+00:00  1.36536  1.36562  1.36457  1.36509\n",
       " 206205 2011-09-14 09:20:00+00:00  1.36511  1.36531  1.36459  1.36504\n",
       " 206206 2011-09-14 09:25:00+00:00  1.36507  1.36547  1.36408  1.36411\n",
       " 206207 2011-09-14 09:30:00+00:00  1.36414  1.36665  1.36414  1.36633,\n",
       "                        timestamp     open     high      low    close\n",
       " 212155 2011-10-12 08:30:00+00:00  1.37462  1.37538  1.37432  1.37449\n",
       " 212156 2011-10-12 08:35:00+00:00  1.37447  1.37611  1.37424  1.37605\n",
       " 212157 2011-10-12 08:40:00+00:00  1.37608  1.37704  1.37588  1.37608\n",
       " 212158 2011-10-12 08:45:00+00:00  1.37606  1.37608  1.37547  1.37559\n",
       " 212159 2011-10-12 08:50:00+00:00  1.37556  1.37621  1.37539  1.37564\n",
       " 212160 2011-10-12 08:55:00+00:00  1.37562  1.37680  1.37539  1.37659\n",
       " 212161 2011-10-12 09:00:00+00:00  1.37663  1.37746  1.37663  1.37746\n",
       " 212162 2011-10-12 09:05:00+00:00  1.37743  1.37825  1.37655  1.37810\n",
       " 212163 2011-10-12 09:10:00+00:00  1.37812  1.37865  1.37769  1.37791\n",
       " 212164 2011-10-12 09:15:00+00:00  1.37794  1.37939  1.37784  1.37937\n",
       " 212165 2011-10-12 09:20:00+00:00  1.37935  1.38002  1.37892  1.37909\n",
       " 212166 2011-10-12 09:25:00+00:00  1.37911  1.38014  1.37891  1.37930\n",
       " 212167 2011-10-12 09:30:00+00:00  1.37928  1.37987  1.37901  1.37973,\n",
       "                        timestamp     open     high      low    close\n",
       " 219023 2011-11-14 09:30:00+00:00  1.36990  1.37072  1.36888  1.37042\n",
       " 219024 2011-11-14 09:35:00+00:00  1.37046  1.37098  1.36980  1.37018\n",
       " 219025 2011-11-14 09:40:00+00:00  1.37022  1.37042  1.36930  1.36988\n",
       " 219026 2011-11-14 09:45:00+00:00  1.36990  1.37064  1.36976  1.37014\n",
       " 219027 2011-11-14 09:50:00+00:00  1.37010  1.37076  1.36948  1.36948\n",
       " 219028 2011-11-14 09:55:00+00:00  1.36944  1.37002  1.36906  1.36992\n",
       " 219029 2011-11-14 10:00:00+00:00  1.36990  1.37010  1.36866  1.36876\n",
       " 219030 2011-11-14 10:05:00+00:00  1.36872  1.36972  1.36802  1.36950\n",
       " 219031 2011-11-14 10:10:00+00:00  1.36948  1.37008  1.36832  1.36940\n",
       " 219032 2011-11-14 10:15:00+00:00  1.36943  1.37056  1.36940  1.37036\n",
       " 219033 2011-11-14 10:20:00+00:00  1.37034  1.37157  1.37028  1.37129\n",
       " 219034 2011-11-14 10:25:00+00:00  1.37126  1.37208  1.37123  1.37147\n",
       " 219035 2011-11-14 10:30:00+00:00  1.37150  1.37215  1.37044  1.37109,\n",
       "                        timestamp     open     high      low    close\n",
       " 225539 2011-12-14 09:30:00+00:00  1.30410  1.30434  1.30355  1.30408\n",
       " 225540 2011-12-14 09:35:00+00:00  1.30404  1.30432  1.30374  1.30413\n",
       " 225541 2011-12-14 09:40:00+00:00  1.30416  1.30443  1.30337  1.30415\n",
       " 225542 2011-12-14 09:45:00+00:00  1.30417  1.30461  1.30395  1.30461\n",
       " 225543 2011-12-14 09:50:00+00:00  1.30459  1.30503  1.30429  1.30452\n",
       " 225544 2011-12-14 09:55:00+00:00  1.30449  1.30500  1.30387  1.30476\n",
       " 225545 2011-12-14 10:00:00+00:00  1.30480  1.30640  1.30472  1.30561\n",
       " 225546 2011-12-14 10:05:00+00:00  1.30564  1.30596  1.30536  1.30585\n",
       " 225547 2011-12-14 10:10:00+00:00  1.30581  1.30581  1.30364  1.30391\n",
       " 225548 2011-12-14 10:15:00+00:00  1.30393  1.30461  1.30391  1.30416\n",
       " 225549 2011-12-14 10:20:00+00:00  1.30419  1.30427  1.30370  1.30401\n",
       " 225550 2011-12-14 10:25:00+00:00  1.30398  1.30415  1.30302  1.30307\n",
       " 225551 2011-12-14 10:30:00+00:00  1.30304  1.30304  1.30221  1.30272,\n",
       "                        timestamp     open     high      low    close\n",
       " 231662 2012-01-12 09:30:00+00:00  1.27290  1.27301  1.27239  1.27264\n",
       " 231663 2012-01-12 09:35:00+00:00  1.27262  1.27262  1.27191  1.27191\n",
       " 231664 2012-01-12 09:40:00+00:00  1.27193  1.27312  1.27179  1.27284\n",
       " 231665 2012-01-12 09:45:00+00:00  1.27282  1.27397  1.27253  1.27378\n",
       " 231666 2012-01-12 09:50:00+00:00  1.27380  1.27429  1.27372  1.27396\n",
       " 231667 2012-01-12 09:55:00+00:00  1.27394  1.27475  1.27368  1.27470\n",
       " 231668 2012-01-12 10:00:00+00:00  1.27474  1.27558  1.27465  1.27485\n",
       " 231669 2012-01-12 10:05:00+00:00  1.27483  1.27507  1.27416  1.27504\n",
       " 231670 2012-01-12 10:10:00+00:00  1.27507  1.27527  1.27465  1.27487\n",
       " 231671 2012-01-12 10:15:00+00:00  1.27490  1.27589  1.27472  1.27483\n",
       " 231672 2012-01-12 10:20:00+00:00  1.27480  1.27488  1.27402  1.27433\n",
       " 231673 2012-01-12 10:25:00+00:00  1.27430  1.27441  1.27388  1.27390\n",
       " 231674 2012-01-12 10:30:00+00:00  1.27388  1.27460  1.27388  1.27460,\n",
       "                        timestamp     open     high      low    close\n",
       " 238522 2012-02-14 09:30:00+00:00  1.31726  1.31726  1.31649  1.31656\n",
       " 238523 2012-02-14 09:35:00+00:00  1.31653  1.31679  1.31584  1.31646\n",
       " 238524 2012-02-14 09:40:00+00:00  1.31649  1.31740  1.31638  1.31740\n",
       " 238525 2012-02-14 09:45:00+00:00  1.31742  1.31891  1.31736  1.31865\n",
       " 238526 2012-02-14 09:50:00+00:00  1.31867  1.31898  1.31815  1.31829\n",
       " 238527 2012-02-14 09:55:00+00:00  1.31832  1.31883  1.31832  1.31876\n",
       " 238528 2012-02-14 10:00:00+00:00  1.31879  1.32046  1.31879  1.31944\n",
       " 238529 2012-02-14 10:05:00+00:00  1.31947  1.31986  1.31903  1.31924\n",
       " 238530 2012-02-14 10:10:00+00:00  1.31921  1.31972  1.31862  1.31972\n",
       " 238531 2012-02-14 10:15:00+00:00  1.31970  1.32003  1.31913  1.32003\n",
       " 238532 2012-02-14 10:20:00+00:00  1.32001  1.32154  1.32001  1.32151\n",
       " 238533 2012-02-14 10:25:00+00:00  1.32148  1.32151  1.32069  1.32134\n",
       " 238534 2012-02-14 10:30:00+00:00  1.32137  1.32162  1.32043  1.32046,\n",
       "                        timestamp     open     high      low    close\n",
       " 244762 2012-03-14 09:30:00+00:00  1.30665  1.30667  1.30547  1.30547\n",
       " 244763 2012-03-14 09:35:00+00:00  1.30544  1.30586  1.30496  1.30586\n",
       " 244764 2012-03-14 09:40:00+00:00  1.30584  1.30606  1.30547  1.30555\n",
       " 244765 2012-03-14 09:45:00+00:00  1.30558  1.30634  1.30524  1.30598\n",
       " 244766 2012-03-14 09:50:00+00:00  1.30600  1.30617  1.30534  1.30580\n",
       " 244767 2012-03-14 09:55:00+00:00  1.30582  1.30593  1.30540  1.30577\n",
       " 244768 2012-03-14 10:00:00+00:00  1.30573  1.30648  1.30557  1.30644\n",
       " 244769 2012-03-14 10:05:00+00:00  1.30642  1.30694  1.30638  1.30654\n",
       " 244770 2012-03-14 10:10:00+00:00  1.30657  1.30663  1.30612  1.30646\n",
       " 244771 2012-03-14 10:15:00+00:00  1.30649  1.30686  1.30612  1.30626\n",
       " 244772 2012-03-14 10:20:00+00:00  1.30624  1.30694  1.30612  1.30666\n",
       " 244773 2012-03-14 10:25:00+00:00  1.30669  1.30714  1.30669  1.30686\n",
       " 244774 2012-03-14 10:30:00+00:00  1.30683  1.30717  1.30666  1.30701,\n",
       "                        timestamp     open     high      low    close\n",
       " 250869 2012-04-12 08:30:00+00:00  1.31205  1.31327  1.31202  1.31293\n",
       " 250870 2012-04-12 08:35:00+00:00  1.31290  1.31307  1.31256  1.31284\n",
       " 250871 2012-04-12 08:40:00+00:00  1.31282  1.31321  1.31270  1.31321\n",
       " 250872 2012-04-12 08:45:00+00:00  1.31324  1.31372  1.31265  1.31289\n",
       " 250873 2012-04-12 08:50:00+00:00  1.31286  1.31286  1.31190  1.31229\n",
       " 250874 2012-04-12 08:55:00+00:00  1.31232  1.31271  1.31181  1.31191\n",
       " 250875 2012-04-12 09:00:00+00:00  1.31193  1.31358  1.31193  1.31248\n",
       " 250876 2012-04-12 09:05:00+00:00  1.31245  1.31267  1.31062  1.31090\n",
       " 250877 2012-04-12 09:10:00+00:00  1.31093  1.31169  1.31025  1.31132\n",
       " 250878 2012-04-12 09:15:00+00:00  1.31135  1.31247  1.31085  1.31144\n",
       " 250879 2012-04-12 09:20:00+00:00  1.31141  1.31260  1.31136  1.31213\n",
       " 250880 2012-04-12 09:25:00+00:00  1.31216  1.31264  1.31129  1.31231\n",
       " 250881 2012-04-12 09:30:00+00:00  1.31228  1.31261  1.31185  1.31191,\n",
       "                        timestamp     open     high      low    close\n",
       " 257343 2012-05-14 08:30:00+00:00  1.28668  1.28675  1.28624  1.28633\n",
       " 257344 2012-05-14 08:35:00+00:00  1.28631  1.28689  1.28614  1.28689\n",
       " 257345 2012-05-14 08:40:00+00:00  1.28687  1.28706  1.28659  1.28703\n",
       " 257346 2012-05-14 08:45:00+00:00  1.28701  1.28703  1.28656  1.28675\n",
       " 257347 2012-05-14 08:50:00+00:00  1.28677  1.28701  1.28664  1.28687\n",
       " 257348 2012-05-14 08:55:00+00:00  1.28685  1.28685  1.28658  1.28664\n",
       " 257349 2012-05-14 09:00:00+00:00  1.28660  1.28816  1.28640  1.28703\n",
       " 257350 2012-05-14 09:05:00+00:00  1.28706  1.28770  1.28689  1.28751\n",
       " 257351 2012-05-14 09:10:00+00:00  1.28754  1.28791  1.28735  1.28771\n",
       " 257352 2012-05-14 09:15:00+00:00  1.28769  1.28792  1.28760  1.28774\n",
       " 257353 2012-05-14 09:20:00+00:00  1.28771  1.28842  1.28767  1.28824\n",
       " 257354 2012-05-14 09:25:00+00:00  1.28822  1.28822  1.28780  1.28794\n",
       " 257355 2012-05-14 09:30:00+00:00  1.28796  1.28803  1.28737  1.28754,\n",
       "                        timestamp     open     high      low    close\n",
       " 263823 2012-06-13 08:30:00+00:00  1.25235  1.25251  1.25185  1.25188\n",
       " 263824 2012-06-13 08:35:00+00:00  1.25190  1.25206  1.25157  1.25185\n",
       " 263825 2012-06-13 08:40:00+00:00  1.25183  1.25213  1.25124  1.25124\n",
       " 263826 2012-06-13 08:45:00+00:00  1.25127  1.25219  1.25124  1.25215\n",
       " 263827 2012-06-13 08:50:00+00:00  1.25212  1.25212  1.25162  1.25195\n",
       " 263828 2012-06-13 08:55:00+00:00  1.25197  1.25244  1.25188  1.25230\n",
       " 263829 2012-06-13 09:00:00+00:00  1.25232  1.25296  1.25221  1.25256\n",
       " 263830 2012-06-13 09:05:00+00:00  1.25258  1.25270  1.25207  1.25270\n",
       " 263831 2012-06-13 09:10:00+00:00  1.25268  1.25288  1.25242  1.25270\n",
       " 263832 2012-06-13 09:15:00+00:00  1.25272  1.25337  1.25249  1.25330\n",
       " 263833 2012-06-13 09:20:00+00:00  1.25332  1.25495  1.25332  1.25460\n",
       " 263834 2012-06-13 09:25:00+00:00  1.25462  1.25506  1.25432  1.25487\n",
       " 263835 2012-06-13 09:30:00+00:00  1.25489  1.25489  1.25373  1.25415,\n",
       "                        timestamp     open     high      low    close\n",
       " 269951 2012-07-12 08:30:00+00:00  1.22208  1.22257  1.22206  1.22213\n",
       " 269952 2012-07-12 08:35:00+00:00  1.22211  1.22267  1.22211  1.22225\n",
       " 269953 2012-07-12 08:40:00+00:00  1.22227  1.22246  1.22199  1.22213\n",
       " 269954 2012-07-12 08:45:00+00:00  1.22211  1.22246  1.22211  1.22225\n",
       " 269955 2012-07-12 08:50:00+00:00  1.22222  1.22222  1.22157  1.22175\n",
       " 269956 2012-07-12 08:55:00+00:00  1.22173  1.22175  1.22138  1.22164\n",
       " 269957 2012-07-12 09:00:00+00:00  1.22161  1.22166  1.22117  1.22157\n",
       " 269958 2012-07-12 09:05:00+00:00  1.22154  1.22196  1.22119  1.22182\n",
       " 269959 2012-07-12 09:10:00+00:00  1.22180  1.22189  1.22147  1.22189\n",
       " 269960 2012-07-12 09:15:00+00:00  1.22187  1.22228  1.22187  1.22209\n",
       " 269961 2012-07-12 09:20:00+00:00  1.22207  1.22207  1.22179  1.22188\n",
       " 269962 2012-07-12 09:25:00+00:00  1.22190  1.22209  1.22174  1.22191\n",
       " 269963 2012-07-12 09:30:00+00:00  1.22193  1.22255  1.22174  1.22243,\n",
       "                        timestamp     open     high      low    close\n",
       " 276679 2012-08-14 08:30:00+00:00  1.23810  1.23842  1.23734  1.23734\n",
       " 276680 2012-08-14 08:35:00+00:00  1.23736  1.23766  1.23674  1.23702\n",
       " 276681 2012-08-14 08:40:00+00:00  1.23704  1.23724  1.23682  1.23688\n",
       " 276682 2012-08-14 08:45:00+00:00  1.23690  1.23734  1.23662  1.23724\n",
       " 276683 2012-08-14 08:50:00+00:00  1.23722  1.23724  1.23668  1.23680\n",
       " 276684 2012-08-14 08:55:00+00:00  1.23678  1.23720  1.23664  1.23699\n",
       " 276685 2012-08-14 09:00:00+00:00  1.23704  1.23704  1.23584  1.23626\n",
       " 276686 2012-08-14 09:05:00+00:00  1.23624  1.23686  1.23614  1.23664\n",
       " 276687 2012-08-14 09:10:00+00:00  1.23662  1.23684  1.23646  1.23670\n",
       " 276688 2012-08-14 09:15:00+00:00  1.23668  1.23706  1.23648  1.23706\n",
       " 276689 2012-08-14 09:20:00+00:00  1.23708  1.23746  1.23686  1.23702\n",
       " 276690 2012-08-14 09:25:00+00:00  1.23700  1.23720  1.23662  1.23704\n",
       " 276691 2012-08-14 09:30:00+00:00  1.23708  1.23714  1.23626  1.23626,\n",
       "                        timestamp     open     high      low    close\n",
       " 282814 2012-09-12 08:30:00+00:00  1.28854  1.28872  1.28738  1.28742\n",
       " 282815 2012-09-12 08:35:00+00:00  1.28738  1.28886  1.28700  1.28884\n",
       " 282816 2012-09-12 08:40:00+00:00  1.28886  1.29017  1.28884  1.28938\n",
       " 282817 2012-09-12 08:45:00+00:00  1.28940  1.29062  1.28939  1.28991\n",
       " 282818 2012-09-12 08:50:00+00:00  1.28988  1.29009  1.28893  1.28929\n",
       " 282819 2012-09-12 08:55:00+00:00  1.28926  1.28930  1.28804  1.28818\n",
       " 282820 2012-09-12 09:00:00+00:00  1.28820  1.28908  1.28820  1.28884\n",
       " 282821 2012-09-12 09:05:00+00:00  1.28882  1.28898  1.28842  1.28898\n",
       " 282822 2012-09-12 09:10:00+00:00  1.28896  1.28902  1.28838  1.28838\n",
       " 282823 2012-09-12 09:15:00+00:00  1.28840  1.28892  1.28816  1.28886\n",
       " 282824 2012-09-12 09:20:00+00:00  1.28884  1.28912  1.28872  1.28878\n",
       " 282825 2012-09-12 09:25:00+00:00  1.28880  1.28908  1.28874  1.28874\n",
       " 282826 2012-09-12 09:30:00+00:00  1.28870  1.28910  1.28870  1.28890,\n",
       "                        timestamp     open     high      low    close\n",
       " 289250 2012-10-12 08:30:00+00:00  1.29687  1.29700  1.29643  1.29681\n",
       " 289251 2012-10-12 08:35:00+00:00  1.29678  1.29690  1.29646  1.29655\n",
       " 289252 2012-10-12 08:40:00+00:00  1.29657  1.29680  1.29648  1.29662\n",
       " 289253 2012-10-12 08:45:00+00:00  1.29660  1.29747  1.29647  1.29732\n",
       " 289254 2012-10-12 08:50:00+00:00  1.29730  1.29761  1.29685  1.29688\n",
       " 289255 2012-10-12 08:55:00+00:00  1.29690  1.29707  1.29661  1.29684\n",
       " 289256 2012-10-12 09:00:00+00:00  1.29682  1.29727  1.29680  1.29713\n",
       " 289257 2012-10-12 09:05:00+00:00  1.29716  1.29730  1.29608  1.29612\n",
       " 289258 2012-10-12 09:10:00+00:00  1.29615  1.29666  1.29615  1.29639\n",
       " 289259 2012-10-12 09:15:00+00:00  1.29637  1.29642  1.29587  1.29591\n",
       " 289260 2012-10-12 09:20:00+00:00  1.29594  1.29654  1.29592  1.29646\n",
       " 289261 2012-10-12 09:25:00+00:00  1.29648  1.29700  1.29639  1.29672\n",
       " 289262 2012-10-12 09:30:00+00:00  1.29675  1.29680  1.29654  1.29663,\n",
       "                        timestamp     open     high      low    close\n",
       " 295980 2012-11-14 09:30:00+00:00  1.27329  1.27440  1.27314  1.27356\n",
       " 295981 2012-11-14 09:35:00+00:00  1.27359  1.27405  1.27326  1.27373\n",
       " 295982 2012-11-14 09:40:00+00:00  1.27371  1.27477  1.27371  1.27460\n",
       " 295983 2012-11-14 09:45:00+00:00  1.27462  1.27498  1.27442  1.27474\n",
       " 295984 2012-11-14 09:50:00+00:00  1.27476  1.27567  1.27453  1.27541\n",
       " 295985 2012-11-14 09:55:00+00:00  1.27539  1.27543  1.27481  1.27493\n",
       " 295986 2012-11-14 10:00:00+00:00  1.27495  1.27559  1.27459  1.27550\n",
       " 295987 2012-11-14 10:05:00+00:00  1.27552  1.27564  1.27503  1.27508\n",
       " 295988 2012-11-14 10:10:00+00:00  1.27510  1.27510  1.27460  1.27490\n",
       " 295989 2012-11-14 10:15:00+00:00  1.27488  1.27510  1.27452  1.27459\n",
       " 295990 2012-11-14 10:20:00+00:00  1.27457  1.27462  1.27421  1.27428\n",
       " 295991 2012-11-14 10:25:00+00:00  1.27430  1.27459  1.27423  1.27452\n",
       " 295992 2012-11-14 10:30:00+00:00  1.27449  1.27487  1.27414  1.27429,\n",
       "                        timestamp     open     high      low    close\n",
       " 301773 2012-12-12 09:30:00+00:00  1.30188  1.30254  1.30182  1.30184\n",
       " 301774 2012-12-12 09:35:00+00:00  1.30182  1.30194  1.30162  1.30180\n",
       " 301775 2012-12-12 09:40:00+00:00  1.30178  1.30186  1.30148  1.30156\n",
       " 301776 2012-12-12 09:45:00+00:00  1.30158  1.30186  1.30144  1.30178\n",
       " 301777 2012-12-12 09:50:00+00:00  1.30176  1.30176  1.30114  1.30140\n",
       " 301778 2012-12-12 09:55:00+00:00  1.30138  1.30144  1.30114  1.30130\n",
       " 301779 2012-12-12 10:00:00+00:00  1.30128  1.30202  1.30126  1.30188\n",
       " 301780 2012-12-12 10:05:00+00:00  1.30190  1.30208  1.30170  1.30190\n",
       " 301781 2012-12-12 10:10:00+00:00  1.30192  1.30202  1.30180  1.30190\n",
       " 301782 2012-12-12 10:15:00+00:00  1.30188  1.30190  1.30160  1.30170\n",
       " 301783 2012-12-12 10:20:00+00:00  1.30172  1.30202  1.30154  1.30200\n",
       " 301784 2012-12-12 10:25:00+00:00  1.30202  1.30202  1.30160  1.30170\n",
       " 301785 2012-12-12 10:30:00+00:00  1.30168  1.30246  1.30160  1.30222,\n",
       "                        timestamp     open     high      low    close\n",
       " 307624 2013-01-14 09:30:00+00:00  1.33682  1.33738  1.33674  1.33704\n",
       " 307625 2013-01-14 09:35:00+00:00  1.33702  1.33782  1.33690  1.33764\n",
       " 307626 2013-01-14 09:40:00+00:00  1.33764  1.33766  1.33702  1.33709\n",
       " 307627 2013-01-14 09:45:00+00:00  1.33708  1.33790  1.33696  1.33750\n",
       " 307628 2013-01-14 09:50:00+00:00  1.33750  1.33786  1.33729  1.33764\n",
       " 307629 2013-01-14 09:55:00+00:00  1.33766  1.33780  1.33740  1.33742\n",
       " 307630 2013-01-14 10:00:00+00:00  1.33740  1.33906  1.33730  1.33902\n",
       " 307631 2013-01-14 10:05:00+00:00  1.33900  1.33904  1.33822  1.33839\n",
       " 307632 2013-01-14 10:10:00+00:00  1.33841  1.33902  1.33831  1.33895\n",
       " 307633 2013-01-14 10:15:00+00:00  1.33893  1.33893  1.33802  1.33834\n",
       " 307634 2013-01-14 10:20:00+00:00  1.33832  1.33848  1.33795  1.33800\n",
       " 307635 2013-01-14 10:25:00+00:00  1.33800  1.33808  1.33753  1.33769\n",
       " 307636 2013-01-14 10:30:00+00:00  1.33768  1.33790  1.33757  1.33764,\n",
       "                        timestamp     open     high      low    close\n",
       " 314029 2013-02-13 09:30:00+00:00  1.34762  1.34788  1.34734  1.34754\n",
       " 314030 2013-02-13 09:35:00+00:00  1.34754  1.34838  1.34754  1.34838\n",
       " 314031 2013-02-13 09:40:00+00:00  1.34838  1.34878  1.34800  1.34849\n",
       " 314032 2013-02-13 09:45:00+00:00  1.34850  1.34866  1.34823  1.34853\n",
       " 314033 2013-02-13 09:50:00+00:00  1.34853  1.34855  1.34764  1.34786\n",
       " 314034 2013-02-13 09:55:00+00:00  1.34786  1.34791  1.34710  1.34726\n",
       " 314035 2013-02-13 10:00:00+00:00  1.34724  1.34779  1.34723  1.34758\n",
       " 314036 2013-02-13 10:05:00+00:00  1.34758  1.34786  1.34714  1.34718\n",
       " 314037 2013-02-13 10:10:00+00:00  1.34720  1.34796  1.34705  1.34754\n",
       " 314038 2013-02-13 10:15:00+00:00  1.34750  1.34785  1.34734  1.34754\n",
       " 314039 2013-02-13 10:20:00+00:00  1.34751  1.34751  1.34610  1.34655\n",
       " 314040 2013-02-13 10:25:00+00:00  1.34656  1.34688  1.34646  1.34686\n",
       " 314041 2013-02-13 10:30:00+00:00  1.34685  1.34760  1.34680  1.34692,\n",
       "                        timestamp     open     high      low    close\n",
       " 319797 2013-03-13 09:30:00+00:00  1.30242  1.30256  1.30206  1.30252\n",
       " 319798 2013-03-13 09:35:00+00:00  1.30252  1.30256  1.30198  1.30219\n",
       " 319799 2013-03-13 09:40:00+00:00  1.30218  1.30236  1.30194  1.30215\n",
       " 319800 2013-03-13 09:45:00+00:00  1.30214  1.30274  1.30210  1.30234\n",
       " 319801 2013-03-13 09:50:00+00:00  1.30234  1.30234  1.30196  1.30200\n",
       " 319802 2013-03-13 09:55:00+00:00  1.30200  1.30232  1.30179  1.30215\n",
       " 319803 2013-03-13 10:00:00+00:00  1.30214  1.30248  1.30162  1.30231\n",
       " 319804 2013-03-13 10:05:00+00:00  1.30230  1.30268  1.30208  1.30256\n",
       " 319805 2013-03-13 10:10:00+00:00  1.30256  1.30290  1.30245  1.30282\n",
       " 319806 2013-03-13 10:15:00+00:00  1.30282  1.30302  1.30119  1.30172\n",
       " 319807 2013-03-13 10:20:00+00:00  1.30174  1.30195  1.30124  1.30172\n",
       " 319808 2013-03-13 10:25:00+00:00  1.30172  1.30196  1.30153  1.30190\n",
       " 319809 2013-03-13 10:30:00+00:00  1.30190  1.30268  1.30154  1.30211,\n",
       "                        timestamp     open     high      low    close\n",
       " 326113 2013-04-12 08:30:00+00:00  1.30684  1.30726  1.30672  1.30724\n",
       " 326114 2013-04-12 08:35:00+00:00  1.30722  1.30732  1.30659  1.30674\n",
       " 326115 2013-04-12 08:40:00+00:00  1.30675  1.30734  1.30637  1.30711\n",
       " 326116 2013-04-12 08:45:00+00:00  1.30713  1.30746  1.30673  1.30695\n",
       " 326117 2013-04-12 08:50:00+00:00  1.30695  1.30710  1.30673  1.30693\n",
       " 326118 2013-04-12 08:55:00+00:00  1.30692  1.30696  1.30611  1.30630\n",
       " 326119 2013-04-12 09:00:00+00:00  1.30630  1.30649  1.30534  1.30584\n",
       " 326120 2013-04-12 09:05:00+00:00  1.30585  1.30602  1.30572  1.30581\n",
       " 326121 2013-04-12 09:10:00+00:00  1.30580  1.30584  1.30494  1.30514\n",
       " 326122 2013-04-12 09:15:00+00:00  1.30514  1.30556  1.30460  1.30488\n",
       " 326123 2013-04-12 09:20:00+00:00  1.30488  1.30512  1.30403  1.30439\n",
       " 326124 2013-04-12 09:25:00+00:00  1.30437  1.30550  1.30411  1.30500\n",
       " 326125 2013-04-12 09:30:00+00:00  1.30499  1.30513  1.30454  1.30474,\n",
       "                        timestamp     open     high      low    close\n",
       " 332442 2013-05-14 08:30:00+00:00  1.30051  1.30062  1.30012  1.30029\n",
       " 332443 2013-05-14 08:35:00+00:00  1.30030  1.30074  1.30020  1.30066\n",
       " 332444 2013-05-14 08:40:00+00:00  1.30066  1.30100  1.30046  1.30048\n",
       " 332445 2013-05-14 08:45:00+00:00  1.30048  1.30058  1.29960  1.29968\n",
       " 332446 2013-05-14 08:50:00+00:00  1.29965  1.30040  1.29946  1.30024\n",
       " 332447 2013-05-14 08:55:00+00:00  1.30022  1.30046  1.29960  1.30035\n",
       " 332448 2013-05-14 09:00:00+00:00  1.30030  1.30030  1.29840  1.29906\n",
       " 332449 2013-05-14 09:05:00+00:00  1.29906  1.30054  1.29904  1.30047\n",
       " 332450 2013-05-14 09:10:00+00:00  1.30046  1.30293  1.30030  1.30216\n",
       " 332451 2013-05-14 09:15:00+00:00  1.30216  1.30278  1.30178  1.30183\n",
       " 332452 2013-05-14 09:20:00+00:00  1.30181  1.30184  1.30138  1.30141\n",
       " 332453 2013-05-14 09:25:00+00:00  1.30142  1.30224  1.30141  1.30200\n",
       " 332454 2013-05-14 09:30:00+00:00  1.30200  1.30236  1.30140  1.30189,\n",
       "                        timestamp     open     high      low    close\n",
       " 338476 2013-06-12 08:30:00+00:00  1.32928  1.32936  1.32788  1.32837\n",
       " 338477 2013-06-12 08:35:00+00:00  1.32835  1.32854  1.32788  1.32839\n",
       " 338478 2013-06-12 08:40:00+00:00  1.32840  1.32864  1.32812  1.32854\n",
       " 338479 2013-06-12 08:45:00+00:00  1.32856  1.32894  1.32836  1.32894\n",
       " 338480 2013-06-12 08:50:00+00:00  1.32894  1.32954  1.32864  1.32909\n",
       " 338481 2013-06-12 08:55:00+00:00  1.32908  1.32976  1.32889  1.32976\n",
       " 338482 2013-06-12 09:00:00+00:00  1.32975  1.32975  1.32854  1.32884\n",
       " 338483 2013-06-12 09:05:00+00:00  1.32886  1.32909  1.32836  1.32838\n",
       " 338484 2013-06-12 09:10:00+00:00  1.32838  1.32895  1.32834  1.32890\n",
       " 338485 2013-06-12 09:15:00+00:00  1.32891  1.32942  1.32858  1.32870\n",
       " 338486 2013-06-12 09:20:00+00:00  1.32870  1.32914  1.32860  1.32878\n",
       " 338487 2013-06-12 09:25:00+00:00  1.32876  1.32891  1.32843  1.32862\n",
       " 338488 2013-06-12 09:30:00+00:00  1.32862  1.32862  1.32735  1.32780,\n",
       "                        timestamp     open     high      low    close\n",
       " 344804 2013-07-12 08:30:00+00:00  1.30470  1.30492  1.30430  1.30440\n",
       " 344805 2013-07-12 08:35:00+00:00  1.30440  1.30466  1.30413  1.30414\n",
       " 344806 2013-07-12 08:40:00+00:00  1.30412  1.30444  1.30398  1.30440\n",
       " 344807 2013-07-12 08:45:00+00:00  1.30440  1.30444  1.30395  1.30410\n",
       " 344808 2013-07-12 08:50:00+00:00  1.30410  1.30434  1.30400  1.30413\n",
       " 344809 2013-07-12 08:55:00+00:00  1.30414  1.30444  1.30371  1.30388\n",
       " 344810 2013-07-12 09:00:00+00:00  1.30388  1.30448  1.30379  1.30448\n",
       " 344811 2013-07-12 09:05:00+00:00  1.30448  1.30492  1.30448  1.30464\n",
       " 344812 2013-07-12 09:10:00+00:00  1.30462  1.30472  1.30430  1.30450\n",
       " 344813 2013-07-12 09:15:00+00:00  1.30450  1.30490  1.30441  1.30466\n",
       " 344814 2013-07-12 09:20:00+00:00  1.30462  1.30492  1.30452  1.30483\n",
       " 344815 2013-07-12 09:25:00+00:00  1.30484  1.30534  1.30452  1.30522\n",
       " 344816 2013-07-12 09:30:00+00:00  1.30520  1.30536  1.30482  1.30536,\n",
       "                        timestamp     open     high      low    close\n",
       " 351103 2013-08-13 08:30:00+00:00  1.32850  1.32904  1.32842  1.32873\n",
       " 351104 2013-08-13 08:35:00+00:00  1.32874  1.32906  1.32869  1.32876\n",
       " 351105 2013-08-13 08:40:00+00:00  1.32874  1.32890  1.32840  1.32859\n",
       " 351106 2013-08-13 08:45:00+00:00  1.32859  1.32953  1.32859  1.32936\n",
       " 351107 2013-08-13 08:50:00+00:00  1.32937  1.32976  1.32921  1.32956\n",
       " 351108 2013-08-13 08:55:00+00:00  1.32957  1.32993  1.32948  1.32975\n",
       " 351109 2013-08-13 09:00:00+00:00  1.32978  1.33104  1.32970  1.33028\n",
       " 351110 2013-08-13 09:05:00+00:00  1.33029  1.33067  1.33006  1.33018\n",
       " 351111 2013-08-13 09:10:00+00:00  1.33018  1.33112  1.33018  1.33108\n",
       " 351112 2013-08-13 09:15:00+00:00  1.33109  1.33160  1.33106  1.33141\n",
       " 351113 2013-08-13 09:20:00+00:00  1.33140  1.33174  1.33064  1.33086\n",
       " 351114 2013-08-13 09:25:00+00:00  1.33088  1.33107  1.33078  1.33086\n",
       " 351115 2013-08-13 09:30:00+00:00  1.33087  1.33108  1.33086  1.33100,\n",
       "                        timestamp     open     high      low    close\n",
       " 357430 2013-09-12 08:30:00+00:00  1.32945  1.32955  1.32930  1.32933\n",
       " 357431 2013-09-12 08:35:00+00:00  1.32933  1.32966  1.32930  1.32952\n",
       " 357432 2013-09-12 08:40:00+00:00  1.32954  1.32994  1.32954  1.32992\n",
       " 357433 2013-09-12 08:45:00+00:00  1.32990  1.32994  1.32952  1.32952\n",
       " 357434 2013-09-12 08:50:00+00:00  1.32952  1.32956  1.32898  1.32901\n",
       " 357435 2013-09-12 08:55:00+00:00  1.32902  1.32913  1.32872  1.32875\n",
       " 357436 2013-09-12 09:00:00+00:00  1.32874  1.32882  1.32845  1.32865\n",
       " 357437 2013-09-12 09:05:00+00:00  1.32866  1.32893  1.32864  1.32884\n",
       " 357438 2013-09-12 09:10:00+00:00  1.32882  1.32925  1.32874  1.32910\n",
       " 357439 2013-09-12 09:15:00+00:00  1.32912  1.32936  1.32898  1.32936\n",
       " 357440 2013-09-12 09:20:00+00:00  1.32936  1.32948  1.32883  1.32891\n",
       " 357441 2013-09-12 09:25:00+00:00  1.32892  1.32914  1.32878  1.32892\n",
       " 357442 2013-09-12 09:30:00+00:00  1.32892  1.32914  1.32882  1.32912,\n",
       "                        timestamp     open     high      low    close\n",
       " 363747 2013-10-14 08:30:00+00:00  1.35540  1.35554  1.35528  1.35530\n",
       " 363748 2013-10-14 08:35:00+00:00  1.35530  1.35560  1.35528  1.35544\n",
       " 363749 2013-10-14 08:40:00+00:00  1.35544  1.35546  1.35508  1.35508\n",
       " 363750 2013-10-14 08:45:00+00:00  1.35508  1.35516  1.35472  1.35472\n",
       " 363751 2013-10-14 08:50:00+00:00  1.35470  1.35514  1.35454  1.35504\n",
       " 363752 2013-10-14 08:55:00+00:00  1.35502  1.35550  1.35498  1.35533\n",
       " 363753 2013-10-14 09:00:00+00:00  1.35530  1.35554  1.35516  1.35552\n",
       " 363754 2013-10-14 09:05:00+00:00  1.35552  1.35554  1.35528  1.35554\n",
       " 363755 2013-10-14 09:10:00+00:00  1.35553  1.35561  1.35540  1.35550\n",
       " 363756 2013-10-14 09:15:00+00:00  1.35550  1.35578  1.35536  1.35538\n",
       " 363757 2013-10-14 09:20:00+00:00  1.35540  1.35548  1.35522  1.35539\n",
       " 363758 2013-10-14 09:25:00+00:00  1.35539  1.35540  1.35516  1.35528\n",
       " 363759 2013-10-14 09:30:00+00:00  1.35526  1.35534  1.35517  1.35532,\n",
       "                        timestamp     open     high      low    close\n",
       " 370067 2013-11-13 09:30:00+00:00  1.34322  1.34340  1.34270  1.34280\n",
       " 370068 2013-11-13 09:35:00+00:00  1.34279  1.34296  1.34269  1.34276\n",
       " 370069 2013-11-13 09:40:00+00:00  1.34278  1.34290  1.34193  1.34206\n",
       " 370070 2013-11-13 09:45:00+00:00  1.34208  1.34248  1.34186  1.34219\n",
       " 370071 2013-11-13 09:50:00+00:00  1.34219  1.34228  1.34160  1.34187\n",
       " 370072 2013-11-13 09:55:00+00:00  1.34188  1.34199  1.34132  1.34145\n",
       " 370073 2013-11-13 10:00:00+00:00  1.34144  1.34218  1.34122  1.34214\n",
       " 370074 2013-11-13 10:05:00+00:00  1.34216  1.34218  1.34124  1.34155\n",
       " 370075 2013-11-13 10:10:00+00:00  1.34155  1.34193  1.34126  1.34169\n",
       " 370076 2013-11-13 10:15:00+00:00  1.34169  1.34182  1.34160  1.34171\n",
       " 370077 2013-11-13 10:20:00+00:00  1.34171  1.34188  1.34146  1.34184\n",
       " 370078 2013-11-13 10:25:00+00:00  1.34184  1.34187  1.34162  1.34172\n",
       " 370079 2013-11-13 10:30:00+00:00  1.34172  1.34194  1.34090  1.34178,\n",
       "                        timestamp     open     high      low    close\n",
       " 376107 2013-12-12 09:30:00+00:00  1.37796  1.37803  1.37728  1.37762\n",
       " 376108 2013-12-12 09:35:00+00:00  1.37762  1.37796  1.37724  1.37748\n",
       " 376109 2013-12-12 09:40:00+00:00  1.37748  1.37774  1.37711  1.37718\n",
       " 376110 2013-12-12 09:45:00+00:00  1.37718  1.37725  1.37670  1.37673\n",
       " 376111 2013-12-12 09:50:00+00:00  1.37673  1.37698  1.37641  1.37682\n",
       " 376112 2013-12-12 09:55:00+00:00  1.37684  1.37696  1.37644  1.37678\n",
       " 376113 2013-12-12 10:00:00+00:00  1.37677  1.37700  1.37652  1.37693\n",
       " 376114 2013-12-12 10:05:00+00:00  1.37694  1.37748  1.37694  1.37738\n",
       " 376115 2013-12-12 10:10:00+00:00  1.37736  1.37767  1.37708  1.37765\n",
       " 376116 2013-12-12 10:15:00+00:00  1.37764  1.37774  1.37736  1.37742\n",
       " 376117 2013-12-12 10:20:00+00:00  1.37739  1.37751  1.37714  1.37722\n",
       " 376118 2013-12-12 10:25:00+00:00  1.37721  1.37734  1.37714  1.37734\n",
       " 376119 2013-12-12 10:30:00+00:00  1.37734  1.37750  1.37734  1.37742,\n",
       "                        timestamp     open     high      low    close\n",
       " 382050 2014-01-14 09:30:00+00:00  1.36782  1.36837  1.36763  1.36810\n",
       " 382051 2014-01-14 09:35:00+00:00  1.36808  1.36819  1.36778  1.36789\n",
       " 382052 2014-01-14 09:40:00+00:00  1.36791  1.36799  1.36762  1.36764\n",
       " 382053 2014-01-14 09:45:00+00:00  1.36766  1.36789  1.36710  1.36725\n",
       " 382054 2014-01-14 09:50:00+00:00  1.36726  1.36740  1.36694  1.36709\n",
       " 382055 2014-01-14 09:55:00+00:00  1.36710  1.36739  1.36708  1.36736\n",
       " 382056 2014-01-14 10:00:00+00:00  1.36734  1.36756  1.36728  1.36738\n",
       " 382057 2014-01-14 10:05:00+00:00  1.36736  1.36739  1.36718  1.36731\n",
       " 382058 2014-01-14 10:10:00+00:00  1.36729  1.36746  1.36720  1.36738\n",
       " 382059 2014-01-14 10:15:00+00:00  1.36736  1.36755  1.36624  1.36662\n",
       " 382060 2014-01-14 10:20:00+00:00  1.36663  1.36712  1.36638  1.36712\n",
       " 382061 2014-01-14 10:25:00+00:00  1.36713  1.36742  1.36698  1.36729\n",
       " 382062 2014-01-14 10:30:00+00:00  1.36729  1.36784  1.36724  1.36764,\n",
       "                        timestamp     open     high      low    close\n",
       " 388085 2014-02-12 09:30:00+00:00  1.36390  1.36440  1.36385  1.36418\n",
       " 388086 2014-02-12 09:35:00+00:00  1.36419  1.36449  1.36412  1.36433\n",
       " 388087 2014-02-12 09:40:00+00:00  1.36434  1.36448  1.36426  1.36435\n",
       " 388088 2014-02-12 09:45:00+00:00  1.36433  1.36458  1.36428  1.36443\n",
       " 388089 2014-02-12 09:50:00+00:00  1.36444  1.36444  1.36426  1.36431\n",
       " 388090 2014-02-12 09:55:00+00:00  1.36431  1.36457  1.36421  1.36441\n",
       " 388091 2014-02-12 10:00:00+00:00  1.36440  1.36440  1.36370  1.36378\n",
       " 388092 2014-02-12 10:05:00+00:00  1.36376  1.36387  1.36366  1.36380\n",
       " 388093 2014-02-12 10:10:00+00:00  1.36382  1.36398  1.36378  1.36396\n",
       " 388094 2014-02-12 10:15:00+00:00  1.36396  1.36448  1.36393  1.36442\n",
       " 388095 2014-02-12 10:20:00+00:00  1.36440  1.36456  1.36423  1.36453\n",
       " 388096 2014-02-12 10:25:00+00:00  1.36452  1.36528  1.36449  1.36506\n",
       " 388097 2014-02-12 10:30:00+00:00  1.36506  1.36509  1.36406  1.36408,\n",
       "                        timestamp     open     high      low    close\n",
       " 393824 2014-03-12 09:30:00+00:00  1.38548  1.38558  1.38535  1.38542\n",
       " 393825 2014-03-12 09:35:00+00:00  1.38542  1.38580  1.38540  1.38574\n",
       " 393826 2014-03-12 09:40:00+00:00  1.38576  1.38672  1.38573  1.38646\n",
       " 393827 2014-03-12 09:45:00+00:00  1.38646  1.38646  1.38596  1.38600\n",
       " 393828 2014-03-12 09:50:00+00:00  1.38600  1.38618  1.38565  1.38602\n",
       " 393829 2014-03-12 09:55:00+00:00  1.38602  1.38637  1.38592  1.38596\n",
       " 393830 2014-03-12 10:00:00+00:00  1.38594  1.38594  1.38571  1.38578\n",
       " 393831 2014-03-12 10:05:00+00:00  1.38578  1.38593  1.38575  1.38588\n",
       " 393832 2014-03-12 10:10:00+00:00  1.38588  1.38622  1.38588  1.38594\n",
       " 393833 2014-03-12 10:15:00+00:00  1.38596  1.38615  1.38574  1.38585\n",
       " 393834 2014-03-12 10:20:00+00:00  1.38586  1.38622  1.38586  1.38616\n",
       " 393835 2014-03-12 10:25:00+00:00  1.38615  1.38688  1.38610  1.38668\n",
       " 393836 2014-03-12 10:30:00+00:00  1.38666  1.38748  1.38660  1.38689,\n",
       "                        timestamp     open     high      low    close\n",
       " 400426 2014-04-14 08:30:00+00:00  1.38472  1.38475  1.38434  1.38434\n",
       " 400427 2014-04-14 08:35:00+00:00  1.38433  1.38443  1.38362  1.38368\n",
       " 400428 2014-04-14 08:40:00+00:00  1.38369  1.38373  1.38271  1.38315\n",
       " 400429 2014-04-14 08:45:00+00:00  1.38316  1.38322  1.38243  1.38276\n",
       " 400430 2014-04-14 08:50:00+00:00  1.38276  1.38284  1.38228  1.38234\n",
       " 400431 2014-04-14 08:55:00+00:00  1.38236  1.38258  1.38196  1.38202\n",
       " 400432 2014-04-14 09:00:00+00:00  1.38201  1.38229  1.38157  1.38226\n",
       " 400433 2014-04-14 09:05:00+00:00  1.38226  1.38234  1.38203  1.38232\n",
       " 400434 2014-04-14 09:10:00+00:00  1.38230  1.38244  1.38202  1.38235\n",
       " 400435 2014-04-14 09:15:00+00:00  1.38234  1.38244  1.38215  1.38221\n",
       " 400436 2014-04-14 09:20:00+00:00  1.38220  1.38230  1.38212  1.38220\n",
       " 400437 2014-04-14 09:25:00+00:00  1.38223  1.38238  1.38214  1.38221\n",
       " 400438 2014-04-14 09:30:00+00:00  1.38223  1.38258  1.38216  1.38256,\n",
       "                        timestamp     open     high      low    close\n",
       " 406753 2014-05-14 08:30:00+00:00  1.37136  1.37171  1.37128  1.37170\n",
       " 406754 2014-05-14 08:35:00+00:00  1.37172  1.37190  1.37160  1.37185\n",
       " 406755 2014-05-14 08:40:00+00:00  1.37184  1.37186  1.37162  1.37178\n",
       " 406756 2014-05-14 08:45:00+00:00  1.37180  1.37194  1.37168  1.37190\n",
       " 406757 2014-05-14 08:50:00+00:00  1.37192  1.37244  1.37192  1.37214\n",
       " 406758 2014-05-14 08:55:00+00:00  1.37215  1.37256  1.37196  1.37250\n",
       " 406759 2014-05-14 09:00:00+00:00  1.37247  1.37250  1.37186  1.37196\n",
       " 406760 2014-05-14 09:05:00+00:00  1.37194  1.37220  1.37176  1.37214\n",
       " 406761 2014-05-14 09:10:00+00:00  1.37214  1.37214  1.37187  1.37210\n",
       " 406762 2014-05-14 09:15:00+00:00  1.37210  1.37240  1.37206  1.37240\n",
       " 406763 2014-05-14 09:20:00+00:00  1.37239  1.37260  1.37210  1.37216\n",
       " 406764 2014-05-14 09:25:00+00:00  1.37217  1.37222  1.37193  1.37198\n",
       " 406765 2014-05-14 09:30:00+00:00  1.37198  1.37198  1.37088  1.37130,\n",
       "                        timestamp     open     high      low    close\n",
       " 412792 2014-06-12 08:30:00+00:00  1.35255  1.35278  1.35222  1.35233\n",
       " 412793 2014-06-12 08:35:00+00:00  1.35234  1.35279  1.35220  1.35278\n",
       " 412794 2014-06-12 08:40:00+00:00  1.35280  1.35306  1.35274  1.35301\n",
       " 412795 2014-06-12 08:45:00+00:00  1.35298  1.35334  1.35289  1.35320\n",
       " 412796 2014-06-12 08:50:00+00:00  1.35318  1.35318  1.35281  1.35298\n",
       " 412797 2014-06-12 08:55:00+00:00  1.35296  1.35309  1.35266  1.35280\n",
       " 412798 2014-06-12 09:00:00+00:00  1.35280  1.35314  1.35278  1.35278\n",
       " 412799 2014-06-12 09:05:00+00:00  1.35281  1.35288  1.35253  1.35266\n",
       " 412800 2014-06-12 09:10:00+00:00  1.35263  1.35277  1.35240  1.35258\n",
       " 412801 2014-06-12 09:15:00+00:00  1.35260  1.35291  1.35252  1.35276\n",
       " 412802 2014-06-12 09:20:00+00:00  1.35274  1.35288  1.35258  1.35260\n",
       " 412803 2014-06-12 09:25:00+00:00  1.35260  1.35272  1.35251  1.35259\n",
       " 412804 2014-06-12 09:30:00+00:00  1.35258  1.35258  1.35236  1.35236,\n",
       "                        timestamp     open     high      low    close\n",
       " 419119 2014-07-14 08:30:00+00:00  1.36319  1.36336  1.36312  1.36320\n",
       " 419120 2014-07-14 08:35:00+00:00  1.36320  1.36329  1.36312  1.36318\n",
       " 419121 2014-07-14 08:40:00+00:00  1.36320  1.36320  1.36308  1.36310\n",
       " 419122 2014-07-14 08:45:00+00:00  1.36309  1.36312  1.36283  1.36300\n",
       " 419123 2014-07-14 08:50:00+00:00  1.36302  1.36306  1.36278  1.36285\n",
       " 419124 2014-07-14 08:55:00+00:00  1.36284  1.36294  1.36282  1.36292\n",
       " 419125 2014-07-14 09:00:00+00:00  1.36290  1.36303  1.36269  1.36269\n",
       " 419126 2014-07-14 09:05:00+00:00  1.36268  1.36268  1.36235  1.36256\n",
       " 419127 2014-07-14 09:10:00+00:00  1.36254  1.36256  1.36230  1.36240\n",
       " 419128 2014-07-14 09:15:00+00:00  1.36238  1.36242  1.36232  1.36242\n",
       " 419129 2014-07-14 09:20:00+00:00  1.36244  1.36256  1.36244  1.36254\n",
       " 419130 2014-07-14 09:25:00+00:00  1.36253  1.36256  1.36245  1.36256\n",
       " 419131 2014-07-14 09:30:00+00:00  1.36254  1.36258  1.36237  1.36243,\n",
       "                        timestamp     open     high      low    close\n",
       " 425420 2014-08-13 08:30:00+00:00  1.33496  1.33565  1.33496  1.33552\n",
       " 425421 2014-08-13 08:35:00+00:00  1.33550  1.33554  1.33534  1.33534\n",
       " 425422 2014-08-13 08:40:00+00:00  1.33536  1.33556  1.33536  1.33550\n",
       " 425423 2014-08-13 08:45:00+00:00  1.33554  1.33564  1.33537  1.33537\n",
       " 425424 2014-08-13 08:50:00+00:00  1.33534  1.33546  1.33524  1.33524\n",
       " 425425 2014-08-13 08:55:00+00:00  1.33524  1.33528  1.33494  1.33501\n",
       " 425426 2014-08-13 09:00:00+00:00  1.33496  1.33506  1.33467  1.33476\n",
       " 425427 2014-08-13 09:05:00+00:00  1.33480  1.33480  1.33464  1.33468\n",
       " 425428 2014-08-13 09:10:00+00:00  1.33463  1.33486  1.33457  1.33468\n",
       " 425429 2014-08-13 09:15:00+00:00  1.33464  1.33468  1.33457  1.33464\n",
       " 425430 2014-08-13 09:20:00+00:00  1.33466  1.33470  1.33446  1.33446\n",
       " 425431 2014-08-13 09:25:00+00:00  1.33444  1.33462  1.33434  1.33458\n",
       " 425432 2014-08-13 09:30:00+00:00  1.33454  1.33583  1.33424  1.33583,\n",
       "                        timestamp     open     high      low    close\n",
       " 431680 2014-09-12 08:30:00+00:00  1.29222  1.29244  1.29214  1.29230\n",
       " 431681 2014-09-12 08:35:00+00:00  1.29226  1.29226  1.29186  1.29194\n",
       " 431682 2014-09-12 08:40:00+00:00  1.29198  1.29262  1.29198  1.29252\n",
       " 431683 2014-09-12 08:45:00+00:00  1.29256  1.29258  1.29234  1.29234\n",
       " 431684 2014-09-12 08:50:00+00:00  1.29238  1.29250  1.29220  1.29228\n",
       " 431685 2014-09-12 08:55:00+00:00  1.29232  1.29250  1.29220  1.29248\n",
       " 431686 2014-09-12 09:00:00+00:00  1.29245  1.29304  1.29218  1.29290\n",
       " 431687 2014-09-12 09:05:00+00:00  1.29294  1.29322  1.29272  1.29272\n",
       " 431688 2014-09-12 09:10:00+00:00  1.29268  1.29272  1.29208  1.29208\n",
       " 431689 2014-09-12 09:15:00+00:00  1.29212  1.29234  1.29208  1.29208\n",
       " 431690 2014-09-12 09:20:00+00:00  1.29204  1.29242  1.29204  1.29240\n",
       " 431691 2014-09-12 09:25:00+00:00  1.29236  1.29246  1.29222  1.29228\n",
       " 431692 2014-09-12 09:30:00+00:00  1.29224  1.29276  1.29218  1.29258,\n",
       "                        timestamp     open     high      low    close\n",
       " 437982 2014-10-14 08:30:00+00:00  1.26814  1.26910  1.26806  1.26908\n",
       " 437983 2014-10-14 08:35:00+00:00  1.26912  1.26946  1.26890  1.26928\n",
       " 437984 2014-10-14 08:40:00+00:00  1.26923  1.27018  1.26916  1.26962\n",
       " 437985 2014-10-14 08:45:00+00:00  1.26959  1.27005  1.26940  1.27005\n",
       " 437986 2014-10-14 08:50:00+00:00  1.27002  1.27018  1.26954  1.26957\n",
       " 437987 2014-10-14 08:55:00+00:00  1.26954  1.26954  1.26812  1.26820\n",
       " 437988 2014-10-14 09:00:00+00:00  1.26830  1.26834  1.26654  1.26704\n",
       " 437989 2014-10-14 09:05:00+00:00  1.26699  1.26776  1.26684  1.26724\n",
       " 437990 2014-10-14 09:10:00+00:00  1.26727  1.26727  1.26573  1.26628\n",
       " 437991 2014-10-14 09:15:00+00:00  1.26625  1.26625  1.26517  1.26600\n",
       " 437992 2014-10-14 09:20:00+00:00  1.26604  1.26640  1.26590  1.26631\n",
       " 437993 2014-10-14 09:25:00+00:00  1.26634  1.26673  1.26571  1.26582\n",
       " 437994 2014-10-14 09:30:00+00:00  1.26577  1.26577  1.26498  1.26543,\n",
       "                        timestamp     open     high      low    close\n",
       " 444010 2014-11-12 09:30:00+00:00  1.24637  1.24638  1.24534  1.24554\n",
       " 444011 2014-11-12 09:35:00+00:00  1.24550  1.24552  1.24344  1.24368\n",
       " 444012 2014-11-12 09:40:00+00:00  1.24368  1.24374  1.24302  1.24366\n",
       " 444013 2014-11-12 09:45:00+00:00  1.24362  1.24413  1.24348  1.24393\n",
       " 444014 2014-11-12 09:50:00+00:00  1.24394  1.24418  1.24334  1.24360\n",
       " 444015 2014-11-12 09:55:00+00:00  1.24362  1.24402  1.24354  1.24396\n",
       " 444016 2014-11-12 10:00:00+00:00  1.24395  1.24469  1.24382  1.24434\n",
       " 444017 2014-11-12 10:05:00+00:00  1.24434  1.24447  1.24420  1.24447\n",
       " 444018 2014-11-12 10:10:00+00:00  1.24448  1.24533  1.24448  1.24527\n",
       " 444019 2014-11-12 10:15:00+00:00  1.24530  1.24546  1.24490  1.24500\n",
       " 444020 2014-11-12 10:20:00+00:00  1.24496  1.24529  1.24488  1.24512\n",
       " 444021 2014-11-12 10:25:00+00:00  1.24512  1.24516  1.24451  1.24454\n",
       " 444022 2014-11-12 10:30:00+00:00  1.24454  1.24540  1.24416  1.24532,\n",
       "                        timestamp     open     high      low    close\n",
       " 450327 2014-12-12 09:30:00+00:00  1.24306  1.24344  1.24262  1.24303\n",
       " 450328 2014-12-12 09:35:00+00:00  1.24306  1.24362  1.24286  1.24330\n",
       " 450329 2014-12-12 09:40:00+00:00  1.24332  1.24346  1.24270  1.24317\n",
       " 450330 2014-12-12 09:45:00+00:00  1.24314  1.24314  1.24251  1.24262\n",
       " 450331 2014-12-12 09:50:00+00:00  1.24264  1.24282  1.24236  1.24280\n",
       " 450332 2014-12-12 09:55:00+00:00  1.24283  1.24328  1.24255  1.24262\n",
       " 450333 2014-12-12 10:00:00+00:00  1.24258  1.24333  1.24248  1.24302\n",
       " 450334 2014-12-12 10:05:00+00:00  1.24300  1.24306  1.24257  1.24258\n",
       " 450335 2014-12-12 10:10:00+00:00  1.24258  1.24314  1.24258  1.24296\n",
       " 450336 2014-12-12 10:15:00+00:00  1.24298  1.24333  1.24272  1.24332\n",
       " 450337 2014-12-12 10:20:00+00:00  1.24331  1.24371  1.24316  1.24331\n",
       " 450338 2014-12-12 10:25:00+00:00  1.24334  1.24344  1.24276  1.24293\n",
       " 450339 2014-12-12 10:30:00+00:00  1.24290  1.24292  1.24268  1.24290,\n",
       "                        timestamp     open     high      low    close\n",
       " 456273 2015-01-14 09:30:00+00:00  1.17646  1.17660  1.17564  1.17568\n",
       " 456274 2015-01-14 09:35:00+00:00  1.17572  1.17580  1.17330  1.17390\n",
       " 456275 2015-01-14 09:40:00+00:00  1.17394  1.17396  1.17277  1.17368\n",
       " 456276 2015-01-14 09:45:00+00:00  1.17364  1.17387  1.17282  1.17354\n",
       " 456277 2015-01-14 09:50:00+00:00  1.17351  1.17437  1.17345  1.17414\n",
       " 456278 2015-01-14 09:55:00+00:00  1.17410  1.17463  1.17393  1.17446\n",
       " 456279 2015-01-14 10:00:00+00:00  1.17445  1.17525  1.17392  1.17514\n",
       " 456280 2015-01-14 10:05:00+00:00  1.17510  1.17569  1.17488  1.17540\n",
       " 456281 2015-01-14 10:10:00+00:00  1.17536  1.17618  1.17518  1.17598\n",
       " 456282 2015-01-14 10:15:00+00:00  1.17594  1.17608  1.17528  1.17549\n",
       " 456283 2015-01-14 10:20:00+00:00  1.17545  1.17555  1.17518  1.17534\n",
       " 456284 2015-01-14 10:25:00+00:00  1.17533  1.17600  1.17525  1.17596\n",
       " 456285 2015-01-14 10:30:00+00:00  1.17599  1.17618  1.17549  1.17568,\n",
       "                        timestamp     open     high      low    close\n",
       " 462309 2015-02-12 09:30:00+00:00  1.13408  1.13433  1.13379  1.13390\n",
       " 462310 2015-02-12 09:35:00+00:00  1.13386  1.13396  1.13324  1.13339\n",
       " 462311 2015-02-12 09:40:00+00:00  1.13342  1.13410  1.13342  1.13356\n",
       " 462312 2015-02-12 09:45:00+00:00  1.13356  1.13410  1.13350  1.13365\n",
       " 462313 2015-02-12 09:50:00+00:00  1.13361  1.13390  1.13339  1.13347\n",
       " 462314 2015-02-12 09:55:00+00:00  1.13349  1.13460  1.13349  1.13442\n",
       " 462315 2015-02-12 10:00:00+00:00  1.13438  1.13438  1.13382  1.13400\n",
       " 462316 2015-02-12 10:05:00+00:00  1.13396  1.13424  1.13357  1.13380\n",
       " 462317 2015-02-12 10:10:00+00:00  1.13376  1.13402  1.13368  1.13402\n",
       " 462318 2015-02-12 10:15:00+00:00  1.13400  1.13414  1.13370  1.13403\n",
       " 462319 2015-02-12 10:20:00+00:00  1.13402  1.13461  1.13380  1.13422\n",
       " 462320 2015-02-12 10:25:00+00:00  1.13419  1.13426  1.13396  1.13402\n",
       " 462321 2015-02-12 10:30:00+00:00  1.13404  1.13454  1.13260  1.13373,\n",
       "                        timestamp     open     high      low    close\n",
       " 468069 2015-03-12 09:30:00+00:00  1.05991  1.06086  1.05956  1.06076\n",
       " 468070 2015-03-12 09:35:00+00:00  1.06079  1.06096  1.05991  1.06019\n",
       " 468071 2015-03-12 09:40:00+00:00  1.06021  1.06096  1.06005  1.06062\n",
       " 468072 2015-03-12 09:45:00+00:00  1.06060  1.06060  1.05893  1.05896\n",
       " 468073 2015-03-12 09:50:00+00:00  1.05899  1.05958  1.05898  1.05908\n",
       " 468074 2015-03-12 09:55:00+00:00  1.05910  1.06004  1.05868  1.06000\n",
       " 468075 2015-03-12 10:00:00+00:00  1.06004  1.06004  1.05902  1.05964\n",
       " 468076 2015-03-12 10:05:00+00:00  1.05960  1.05964  1.05882  1.05902\n",
       " 468077 2015-03-12 10:10:00+00:00  1.05904  1.05968  1.05904  1.05914\n",
       " 468078 2015-03-12 10:15:00+00:00  1.05912  1.06001  1.05896  1.06000\n",
       " 468079 2015-03-12 10:20:00+00:00  1.06004  1.06010  1.05980  1.05988\n",
       " 468080 2015-03-12 10:25:00+00:00  1.05986  1.06036  1.05984  1.06026\n",
       " 468081 2015-03-12 10:30:00+00:00  1.06028  1.06088  1.06018  1.06068,\n",
       "                        timestamp     open     high      low    close\n",
       " 474664 2015-04-14 08:30:00+00:00  1.05568  1.05605  1.05521  1.05546\n",
       " 474665 2015-04-14 08:35:00+00:00  1.05542  1.05542  1.05438  1.05460\n",
       " 474666 2015-04-14 08:40:00+00:00  1.05456  1.05541  1.05450  1.05516\n",
       " 474667 2015-04-14 08:45:00+00:00  1.05519  1.05526  1.05450  1.05479\n",
       " 474668 2015-04-14 08:50:00+00:00  1.05480  1.05534  1.05450  1.05528\n",
       " 474669 2015-04-14 08:55:00+00:00  1.05527  1.05534  1.05472  1.05499\n",
       " 474670 2015-04-14 09:00:00+00:00  1.05495  1.05580  1.05495  1.05566\n",
       " 474671 2015-04-14 09:05:00+00:00  1.05569  1.05648  1.05538  1.05586\n",
       " 474672 2015-04-14 09:10:00+00:00  1.05585  1.05652  1.05580  1.05586\n",
       " 474673 2015-04-14 09:15:00+00:00  1.05588  1.05638  1.05573  1.05633\n",
       " 474674 2015-04-14 09:20:00+00:00  1.05636  1.05748  1.05633  1.05741\n",
       " 474675 2015-04-14 09:25:00+00:00  1.05738  1.05742  1.05667  1.05692\n",
       " 474676 2015-04-14 09:30:00+00:00  1.05696  1.05699  1.05579  1.05614,\n",
       "                        timestamp     open     high      low    close\n",
       " 480698 2015-05-13 08:30:00+00:00  1.12224  1.12284  1.12199  1.12254\n",
       " 480699 2015-05-13 08:35:00+00:00  1.12252  1.12375  1.12232  1.12350\n",
       " 480700 2015-05-13 08:40:00+00:00  1.12352  1.12372  1.12300  1.12332\n",
       " 480701 2015-05-13 08:45:00+00:00  1.12332  1.12362  1.12290  1.12339\n",
       " 480702 2015-05-13 08:50:00+00:00  1.12342  1.12376  1.12309  1.12310\n",
       " 480703 2015-05-13 08:55:00+00:00  1.12313  1.12326  1.12254  1.12276\n",
       " 480704 2015-05-13 09:00:00+00:00  1.12275  1.12332  1.12027  1.12096\n",
       " 480705 2015-05-13 09:05:00+00:00  1.12092  1.12149  1.12082  1.12149\n",
       " 480706 2015-05-13 09:10:00+00:00  1.12147  1.12198  1.12122  1.12184\n",
       " 480707 2015-05-13 09:15:00+00:00  1.12181  1.12181  1.12108  1.12156\n",
       " 480708 2015-05-13 09:20:00+00:00  1.12160  1.12190  1.12141  1.12180\n",
       " 480709 2015-05-13 09:25:00+00:00  1.12178  1.12330  1.12140  1.12290\n",
       " 480710 2015-05-13 09:30:00+00:00  1.12292  1.12468  1.12250  1.12371,\n",
       "                        timestamp     open     high      low    close\n",
       " 487009 2015-06-12 08:30:00+00:00  1.12141  1.12231  1.12141  1.12214\n",
       " 487010 2015-06-12 08:35:00+00:00  1.12218  1.12224  1.12152  1.12217\n",
       " 487011 2015-06-12 08:40:00+00:00  1.12215  1.12278  1.12212  1.12240\n",
       " 487012 2015-06-12 08:45:00+00:00  1.12244  1.12271  1.11773  1.11797\n",
       " 487013 2015-06-12 08:50:00+00:00  1.11794  1.11816  1.11512  1.11610\n",
       " 487014 2015-06-12 08:55:00+00:00  1.11614  1.11700  1.11566  1.11677\n",
       " 487015 2015-06-12 09:00:00+00:00  1.11674  1.11704  1.11584  1.11700\n",
       " 487016 2015-06-12 09:05:00+00:00  1.11697  1.11738  1.11602  1.11634\n",
       " 487017 2015-06-12 09:10:00+00:00  1.11630  1.11664  1.11545  1.11629\n",
       " 487018 2015-06-12 09:15:00+00:00  1.11625  1.11712  1.11552  1.11712\n",
       " 487019 2015-06-12 09:20:00+00:00  1.11709  1.11774  1.11656  1.11761\n",
       " 487020 2015-06-12 09:25:00+00:00  1.11757  1.11766  1.11732  1.11752\n",
       " 487021 2015-06-12 09:30:00+00:00  1.11748  1.11750  1.11667  1.11710,\n",
       "                        timestamp     open     high      low    close\n",
       " 493331 2015-07-14 08:30:00+00:00  1.10240  1.10303  1.10170  1.10292\n",
       " 493332 2015-07-14 08:35:00+00:00  1.10294  1.10386  1.10263  1.10314\n",
       " 493333 2015-07-14 08:40:00+00:00  1.10312  1.10384  1.10259  1.10294\n",
       " 493334 2015-07-14 08:45:00+00:00  1.10292  1.10368  1.10292  1.10296\n",
       " 493335 2015-07-14 08:50:00+00:00  1.10293  1.10357  1.10257  1.10328\n",
       " 493336 2015-07-14 08:55:00+00:00  1.10326  1.10374  1.10268  1.10269\n",
       " 493337 2015-07-14 09:00:00+00:00  1.10273  1.10314  1.10254  1.10280\n",
       " 493338 2015-07-14 09:05:00+00:00  1.10282  1.10343  1.10282  1.10314\n",
       " 493339 2015-07-14 09:10:00+00:00  1.10312  1.10345  1.10300  1.10306\n",
       " 493340 2015-07-14 09:15:00+00:00  1.10303  1.10359  1.10260  1.10291\n",
       " 493341 2015-07-14 09:20:00+00:00  1.10294  1.10305  1.10256  1.10272\n",
       " 493342 2015-07-14 09:25:00+00:00  1.10270  1.10270  1.10164  1.10194\n",
       " 493343 2015-07-14 09:30:00+00:00  1.10196  1.10210  1.10142  1.10210,\n",
       "                        timestamp     open     high      low    close\n",
       " 499365 2015-08-12 08:30:00+00:00  1.11394  1.11514  1.11380  1.11467\n",
       " 499366 2015-08-12 08:35:00+00:00  1.11464  1.11502  1.11377  1.11377\n",
       " 499367 2015-08-12 08:40:00+00:00  1.11374  1.11380  1.11310  1.11329\n",
       " 499368 2015-08-12 08:45:00+00:00  1.11332  1.11348  1.11272  1.11272\n",
       " 499369 2015-08-12 08:50:00+00:00  1.11269  1.11332  1.11266  1.11274\n",
       " 499370 2015-08-12 08:55:00+00:00  1.11270  1.11360  1.11260  1.11306\n",
       " 499371 2015-08-12 09:00:00+00:00  1.11303  1.11334  1.11259  1.11265\n",
       " 499372 2015-08-12 09:05:00+00:00  1.11267  1.11318  1.11236  1.11310\n",
       " 499373 2015-08-12 09:10:00+00:00  1.11306  1.11326  1.11262  1.11262\n",
       " 499374 2015-08-12 09:15:00+00:00  1.11260  1.11356  1.11244  1.11343\n",
       " 499375 2015-08-12 09:20:00+00:00  1.11346  1.11346  1.11285  1.11313\n",
       " 499376 2015-08-12 09:25:00+00:00  1.11316  1.11334  1.11265  1.11324\n",
       " 499377 2015-08-12 09:30:00+00:00  1.11326  1.11326  1.11288  1.11312,\n",
       "                        timestamp     open     high      low    close\n",
       " 505962 2015-09-14 08:30:00+00:00  1.13418  1.13431  1.13408  1.13412\n",
       " 505963 2015-09-14 08:35:00+00:00  1.13410  1.13422  1.13400  1.13420\n",
       " 505964 2015-09-14 08:40:00+00:00  1.13422  1.13466  1.13422  1.13443\n",
       " 505965 2015-09-14 08:45:00+00:00  1.13442  1.13442  1.13386  1.13406\n",
       " 505966 2015-09-14 08:50:00+00:00  1.13404  1.13437  1.13396  1.13400\n",
       " 505967 2015-09-14 08:55:00+00:00  1.13402  1.13408  1.13370  1.13374\n",
       " 505968 2015-09-14 09:00:00+00:00  1.13377  1.13382  1.13322  1.13330\n",
       " 505969 2015-09-14 09:05:00+00:00  1.13326  1.13326  1.13295  1.13326\n",
       " 505970 2015-09-14 09:10:00+00:00  1.13329  1.13342  1.13312  1.13314\n",
       " 505971 2015-09-14 09:15:00+00:00  1.13318  1.13324  1.13244  1.13276\n",
       " 505972 2015-09-14 09:20:00+00:00  1.13272  1.13310  1.13258  1.13278\n",
       " 505973 2015-09-14 09:25:00+00:00  1.13281  1.13285  1.13266  1.13277\n",
       " 505974 2015-09-14 09:30:00+00:00  1.13274  1.13298  1.13246  1.13268,\n",
       "                        timestamp     open     high      low    close\n",
       " 512267 2015-10-14 08:30:00+00:00  1.14044  1.14146  1.14042  1.14096\n",
       " 512268 2015-10-14 08:35:00+00:00  1.14092  1.14128  1.14070  1.14110\n",
       " 512269 2015-10-14 08:40:00+00:00  1.14110  1.14125  1.14055  1.14092\n",
       " 512270 2015-10-14 08:45:00+00:00  1.14094  1.14116  1.14045  1.14082\n",
       " 512271 2015-10-14 08:50:00+00:00  1.14084  1.14154  1.14080  1.14112\n",
       " 512272 2015-10-14 08:55:00+00:00  1.14108  1.14122  1.14050  1.14057\n",
       " 512273 2015-10-14 09:00:00+00:00  1.14060  1.14078  1.14042  1.14075\n",
       " 512274 2015-10-14 09:05:00+00:00  1.14072  1.14146  1.14050  1.14076\n",
       " 512275 2015-10-14 09:10:00+00:00  1.14078  1.14122  1.14064  1.14101\n",
       " 512276 2015-10-14 09:20:00+00:00  1.14096  1.14102  1.14071  1.14076\n",
       " 512277 2015-10-14 09:25:00+00:00  1.14080  1.14124  1.14080  1.14113\n",
       " 512278 2015-10-14 09:30:00+00:00  1.14116  1.14142  1.14100  1.14104\n",
       " 512279 2015-10-14 09:35:00+00:00  1.14102  1.14115  1.14062  1.14107,\n",
       "                        timestamp     open     high      low    close\n",
       " 518299 2015-11-12 09:30:00+00:00  1.07309  1.07324  1.07270  1.07274\n",
       " 518300 2015-11-12 09:35:00+00:00  1.07276  1.07292  1.07191  1.07198\n",
       " 518301 2015-11-12 09:40:00+00:00  1.07198  1.07232  1.07186  1.07209\n",
       " 518302 2015-11-12 09:45:00+00:00  1.07212  1.07222  1.07133  1.07151\n",
       " 518303 2015-11-12 09:50:00+00:00  1.07148  1.07156  1.07086  1.07132\n",
       " 518304 2015-11-12 09:55:00+00:00  1.07128  1.07153  1.07122  1.07126\n",
       " 518305 2015-11-12 10:00:00+00:00  1.07123  1.07189  1.07094  1.07186\n",
       " 518306 2015-11-12 10:05:00+00:00  1.07188  1.07190  1.07097  1.07126\n",
       " 518307 2015-11-12 10:10:00+00:00  1.07128  1.07193  1.07128  1.07180\n",
       " 518308 2015-11-12 10:15:00+00:00  1.07184  1.07235  1.07184  1.07212\n",
       " 518309 2015-11-12 10:20:00+00:00  1.07208  1.07256  1.07204  1.07216\n",
       " 518310 2015-11-12 10:25:00+00:00  1.07212  1.07238  1.07194  1.07236\n",
       " 518311 2015-11-12 10:30:00+00:00  1.07239  1.07288  1.07212  1.07282,\n",
       "                        timestamp     open     high      low    close\n",
       " 524612 2015-12-14 09:30:00+00:00  1.09532  1.09588  1.09518  1.09578\n",
       " 524613 2015-12-14 09:35:00+00:00  1.09574  1.09596  1.09554  1.09566\n",
       " 524614 2015-12-14 09:40:00+00:00  1.09562  1.09588  1.09546  1.09549\n",
       " 524615 2015-12-14 09:45:00+00:00  1.09552  1.09570  1.09534  1.09544\n",
       " 524616 2015-12-14 09:50:00+00:00  1.09546  1.09566  1.09524  1.09538\n",
       " 524617 2015-12-14 09:55:00+00:00  1.09534  1.09584  1.09527  1.09583\n",
       " 524618 2015-12-14 10:00:00+00:00  1.09584  1.09616  1.09573  1.09598\n",
       " 524619 2015-12-14 10:05:00+00:00  1.09600  1.09625  1.09597  1.09615\n",
       " 524620 2015-12-14 10:10:00+00:00  1.09617  1.09640  1.09597  1.09597\n",
       " 524621 2015-12-14 10:15:00+00:00  1.09594  1.09601  1.09582  1.09584\n",
       " 524622 2015-12-14 10:20:00+00:00  1.09580  1.09607  1.09548  1.09604\n",
       " 524623 2015-12-14 10:25:00+00:00  1.09607  1.09676  1.09607  1.09633\n",
       " 524624 2015-12-14 10:30:00+00:00  1.09631  1.09656  1.09622  1.09622,\n",
       "                        timestamp     open     high      low    close\n",
       " 530273 2016-01-13 09:30:00+00:00  1.08088  1.08102  1.08055  1.08078\n",
       " 530274 2016-01-13 09:35:00+00:00  1.08081  1.08149  1.08079  1.08148\n",
       " 530275 2016-01-13 09:40:00+00:00  1.08147  1.08194  1.08135  1.08178\n",
       " 530276 2016-01-13 09:45:00+00:00  1.08180  1.08201  1.08153  1.08201\n",
       " 530277 2016-01-13 09:50:00+00:00  1.08198  1.08208  1.08180  1.08199\n",
       " 530278 2016-01-13 09:55:00+00:00  1.08195  1.08208  1.08176  1.08194\n",
       " 530279 2016-01-13 10:00:00+00:00  1.08192  1.08192  1.08156  1.08165\n",
       " 530280 2016-01-13 10:05:00+00:00  1.08168  1.08189  1.08156  1.08189\n",
       " 530281 2016-01-13 10:10:00+00:00  1.08192  1.08206  1.08170  1.08183\n",
       " 530282 2016-01-13 10:15:00+00:00  1.08180  1.08180  1.08140  1.08153\n",
       " 530283 2016-01-13 10:20:00+00:00  1.08150  1.08186  1.08146  1.08186\n",
       " 530284 2016-01-13 10:25:00+00:00  1.08188  1.08208  1.08181  1.08186\n",
       " 530285 2016-01-13 10:30:00+00:00  1.08188  1.08192  1.08134  1.08142,\n",
       "                        timestamp     open     high      low    close\n",
       " 536598 2016-02-12 09:30:00+00:00  1.12854  1.12898  1.12828  1.12841\n",
       " 536599 2016-02-12 09:35:00+00:00  1.12840  1.12906  1.12822  1.12875\n",
       " 536600 2016-02-12 09:40:00+00:00  1.12878  1.12910  1.12868  1.12905\n",
       " 536601 2016-02-12 09:45:00+00:00  1.12902  1.12922  1.12869  1.12877\n",
       " 536602 2016-02-12 09:50:00+00:00  1.12874  1.12956  1.12848  1.12956\n",
       " 536603 2016-02-12 09:55:00+00:00  1.12953  1.12987  1.12908  1.12958\n",
       " 536604 2016-02-12 10:00:00+00:00  1.12950  1.12973  1.12904  1.12904\n",
       " 536605 2016-02-12 10:05:00+00:00  1.12907  1.12907  1.12820  1.12840\n",
       " 536606 2016-02-12 10:10:00+00:00  1.12836  1.12878  1.12826  1.12852\n",
       " 536607 2016-02-12 10:15:00+00:00  1.12849  1.12872  1.12805  1.12838\n",
       " 536608 2016-02-12 10:20:00+00:00  1.12842  1.12847  1.12783  1.12788\n",
       " 536609 2016-02-12 10:25:00+00:00  1.12786  1.12830  1.12776  1.12818\n",
       " 536610 2016-02-12 10:30:00+00:00  1.12814  1.12864  1.12803  1.12806,\n",
       "                        timestamp     open     high      low    close\n",
       " 542641 2016-03-14 09:30:00+00:00  1.11298  1.11360  1.11260  1.11284\n",
       " 542642 2016-03-14 09:35:00+00:00  1.11282  1.11330  1.11270  1.11286\n",
       " 542643 2016-03-14 09:40:00+00:00  1.11290  1.11308  1.11258  1.11258\n",
       " 542644 2016-03-14 09:45:00+00:00  1.11256  1.11271  1.11228  1.11249\n",
       " 542645 2016-03-14 09:50:00+00:00  1.11252  1.11286  1.11237  1.11248\n",
       " 542646 2016-03-14 09:55:00+00:00  1.11250  1.11270  1.11238  1.11252\n",
       " 542647 2016-03-14 10:00:00+00:00  1.11252  1.11269  1.11205  1.11248\n",
       " 542648 2016-03-14 10:05:00+00:00  1.11244  1.11258  1.11202  1.11240\n",
       " 542649 2016-03-14 10:10:00+00:00  1.11244  1.11247  1.11183  1.11184\n",
       " 542650 2016-03-14 10:15:00+00:00  1.11186  1.11204  1.11160  1.11194\n",
       " 542651 2016-03-14 10:20:00+00:00  1.11196  1.11224  1.11174  1.11178\n",
       " 542652 2016-03-14 10:25:00+00:00  1.11180  1.11186  1.11129  1.11156\n",
       " 542653 2016-03-14 10:30:00+00:00  1.11158  1.11190  1.11146  1.11148,\n",
       "                        timestamp     open     high      low    close\n",
       " 548937 2016-04-13 08:30:00+00:00  1.13450  1.13476  1.13365  1.13423\n",
       " 548938 2016-04-13 08:35:00+00:00  1.13423  1.13503  1.13368  1.13426\n",
       " 548939 2016-04-13 08:40:00+00:00  1.13425  1.13440  1.13365  1.13440\n",
       " 548940 2016-04-13 08:45:00+00:00  1.13437  1.13471  1.13410  1.13436\n",
       " 548941 2016-04-13 08:50:00+00:00  1.13434  1.13437  1.13376  1.13382\n",
       " 548942 2016-04-13 08:55:00+00:00  1.13386  1.13424  1.13376  1.13376\n",
       " 548943 2016-04-13 09:00:00+00:00  1.13372  1.13388  1.13308  1.13387\n",
       " 548944 2016-04-13 09:05:00+00:00  1.13386  1.13396  1.13338  1.13342\n",
       " 548945 2016-04-13 09:10:00+00:00  1.13344  1.13356  1.13236  1.13250\n",
       " 548946 2016-04-13 09:15:00+00:00  1.13248  1.13250  1.13146  1.13160\n",
       " 548947 2016-04-13 09:20:00+00:00  1.13156  1.13188  1.13079  1.13086\n",
       " 548948 2016-04-13 09:25:00+00:00  1.13090  1.13221  1.13089  1.13206\n",
       " 548949 2016-04-13 09:30:00+00:00  1.13205  1.13226  1.13180  1.13222,\n",
       "                        timestamp     open     high      low    close\n",
       " 554970 2016-05-12 08:30:00+00:00  1.14104  1.14141  1.14078  1.14141\n",
       " 554971 2016-05-12 08:35:00+00:00  1.14140  1.14141  1.14108  1.14124\n",
       " 554972 2016-05-12 08:40:00+00:00  1.14122  1.14122  1.14056  1.14056\n",
       " 554973 2016-05-12 08:45:00+00:00  1.14053  1.14088  1.14048  1.14077\n",
       " 554974 2016-05-12 08:50:00+00:00  1.14080  1.14092  1.14072  1.14079\n",
       " 554975 2016-05-12 08:55:00+00:00  1.14077  1.14094  1.14064  1.14080\n",
       " 554976 2016-05-12 09:00:00+00:00  1.14077  1.14086  1.14062  1.14074\n",
       " 554977 2016-05-12 09:05:00+00:00  1.14078  1.14092  1.14074  1.14088\n",
       " 554978 2016-05-12 09:10:00+00:00  1.14091  1.14128  1.14090  1.14126\n",
       " 554979 2016-05-12 09:15:00+00:00  1.14122  1.14138  1.14113  1.14128\n",
       " 554980 2016-05-12 09:20:00+00:00  1.14126  1.14140  1.14108  1.14134\n",
       " 554981 2016-05-12 09:25:00+00:00  1.14138  1.14138  1.14106  1.14123\n",
       " 554982 2016-05-12 09:30:00+00:00  1.14120  1.14134  1.14116  1.14130,\n",
       "                        timestamp     open     high      low    close\n",
       " 561572 2016-06-14 08:30:00+00:00  1.12449  1.12452  1.12349  1.12424\n",
       " 561573 2016-06-14 08:35:00+00:00  1.12422  1.12432  1.12349  1.12356\n",
       " 561574 2016-06-14 08:40:00+00:00  1.12358  1.12369  1.12298  1.12344\n",
       " 561575 2016-06-14 08:45:00+00:00  1.12341  1.12352  1.12289  1.12318\n",
       " 561576 2016-06-14 08:50:00+00:00  1.12321  1.12376  1.12302  1.12376\n",
       " 561577 2016-06-14 08:55:00+00:00  1.12374  1.12399  1.12343  1.12360\n",
       " 561578 2016-06-14 09:00:00+00:00  1.12359  1.12364  1.12274  1.12276\n",
       " 561579 2016-06-14 09:05:00+00:00  1.12272  1.12288  1.12190  1.12201\n",
       " 561580 2016-06-14 09:10:00+00:00  1.12202  1.12249  1.12202  1.12223\n",
       " 561581 2016-06-14 09:15:00+00:00  1.12226  1.12228  1.12123  1.12164\n",
       " 561582 2016-06-14 09:20:00+00:00  1.12159  1.12184  1.12114  1.12178\n",
       " 561583 2016-06-14 09:25:00+00:00  1.12176  1.12204  1.12122  1.12182\n",
       " 561584 2016-06-14 09:30:00+00:00  1.12184  1.12200  1.12149  1.12192,\n",
       "                        timestamp     open     high      low    close\n",
       " 567602 2016-07-13 08:30:00+00:00  1.10484  1.10526  1.10481  1.10510\n",
       " 567603 2016-07-13 08:35:00+00:00  1.10508  1.10578  1.10508  1.10564\n",
       " 567604 2016-07-13 08:40:00+00:00  1.10560  1.10603  1.10550  1.10592\n",
       " 567605 2016-07-13 08:45:00+00:00  1.10590  1.10594  1.10548  1.10562\n",
       " 567606 2016-07-13 08:50:00+00:00  1.10565  1.10626  1.10565  1.10602\n",
       " 567607 2016-07-13 08:55:00+00:00  1.10604  1.10626  1.10566  1.10598\n",
       " 567608 2016-07-13 09:00:00+00:00  1.10597  1.10597  1.10529  1.10558\n",
       " 567609 2016-07-13 09:05:00+00:00  1.10562  1.10566  1.10520  1.10533\n",
       " 567610 2016-07-13 09:10:00+00:00  1.10533  1.10540  1.10498  1.10526\n",
       " 567611 2016-07-13 09:15:00+00:00  1.10530  1.10586  1.10520  1.10584\n",
       " 567612 2016-07-13 09:20:00+00:00  1.10581  1.10600  1.10574  1.10594\n",
       " 567613 2016-07-13 09:25:00+00:00  1.10594  1.10666  1.10588  1.10658\n",
       " 567614 2016-07-13 09:30:00+00:00  1.10654  1.10676  1.10604  1.10620,\n",
       "                        timestamp     open     high      low    close\n",
       " 573913 2016-08-12 08:30:00+00:00  1.11567  1.11591  1.11513  1.11520\n",
       " 573914 2016-08-12 08:35:00+00:00  1.11524  1.11553  1.11512  1.11528\n",
       " 573915 2016-08-12 08:40:00+00:00  1.11526  1.11560  1.11524  1.11558\n",
       " 573916 2016-08-12 08:45:00+00:00  1.11555  1.11583  1.11555  1.11573\n",
       " 573917 2016-08-12 08:50:00+00:00  1.11570  1.11572  1.11545  1.11546\n",
       " 573918 2016-08-12 08:55:00+00:00  1.11548  1.11556  1.11524  1.11544\n",
       " 573919 2016-08-12 09:00:00+00:00  1.11545  1.11545  1.11498  1.11498\n",
       " 573920 2016-08-12 09:05:00+00:00  1.11499  1.11524  1.11499  1.11512\n",
       " 573921 2016-08-12 09:10:00+00:00  1.11516  1.11532  1.11512  1.11527\n",
       " 573922 2016-08-12 09:15:00+00:00  1.11531  1.11568  1.11528  1.11540\n",
       " 573923 2016-08-12 09:20:00+00:00  1.11544  1.11555  1.11532  1.11555\n",
       " 573924 2016-08-12 09:25:00+00:00  1.11552  1.11556  1.11502  1.11502\n",
       " 573925 2016-08-12 09:30:00+00:00  1.11499  1.11499  1.11450  1.11488,\n",
       "                        timestamp     open     high      low    close\n",
       " 580502 2016-09-14 08:30:00+00:00  1.12236  1.12262  1.12214  1.12216\n",
       " 580503 2016-09-14 08:35:00+00:00  1.12214  1.12229  1.12190  1.12210\n",
       " 580504 2016-09-14 08:40:00+00:00  1.12214  1.12222  1.12158  1.12158\n",
       " 580505 2016-09-14 08:45:00+00:00  1.12160  1.12197  1.12146  1.12172\n",
       " 580506 2016-09-14 08:50:00+00:00  1.12169  1.12212  1.12159  1.12196\n",
       " 580507 2016-09-14 08:55:00+00:00  1.12194  1.12247  1.12190  1.12242\n",
       " 580508 2016-09-14 09:00:00+00:00  1.12242  1.12242  1.12207  1.12207\n",
       " 580509 2016-09-14 09:05:00+00:00  1.12203  1.12234  1.12186  1.12221\n",
       " 580510 2016-09-14 09:10:00+00:00  1.12218  1.12251  1.12205  1.12249\n",
       " 580511 2016-09-14 09:15:00+00:00  1.12246  1.12274  1.12227  1.12270\n",
       " 580512 2016-09-14 09:20:00+00:00  1.12272  1.12330  1.12268  1.12310\n",
       " 580513 2016-09-14 09:25:00+00:00  1.12311  1.12318  1.12286  1.12312\n",
       " 580514 2016-09-14 09:30:00+00:00  1.12316  1.12354  1.12315  1.12345,\n",
       "                        timestamp     open     high      low    close\n",
       " 586240 2016-10-12 08:30:00+00:00  1.10296  1.10296  1.10238  1.10263\n",
       " 586241 2016-10-12 08:35:00+00:00  1.10260  1.10260  1.10178  1.10233\n",
       " 586242 2016-10-12 08:40:00+00:00  1.10229  1.10242  1.10173  1.10205\n",
       " 586243 2016-10-12 08:45:00+00:00  1.10202  1.10227  1.10176  1.10227\n",
       " 586244 2016-10-12 08:50:00+00:00  1.10224  1.10230  1.10168  1.10194\n",
       " 586245 2016-10-12 08:55:00+00:00  1.10198  1.10250  1.10197  1.10244\n",
       " 586246 2016-10-12 09:00:00+00:00  1.10246  1.10281  1.10236  1.10281\n",
       " 586247 2016-10-12 09:05:00+00:00  1.10278  1.10290  1.10231  1.10238\n",
       " 586248 2016-10-12 09:10:00+00:00  1.10234  1.10267  1.10207  1.10256\n",
       " 586249 2016-10-12 09:15:00+00:00  1.10255  1.10264  1.10238  1.10264\n",
       " 586250 2016-10-12 09:20:00+00:00  1.10268  1.10291  1.10218  1.10230\n",
       " 586251 2016-10-12 09:25:00+00:00  1.10228  1.10284  1.10222  1.10244\n",
       " 586252 2016-10-12 09:30:00+00:00  1.10242  1.10264  1.10218  1.10225,\n",
       "                        timestamp     open     high      low    close\n",
       " 592837 2016-11-14 09:30:00+00:00  1.07471  1.07496  1.07448  1.07468\n",
       " 592838 2016-11-14 09:35:00+00:00  1.07471  1.07478  1.07375  1.07381\n",
       " 592839 2016-11-14 09:40:00+00:00  1.07384  1.07432  1.07377  1.07412\n",
       " 592840 2016-11-14 09:45:00+00:00  1.07415  1.07479  1.07392  1.07479\n",
       " 592841 2016-11-14 09:50:00+00:00  1.07482  1.07542  1.07470  1.07524\n",
       " 592842 2016-11-14 09:55:00+00:00  1.07528  1.07600  1.07516  1.07578\n",
       " 592843 2016-11-14 10:00:00+00:00  1.07576  1.07652  1.07550  1.07632\n",
       " 592844 2016-11-14 10:05:00+00:00  1.07634  1.07647  1.07612  1.07630\n",
       " 592845 2016-11-14 10:10:00+00:00  1.07626  1.07627  1.07584  1.07586\n",
       " 592846 2016-11-14 10:15:00+00:00  1.07582  1.07582  1.07536  1.07568\n",
       " 592847 2016-11-14 10:20:00+00:00  1.07572  1.07590  1.07544  1.07549\n",
       " 592848 2016-11-14 10:25:00+00:00  1.07552  1.07590  1.07548  1.07562\n",
       " 592849 2016-11-14 10:30:00+00:00  1.07564  1.07618  1.07552  1.07614,\n",
       "                        timestamp     open     high      low    close\n",
       " 599160 2016-12-14 09:30:00+00:00  1.06230  1.06234  1.06218  1.06234\n",
       " 599161 2016-12-14 09:35:00+00:00  1.06237  1.06264  1.06236  1.06258\n",
       " 599162 2016-12-14 09:40:00+00:00  1.06260  1.06286  1.06260  1.06275\n",
       " 599163 2016-12-14 09:45:00+00:00  1.06272  1.06290  1.06256  1.06290\n",
       " 599164 2016-12-14 09:50:00+00:00  1.06292  1.06298  1.06197  1.06239\n",
       " 599165 2016-12-14 09:55:00+00:00  1.06236  1.06275  1.06236  1.06260\n",
       " 599166 2016-12-14 10:00:00+00:00  1.06262  1.06292  1.06254  1.06286\n",
       " 599167 2016-12-14 10:05:00+00:00  1.06289  1.06306  1.06260  1.06288\n",
       " 599168 2016-12-14 10:10:00+00:00  1.06286  1.06372  1.06280  1.06349\n",
       " 599169 2016-12-14 10:15:00+00:00  1.06352  1.06360  1.06340  1.06345\n",
       " 599170 2016-12-14 10:20:00+00:00  1.06347  1.06372  1.06316  1.06320\n",
       " 599171 2016-12-14 10:25:00+00:00  1.06318  1.06340  1.06286  1.06292\n",
       " 599172 2016-12-14 10:30:00+00:00  1.06290  1.06366  1.06287  1.06358,\n",
       "                        timestamp     open     high      low    close\n",
       " 604592 2017-01-12 09:30:00+00:00  1.06356  1.06420  1.06348  1.06394\n",
       " 604593 2017-01-12 09:35:00+00:00  1.06391  1.06424  1.06371  1.06407\n",
       " 604594 2017-01-12 09:40:00+00:00  1.06410  1.06410  1.06322  1.06345\n",
       " 604595 2017-01-12 09:45:00+00:00  1.06348  1.06410  1.06334  1.06406\n",
       " 604596 2017-01-12 09:50:00+00:00  1.06409  1.06418  1.06352  1.06378\n",
       " 604597 2017-01-12 09:55:00+00:00  1.06380  1.06416  1.06362  1.06412\n",
       " 604598 2017-01-12 10:00:00+00:00  1.06410  1.06429  1.06334  1.06343\n",
       " 604599 2017-01-12 10:05:00+00:00  1.06346  1.06348  1.06278  1.06296\n",
       " 604600 2017-01-12 10:10:00+00:00  1.06294  1.06314  1.06258  1.06278\n",
       " 604601 2017-01-12 10:15:00+00:00  1.06275  1.06327  1.06242  1.06251\n",
       " 604602 2017-01-12 10:20:00+00:00  1.06249  1.06274  1.06208  1.06254\n",
       " 604603 2017-01-12 10:25:00+00:00  1.06252  1.06284  1.06240  1.06270\n",
       " 604604 2017-01-12 10:30:00+00:00  1.06273  1.06278  1.06198  1.06238,\n",
       "                        timestamp     open     high      low    close\n",
       " 611199 2017-02-14 09:30:00+00:00  1.06199  1.06199  1.06142  1.06178\n",
       " 611200 2017-02-14 09:35:00+00:00  1.06176  1.06216  1.06158  1.06216\n",
       " 611201 2017-02-14 09:40:00+00:00  1.06218  1.06224  1.06187  1.06190\n",
       " 611202 2017-02-14 09:45:00+00:00  1.06192  1.06249  1.06183  1.06200\n",
       " 611203 2017-02-14 09:50:00+00:00  1.06202  1.06206  1.06178  1.06188\n",
       " 611204 2017-02-14 09:55:00+00:00  1.06186  1.06194  1.06157  1.06172\n",
       " 611205 2017-02-14 10:00:00+00:00  1.06168  1.06178  1.06113  1.06166\n",
       " 611206 2017-02-14 10:05:00+00:00  1.06168  1.06178  1.06104  1.06106\n",
       " 611207 2017-02-14 10:10:00+00:00  1.06108  1.06117  1.06082  1.06088\n",
       " 611208 2017-02-14 10:15:00+00:00  1.06092  1.06128  1.06092  1.06126\n",
       " 611209 2017-02-14 10:20:00+00:00  1.06123  1.06166  1.06120  1.06154\n",
       " 611210 2017-02-14 10:25:00+00:00  1.06151  1.06184  1.06150  1.06172\n",
       " 611211 2017-02-14 10:30:00+00:00  1.06170  1.06209  1.06167  1.06189,\n",
       "                        timestamp     open     high      low    close\n",
       " 616959 2017-03-14 09:30:00+00:00  1.06426  1.06434  1.06380  1.06399\n",
       " 616960 2017-03-14 09:35:00+00:00  1.06399  1.06450  1.06377  1.06436\n",
       " 616961 2017-03-14 09:40:00+00:00  1.06434  1.06434  1.06400  1.06414\n",
       " 616962 2017-03-14 09:45:00+00:00  1.06414  1.06416  1.06384  1.06414\n",
       " 616963 2017-03-14 09:50:00+00:00  1.06412  1.06436  1.06394  1.06432\n",
       " 616964 2017-03-14 09:55:00+00:00  1.06430  1.06430  1.06377  1.06396\n",
       " 616965 2017-03-14 10:00:00+00:00  1.06390  1.06416  1.06354  1.06364\n",
       " 616966 2017-03-14 10:05:00+00:00  1.06364  1.06400  1.06364  1.06392\n",
       " 616967 2017-03-14 10:10:00+00:00  1.06388  1.06420  1.06378  1.06402\n",
       " 616968 2017-03-14 10:15:00+00:00  1.06400  1.06408  1.06380  1.06398\n",
       " 616969 2017-03-14 10:20:00+00:00  1.06398  1.06418  1.06393  1.06408\n",
       " 616970 2017-03-14 10:25:00+00:00  1.06408  1.06436  1.06395  1.06411\n",
       " 616971 2017-03-14 10:30:00+00:00  1.06413  1.06441  1.06411  1.06434,\n",
       "                        timestamp     open     high      low    close\n",
       " 622691 2017-04-11 08:30:00+00:00  1.05988  1.06038  1.05967  1.06006\n",
       " 622692 2017-04-11 08:35:00+00:00  1.06002  1.06051  1.06002  1.06030\n",
       " 622693 2017-04-11 08:40:00+00:00  1.06030  1.06048  1.06012  1.06012\n",
       " 622694 2017-04-11 08:45:00+00:00  1.06016  1.06040  1.06014  1.06022\n",
       " 622695 2017-04-11 08:50:00+00:00  1.06018  1.06018  1.06000  1.06012\n",
       " 622696 2017-04-11 08:55:00+00:00  1.06016  1.06018  1.05998  1.06010\n",
       " 622697 2017-04-11 09:00:00+00:00  1.06003  1.06049  1.05996  1.06006\n",
       " 622698 2017-04-11 09:05:00+00:00  1.06002  1.06014  1.05991  1.06007\n",
       " 622699 2017-04-11 09:10:00+00:00  1.06010  1.06024  1.05999  1.06000\n",
       " 622700 2017-04-11 09:15:00+00:00  1.06000  1.06009  1.05994  1.06000\n",
       " 622701 2017-04-11 09:20:00+00:00  1.05996  1.06017  1.05996  1.06006\n",
       " 622702 2017-04-11 09:25:00+00:00  1.06004  1.06102  1.06004  1.06083\n",
       " 622703 2017-04-11 09:30:00+00:00  1.06086  1.06090  1.06066  1.06078,\n",
       "                        timestamp     open     high      low    close\n",
       " 629284 2017-05-12 08:30:00+00:00  1.08634  1.08646  1.08632  1.08636\n",
       " 629285 2017-05-12 08:35:00+00:00  1.08634  1.08640  1.08616  1.08631\n",
       " 629286 2017-05-12 08:40:00+00:00  1.08634  1.08652  1.08626  1.08652\n",
       " 629287 2017-05-12 08:45:00+00:00  1.08650  1.08730  1.08650  1.08730\n",
       " 629288 2017-05-12 08:50:00+00:00  1.08728  1.08732  1.08682  1.08691\n",
       " 629289 2017-05-12 08:55:00+00:00  1.08694  1.08696  1.08650  1.08656\n",
       " 629290 2017-05-12 09:00:00+00:00  1.08654  1.08672  1.08631  1.08662\n",
       " 629291 2017-05-12 09:05:00+00:00  1.08665  1.08698  1.08665  1.08670\n",
       " 629292 2017-05-12 09:10:00+00:00  1.08672  1.08704  1.08668  1.08704\n",
       " 629293 2017-05-12 09:15:00+00:00  1.08706  1.08718  1.08688  1.08709\n",
       " 629294 2017-05-12 09:20:00+00:00  1.08706  1.08730  1.08698  1.08700\n",
       " 629295 2017-05-12 09:25:00+00:00  1.08702  1.08736  1.08698  1.08708\n",
       " 629296 2017-05-12 09:30:00+00:00  1.08712  1.08719  1.08698  1.08719,\n",
       "                        timestamp     open     high      low    close\n",
       " 635890 2017-06-14 08:30:00+00:00  1.12092  1.12116  1.12091  1.12112\n",
       " 635891 2017-06-14 08:35:00+00:00  1.12110  1.12145  1.12107  1.12145\n",
       " 635892 2017-06-14 08:40:00+00:00  1.12148  1.12156  1.12115  1.12120\n",
       " 635893 2017-06-14 08:45:00+00:00  1.12116  1.12118  1.12090  1.12104\n",
       " 635894 2017-06-14 08:50:00+00:00  1.12106  1.12114  1.12090  1.12092\n",
       " 635895 2017-06-14 08:55:00+00:00  1.12094  1.12117  1.12073  1.12073\n",
       " 635896 2017-06-14 09:00:00+00:00  1.12076  1.12093  1.12062  1.12087\n",
       " 635897 2017-06-14 09:05:00+00:00  1.12089  1.12108  1.12079  1.12084\n",
       " 635898 2017-06-14 09:10:00+00:00  1.12087  1.12089  1.12071  1.12087\n",
       " 635899 2017-06-14 09:15:00+00:00  1.12084  1.12092  1.12073  1.12092\n",
       " 635900 2017-06-14 09:20:00+00:00  1.12096  1.12104  1.12084  1.12086\n",
       " 635901 2017-06-14 09:25:00+00:00  1.12084  1.12098  1.12082  1.12097\n",
       " 635902 2017-06-14 09:30:00+00:00  1.12100  1.12116  1.12094  1.12094,\n",
       "                        timestamp     open     high      low    close\n",
       " 641625 2017-07-12 08:30:00+00:00  1.14556  1.14580  1.14552  1.14566\n",
       " 641626 2017-07-12 08:35:00+00:00  1.14564  1.14627  1.14564  1.14601\n",
       " 641627 2017-07-12 08:40:00+00:00  1.14604  1.14624  1.14586  1.14617\n",
       " 641628 2017-07-12 08:45:00+00:00  1.14615  1.14632  1.14566  1.14566\n",
       " 641629 2017-07-12 08:50:00+00:00  1.14568  1.14594  1.14545  1.14589\n",
       " 641630 2017-07-12 08:55:00+00:00  1.14592  1.14604  1.14566  1.14576\n",
       " 641631 2017-07-12 09:00:00+00:00  1.14574  1.14606  1.14567  1.14574\n",
       " 641632 2017-07-12 09:05:00+00:00  1.14576  1.14610  1.14530  1.14557\n",
       " 641633 2017-07-12 09:10:00+00:00  1.14554  1.14564  1.14533  1.14544\n",
       " 641634 2017-07-12 09:15:00+00:00  1.14547  1.14556  1.14535  1.14540\n",
       " 641635 2017-07-12 09:20:00+00:00  1.14537  1.14548  1.14512  1.14514\n",
       " 641636 2017-07-12 09:25:00+00:00  1.14516  1.14550  1.14510  1.14524\n",
       " 641637 2017-07-12 09:30:00+00:00  1.14528  1.14579  1.14466  1.14478,\n",
       "                        timestamp     open     high      low    close\n",
       " 648237 2017-08-14 08:30:00+00:00  1.17986  1.18016  1.17966  1.17986\n",
       " 648238 2017-08-14 08:35:00+00:00  1.17981  1.18016  1.17922  1.18008\n",
       " 648239 2017-08-14 08:40:00+00:00  1.18004  1.18028  1.17990  1.17996\n",
       " 648240 2017-08-14 08:45:00+00:00  1.17993  1.18027  1.17976  1.18008\n",
       " 648241 2017-08-14 08:50:00+00:00  1.18004  1.18048  1.18000  1.18033\n",
       " 648242 2017-08-14 08:55:00+00:00  1.18036  1.18042  1.17999  1.18034\n",
       " 648243 2017-08-14 09:00:00+00:00  1.18032  1.18069  1.18000  1.18032\n",
       " 648244 2017-08-14 09:05:00+00:00  1.18036  1.18056  1.18019  1.18035\n",
       " 648245 2017-08-14 09:10:00+00:00  1.18036  1.18058  1.17996  1.18052\n",
       " 648246 2017-08-14 09:15:00+00:00  1.18048  1.18072  1.18043  1.18061\n",
       " 648247 2017-08-14 09:20:00+00:00  1.18064  1.18064  1.18000  1.18013\n",
       " 648248 2017-08-14 09:25:00+00:00  1.18016  1.18031  1.17989  1.18012\n",
       " 648249 2017-08-14 09:30:00+00:00  1.18012  1.18047  1.18012  1.18042,\n",
       "                        timestamp     open     high      low    close\n",
       " 654560 2017-09-13 08:30:00+00:00  1.19884  1.19905  1.19860  1.19872\n",
       " 654561 2017-09-13 08:35:00+00:00  1.19868  1.19876  1.19850  1.19854\n",
       " 654562 2017-09-13 08:40:00+00:00  1.19852  1.19900  1.19850  1.19882\n",
       " 654563 2017-09-13 08:45:00+00:00  1.19886  1.19891  1.19831  1.19854\n",
       " 654564 2017-09-13 08:50:00+00:00  1.19852  1.19864  1.19807  1.19819\n",
       " 654565 2017-09-13 08:55:00+00:00  1.19822  1.19822  1.19787  1.19794\n",
       " 654566 2017-09-13 09:00:00+00:00  1.19799  1.19833  1.19789  1.19808\n",
       " 654567 2017-09-13 09:05:00+00:00  1.19810  1.19821  1.19758  1.19786\n",
       " 654568 2017-09-13 09:10:00+00:00  1.19787  1.19793  1.19768  1.19788\n",
       " 654569 2017-09-13 09:15:00+00:00  1.19784  1.19789  1.19764  1.19771\n",
       " 654570 2017-09-13 09:20:00+00:00  1.19770  1.19774  1.19734  1.19749\n",
       " 654571 2017-09-13 09:25:00+00:00  1.19746  1.19760  1.19726  1.19757\n",
       " 654572 2017-09-13 09:30:00+00:00  1.19756  1.19774  1.19738  1.19741,\n",
       "                        timestamp     open     high      low    close\n",
       " 660598 2017-10-12 08:30:00+00:00  1.18642  1.18647  1.18608  1.18630\n",
       " 660599 2017-10-12 08:35:00+00:00  1.18629  1.18630  1.18608  1.18629\n",
       " 660600 2017-10-12 08:40:00+00:00  1.18634  1.18660  1.18632  1.18642\n",
       " 660601 2017-10-12 08:45:00+00:00  1.18641  1.18647  1.18604  1.18610\n",
       " 660602 2017-10-12 08:50:00+00:00  1.18611  1.18639  1.18611  1.18614\n",
       " 660603 2017-10-12 08:55:00+00:00  1.18614  1.18634  1.18614  1.18624\n",
       " 660604 2017-10-12 09:00:00+00:00  1.18628  1.18659  1.18622  1.18644\n",
       " 660605 2017-10-12 09:05:00+00:00  1.18644  1.18648  1.18616  1.18617\n",
       " 660606 2017-10-12 09:10:00+00:00  1.18613  1.18637  1.18609  1.18623\n",
       " 660607 2017-10-12 09:15:00+00:00  1.18626  1.18630  1.18600  1.18602\n",
       " 660608 2017-10-12 09:20:00+00:00  1.18597  1.18597  1.18516  1.18527\n",
       " 660609 2017-10-12 09:25:00+00:00  1.18528  1.18550  1.18524  1.18532\n",
       " 660610 2017-10-12 09:30:00+00:00  1.18532  1.18548  1.18512  1.18547,\n",
       "                        timestamp     open     high      low    close\n",
       " 667211 2017-11-14 09:30:00+00:00  1.17079  1.17081  1.17055  1.17056\n",
       " 667212 2017-11-14 09:35:00+00:00  1.17051  1.17200  1.17051  1.17174\n",
       " 667213 2017-11-14 09:40:00+00:00  1.17174  1.17174  1.17146  1.17155\n",
       " 667214 2017-11-14 09:45:00+00:00  1.17159  1.17183  1.17144  1.17178\n",
       " 667215 2017-11-14 09:50:00+00:00  1.17174  1.17186  1.17162  1.17172\n",
       " 667216 2017-11-14 09:55:00+00:00  1.17176  1.17196  1.17168  1.17179\n",
       " 667217 2017-11-14 10:00:00+00:00  1.17177  1.17194  1.17129  1.17162\n",
       " 667218 2017-11-14 10:05:00+00:00  1.17161  1.17184  1.17141  1.17180\n",
       " 667219 2017-11-14 10:10:00+00:00  1.17177  1.17177  1.17142  1.17163\n",
       " 667220 2017-11-14 10:15:00+00:00  1.17165  1.17168  1.17146  1.17154\n",
       " 667221 2017-11-14 10:20:00+00:00  1.17152  1.17252  1.17152  1.17214\n",
       " 667222 2017-11-14 10:25:00+00:00  1.17208  1.17216  1.17195  1.17202\n",
       " 667223 2017-11-14 10:30:00+00:00  1.17204  1.17248  1.17204  1.17223,\n",
       "                        timestamp     open     high      low    close\n",
       " 673236 2017-12-13 09:30:00+00:00  1.17486  1.17526  1.17482  1.17518\n",
       " 673237 2017-12-13 09:35:00+00:00  1.17517  1.17520  1.17452  1.17456\n",
       " 673238 2017-12-13 09:40:00+00:00  1.17453  1.17468  1.17424  1.17441\n",
       " 673239 2017-12-13 09:45:00+00:00  1.17438  1.17443  1.17406  1.17432\n",
       " 673240 2017-12-13 09:50:00+00:00  1.17428  1.17466  1.17420  1.17466\n",
       " 673241 2017-12-13 09:55:00+00:00  1.17466  1.17504  1.17452  1.17490\n",
       " 673242 2017-12-13 10:00:00+00:00  1.17490  1.17544  1.17490  1.17520\n",
       " 673243 2017-12-13 10:05:00+00:00  1.17522  1.17524  1.17497  1.17503\n",
       " 673244 2017-12-13 10:10:00+00:00  1.17507  1.17508  1.17472  1.17479\n",
       " 673245 2017-12-13 10:15:00+00:00  1.17474  1.17499  1.17468  1.17472\n",
       " 673246 2017-12-13 10:20:00+00:00  1.17476  1.17500  1.17472  1.17500\n",
       " 673247 2017-12-13 10:25:00+00:00  1.17505  1.17506  1.17480  1.17484\n",
       " 673248 2017-12-13 10:30:00+00:00  1.17482  1.17484  1.17462  1.17472,\n",
       "                        timestamp     open     high      low    close\n",
       " 678689 2018-01-11 09:30:00+00:00  1.19422  1.19422  1.19383  1.19401\n",
       " 678690 2018-01-11 09:35:00+00:00  1.19397  1.19418  1.19374  1.19409\n",
       " 678691 2018-01-11 09:40:00+00:00  1.19412  1.19495  1.19411  1.19472\n",
       " 678692 2018-01-11 09:45:00+00:00  1.19472  1.19480  1.19424  1.19426\n",
       " 678693 2018-01-11 09:50:00+00:00  1.19426  1.19468  1.19426  1.19460\n",
       " 678694 2018-01-11 09:55:00+00:00  1.19455  1.19484  1.19435  1.19477\n",
       " 678695 2018-01-11 10:00:00+00:00  1.19478  1.19498  1.19466  1.19487\n",
       " 678696 2018-01-11 10:05:00+00:00  1.19489  1.19492  1.19451  1.19455\n",
       " 678697 2018-01-11 10:10:00+00:00  1.19454  1.19476  1.19436  1.19442\n",
       " 678698 2018-01-11 10:15:00+00:00  1.19444  1.19452  1.19390  1.19431\n",
       " 678699 2018-01-11 10:20:00+00:00  1.19426  1.19437  1.19401  1.19404\n",
       " 678700 2018-01-11 10:25:00+00:00  1.19404  1.19486  1.19404  1.19476\n",
       " 678701 2018-01-11 10:30:00+00:00  1.19472  1.19518  1.19472  1.19498,\n",
       "                        timestamp     open     high      low    close\n",
       " 685592 2018-02-14 09:30:00+00:00  1.23634  1.23634  1.23582  1.23588\n",
       " 685593 2018-02-14 09:35:00+00:00  1.23587  1.23600  1.23562  1.23573\n",
       " 685594 2018-02-14 09:40:00+00:00  1.23570  1.23576  1.23532  1.23533\n",
       " 685595 2018-02-14 09:45:00+00:00  1.23532  1.23552  1.23532  1.23546\n",
       " 685596 2018-02-14 09:50:00+00:00  1.23546  1.23559  1.23531  1.23550\n",
       " 685597 2018-02-14 09:55:00+00:00  1.23552  1.23567  1.23509  1.23527\n",
       " 685598 2018-02-14 10:00:00+00:00  1.23526  1.23570  1.23472  1.23474\n",
       " 685599 2018-02-14 10:05:00+00:00  1.23472  1.23502  1.23472  1.23496\n",
       " 685600 2018-02-14 10:10:00+00:00  1.23496  1.23496  1.23459  1.23470\n",
       " 685601 2018-02-14 10:15:00+00:00  1.23474  1.23500  1.23472  1.23494\n",
       " 685602 2018-02-14 10:20:00+00:00  1.23497  1.23518  1.23486  1.23504\n",
       " 685603 2018-02-14 10:25:00+00:00  1.23504  1.23520  1.23495  1.23497\n",
       " 685604 2018-02-14 10:30:00+00:00  1.23498  1.23516  1.23466  1.23516,\n",
       "                        timestamp     open     high      low    close\n",
       " 691349 2018-03-14 09:30:00+00:00  1.23772  1.23811  1.23751  1.23768\n",
       " 691350 2018-03-14 09:35:00+00:00  1.23768  1.23768  1.23682  1.23702\n",
       " 691351 2018-03-14 09:40:00+00:00  1.23706  1.23716  1.23654  1.23680\n",
       " 691352 2018-03-14 09:45:00+00:00  1.23676  1.23708  1.23616  1.23654\n",
       " 691353 2018-03-14 09:50:00+00:00  1.23654  1.23654  1.23612  1.23654\n",
       " 691354 2018-03-14 09:55:00+00:00  1.23654  1.23670  1.23636  1.23668\n",
       " 691355 2018-03-14 10:00:00+00:00  1.23670  1.23700  1.23654  1.23693\n",
       " 691356 2018-03-14 10:05:00+00:00  1.23691  1.23699  1.23674  1.23674\n",
       " 691357 2018-03-14 10:10:00+00:00  1.23672  1.23700  1.23642  1.23694\n",
       " 691358 2018-03-14 10:15:00+00:00  1.23696  1.23710  1.23660  1.23672\n",
       " 691359 2018-03-14 10:20:00+00:00  1.23674  1.23684  1.23656  1.23666\n",
       " 691360 2018-03-14 10:25:00+00:00  1.23667  1.23672  1.23642  1.23658\n",
       " 691361 2018-03-14 10:30:00+00:00  1.23660  1.23674  1.23638  1.23656,\n",
       "                        timestamp     open     high      low    close\n",
       " 697357 2018-04-12 08:30:00+00:00  1.23692  1.23692  1.23659  1.23673\n",
       " 697358 2018-04-12 08:35:00+00:00  1.23672  1.23678  1.23640  1.23657\n",
       " 697359 2018-04-12 08:40:00+00:00  1.23656  1.23667  1.23645  1.23656\n",
       " 697360 2018-04-12 08:45:00+00:00  1.23652  1.23654  1.23584  1.23594\n",
       " 697361 2018-04-12 08:50:00+00:00  1.23592  1.23600  1.23566  1.23584\n",
       " 697362 2018-04-12 08:55:00+00:00  1.23581  1.23581  1.23450  1.23459\n",
       " 697363 2018-04-12 09:00:00+00:00  1.23458  1.23462  1.23370  1.23374\n",
       " 697364 2018-04-12 09:05:00+00:00  1.23372  1.23394  1.23356  1.23386\n",
       " 697365 2018-04-12 09:10:00+00:00  1.23390  1.23423  1.23342  1.23350\n",
       " 697366 2018-04-12 09:15:00+00:00  1.23352  1.23384  1.23308  1.23368\n",
       " 697367 2018-04-12 09:20:00+00:00  1.23362  1.23377  1.23349  1.23377\n",
       " 697368 2018-04-12 09:25:00+00:00  1.23380  1.23402  1.23370  1.23380\n",
       " 697369 2018-04-12 09:30:00+00:00  1.23386  1.23389  1.23340  1.23348,\n",
       "                        timestamp     open     high      low    close\n",
       " 703958 2018-05-15 08:30:00+00:00  1.19242  1.19268  1.19171  1.19184\n",
       " 703959 2018-05-15 08:35:00+00:00  1.19184  1.19236  1.19178  1.19236\n",
       " 703960 2018-05-15 08:40:00+00:00  1.19240  1.19241  1.19190  1.19192\n",
       " 703961 2018-05-15 08:45:00+00:00  1.19196  1.19196  1.19162  1.19167\n",
       " 703962 2018-05-15 08:50:00+00:00  1.19164  1.19190  1.19147  1.19156\n",
       " 703963 2018-05-15 08:55:00+00:00  1.19157  1.19208  1.19152  1.19193\n",
       " 703964 2018-05-15 09:00:00+00:00  1.19184  1.19232  1.19166  1.19220\n",
       " 703965 2018-05-15 09:05:00+00:00  1.19221  1.19254  1.19216  1.19248\n",
       " 703966 2018-05-15 09:10:00+00:00  1.19252  1.19282  1.19243  1.19243\n",
       " 703967 2018-05-15 09:15:00+00:00  1.19238  1.19251  1.19217  1.19251\n",
       " 703968 2018-05-15 09:20:00+00:00  1.19250  1.19270  1.19237  1.19268\n",
       " 703969 2018-05-15 09:25:00+00:00  1.19266  1.19275  1.19240  1.19272\n",
       " 703970 2018-05-15 09:30:00+00:00  1.19276  1.19294  1.19263  1.19288,\n",
       "                        timestamp     open     high      low    close\n",
       " 709990 2018-06-13 08:30:00+00:00  1.17392  1.17438  1.17361  1.17414\n",
       " 709991 2018-06-13 08:35:00+00:00  1.17414  1.17440  1.17408  1.17416\n",
       " 709992 2018-06-13 08:40:00+00:00  1.17414  1.17462  1.17404  1.17458\n",
       " 709993 2018-06-13 08:45:00+00:00  1.17454  1.17454  1.17412  1.17415\n",
       " 709994 2018-06-13 08:50:00+00:00  1.17413  1.17454  1.17401  1.17430\n",
       " 709995 2018-06-13 08:55:00+00:00  1.17426  1.17442  1.17405  1.17441\n",
       " 709996 2018-06-13 09:00:00+00:00  1.17434  1.17448  1.17388  1.17441\n",
       " 709997 2018-06-13 09:05:00+00:00  1.17438  1.17500  1.17438  1.17494\n",
       " 709998 2018-06-13 09:10:00+00:00  1.17492  1.17492  1.17470  1.17480\n",
       " 709999 2018-06-13 09:15:00+00:00  1.17478  1.17480  1.17440  1.17449\n",
       " 710000 2018-06-13 09:20:00+00:00  1.17450  1.17491  1.17414  1.17473\n",
       " 710001 2018-06-13 09:25:00+00:00  1.17474  1.17488  1.17456  1.17477\n",
       " 710002 2018-06-13 09:30:00+00:00  1.17476  1.17496  1.17438  1.17486,\n",
       "                        timestamp     open     high      low    close\n",
       " 716026 2018-07-12 08:30:00+00:00  1.16880  1.16898  1.16848  1.16849\n",
       " 716027 2018-07-12 08:35:00+00:00  1.16852  1.16869  1.16828  1.16854\n",
       " 716028 2018-07-12 08:40:00+00:00  1.16855  1.16855  1.16810  1.16810\n",
       " 716029 2018-07-12 08:45:00+00:00  1.16810  1.16825  1.16780  1.16824\n",
       " 716030 2018-07-12 08:50:00+00:00  1.16825  1.16846  1.16811  1.16846\n",
       " 716031 2018-07-12 08:55:00+00:00  1.16846  1.16872  1.16728  1.16746\n",
       " 716032 2018-07-12 09:00:00+00:00  1.16747  1.16836  1.16730  1.16756\n",
       " 716033 2018-07-12 09:05:00+00:00  1.16759  1.16794  1.16756  1.16766\n",
       " 716034 2018-07-12 09:10:00+00:00  1.16764  1.16792  1.16749  1.16766\n",
       " 716035 2018-07-12 09:15:00+00:00  1.16762  1.16786  1.16749  1.16780\n",
       " 716036 2018-07-12 09:20:00+00:00  1.16776  1.16787  1.16762  1.16767\n",
       " 716037 2018-07-12 09:25:00+00:00  1.16768  1.16795  1.16762  1.16774\n",
       " 716038 2018-07-12 09:30:00+00:00  1.16777  1.16797  1.16768  1.16776,\n",
       "                        timestamp     open     high      low    close\n",
       " 722632 2018-08-14 08:30:00+00:00  1.14126  1.14149  1.14043  1.14081\n",
       " 722633 2018-08-14 08:35:00+00:00  1.14082  1.14091  1.14000  1.14014\n",
       " 722634 2018-08-14 08:40:00+00:00  1.14008  1.14044  1.14003  1.14026\n",
       " 722635 2018-08-14 08:45:00+00:00  1.14021  1.14026  1.13882  1.13903\n",
       " 722636 2018-08-14 08:50:00+00:00  1.13898  1.13959  1.13898  1.13946\n",
       " 722637 2018-08-14 08:55:00+00:00  1.13942  1.13948  1.13842  1.13862\n",
       " 722638 2018-08-14 09:00:00+00:00  1.13854  1.13898  1.13800  1.13818\n",
       " 722639 2018-08-14 09:05:00+00:00  1.13814  1.13938  1.13812  1.13923\n",
       " 722640 2018-08-14 09:10:00+00:00  1.13918  1.13940  1.13855  1.13888\n",
       " 722641 2018-08-14 09:15:00+00:00  1.13890  1.13968  1.13868  1.13956\n",
       " 722642 2018-08-14 09:20:00+00:00  1.13956  1.13964  1.13907  1.13914\n",
       " 722643 2018-08-14 09:25:00+00:00  1.13915  1.13937  1.13901  1.13930\n",
       " 722644 2018-08-14 09:30:00+00:00  1.13929  1.13958  1.13920  1.13931,\n",
       "                        timestamp     open     high      low    close\n",
       " 728666 2018-09-12 08:30:00+00:00  1.16014  1.16050  1.15993  1.16002\n",
       " 728667 2018-09-12 08:35:00+00:00  1.16002  1.16033  1.15856  1.15926\n",
       " 728668 2018-09-12 08:40:00+00:00  1.15926  1.15926  1.15806  1.15842\n",
       " 728669 2018-09-12 08:45:00+00:00  1.15836  1.15836  1.15759  1.15826\n",
       " 728670 2018-09-12 08:50:00+00:00  1.15822  1.15876  1.15820  1.15861\n",
       " 728671 2018-09-12 08:55:00+00:00  1.15862  1.15904  1.15852  1.15902\n",
       " 728672 2018-09-12 09:00:00+00:00  1.15901  1.15906  1.15832  1.15845\n",
       " 728673 2018-09-12 09:05:00+00:00  1.15846  1.15895  1.15842  1.15878\n",
       " 728674 2018-09-12 09:10:00+00:00  1.15876  1.15924  1.15856  1.15891\n",
       " 728675 2018-09-12 09:15:00+00:00  1.15896  1.15955  1.15896  1.15919\n",
       " 728676 2018-09-12 09:20:00+00:00  1.15914  1.15936  1.15894  1.15921\n",
       " 728677 2018-09-12 09:25:00+00:00  1.15916  1.15946  1.15908  1.15926\n",
       " 728678 2018-09-12 09:30:00+00:00  1.15926  1.15991  1.15918  1.15982,\n",
       "                        timestamp     open     high      low    close\n",
       " 734984 2018-10-12 08:30:00+00:00  1.15808  1.15822  1.15792  1.15820\n",
       " 734985 2018-10-12 08:35:00+00:00  1.15825  1.15844  1.15790  1.15804\n",
       " 734986 2018-10-12 08:40:00+00:00  1.15804  1.15855  1.15802  1.15831\n",
       " 734987 2018-10-12 08:45:00+00:00  1.15834  1.15858  1.15830  1.15838\n",
       " 734988 2018-10-12 08:50:00+00:00  1.15835  1.15875  1.15819  1.15870\n",
       " 734989 2018-10-12 08:55:00+00:00  1.15873  1.15900  1.15850  1.15868\n",
       " 734990 2018-10-12 09:00:00+00:00  1.15868  1.15883  1.15850  1.15864\n",
       " 734991 2018-10-12 09:05:00+00:00  1.15868  1.15884  1.15838  1.15869\n",
       " 734992 2018-10-12 09:10:00+00:00  1.15870  1.15886  1.15860  1.15866\n",
       " 734993 2018-10-12 09:15:00+00:00  1.15866  1.15882  1.15846  1.15854\n",
       " 734994 2018-10-12 09:20:00+00:00  1.15850  1.15856  1.15828  1.15834\n",
       " 734995 2018-10-12 09:25:00+00:00  1.15834  1.15834  1.15798  1.15808\n",
       " 734996 2018-10-12 09:30:00+00:00  1.15807  1.15874  1.15807  1.15864,\n",
       "                        timestamp     open     high      low    close\n",
       " 741594 2018-11-14 09:30:00+00:00  1.12788  1.12806  1.12730  1.12747\n",
       " 741595 2018-11-14 09:35:00+00:00  1.12744  1.12758  1.12720  1.12744\n",
       " 741596 2018-11-14 09:40:00+00:00  1.12742  1.12754  1.12706  1.12717\n",
       " 741597 2018-11-14 09:45:00+00:00  1.12713  1.12728  1.12692  1.12699\n",
       " 741598 2018-11-14 09:50:00+00:00  1.12699  1.12704  1.12670  1.12672\n",
       " 741599 2018-11-14 09:55:00+00:00  1.12671  1.12703  1.12671  1.12696\n",
       " 741600 2018-11-14 10:00:00+00:00  1.12696  1.12713  1.12684  1.12697\n",
       " 741601 2018-11-14 10:05:00+00:00  1.12699  1.12728  1.12684  1.12690\n",
       " 741602 2018-11-14 10:10:00+00:00  1.12688  1.12690  1.12647  1.12676\n",
       " 741603 2018-11-14 10:15:00+00:00  1.12679  1.12711  1.12666  1.12704\n",
       " 741604 2018-11-14 10:20:00+00:00  1.12700  1.12714  1.12674  1.12704\n",
       " 741605 2018-11-14 10:25:00+00:00  1.12700  1.12710  1.12664  1.12676\n",
       " 741606 2018-11-14 10:30:00+00:00  1.12676  1.12714  1.12667  1.12702,\n",
       "                        timestamp     open     high      low    close\n",
       " 747338 2018-12-12 09:30:00+00:00  1.13266  1.13302  1.13260  1.13288\n",
       " 747339 2018-12-12 09:35:00+00:00  1.13291  1.13316  1.13278  1.13315\n",
       " 747340 2018-12-12 09:40:00+00:00  1.13311  1.13318  1.13286  1.13315\n",
       " 747341 2018-12-12 09:45:00+00:00  1.13316  1.13370  1.13313  1.13351\n",
       " 747342 2018-12-12 09:50:00+00:00  1.13356  1.13374  1.13333  1.13338\n",
       " 747343 2018-12-12 09:55:00+00:00  1.13338  1.13352  1.13324  1.13335\n",
       " 747344 2018-12-12 10:00:00+00:00  1.13338  1.13360  1.13323  1.13354\n",
       " 747345 2018-12-12 10:05:00+00:00  1.13354  1.13385  1.13346  1.13354\n",
       " 747346 2018-12-12 10:10:00+00:00  1.13352  1.13364  1.13336  1.13342\n",
       " 747347 2018-12-12 10:15:00+00:00  1.13340  1.13341  1.13290  1.13328\n",
       " 747348 2018-12-12 10:20:00+00:00  1.13327  1.13358  1.13310  1.13344\n",
       " 747349 2018-12-12 10:25:00+00:00  1.13344  1.13358  1.13333  1.13340\n",
       " 747350 2018-12-12 10:30:00+00:00  1.13340  1.13353  1.13338  1.13352,\n",
       "                        timestamp     open     high      low    close\n",
       " 753369 2019-01-14 09:30:00+00:00  1.14722  1.14725  1.14675  1.14711\n",
       " 753370 2019-01-14 09:35:00+00:00  1.14712  1.14732  1.14695  1.14700\n",
       " 753371 2019-01-14 09:40:00+00:00  1.14702  1.14718  1.14676  1.14691\n",
       " 753372 2019-01-14 09:45:00+00:00  1.14691  1.14691  1.14644  1.14650\n",
       " 753373 2019-01-14 09:50:00+00:00  1.14648  1.14654  1.14607  1.14614\n",
       " 753374 2019-01-14 09:55:00+00:00  1.14617  1.14656  1.14610  1.14624\n",
       " 753375 2019-01-14 10:00:00+00:00  1.14625  1.14638  1.14557  1.14560\n",
       " 753376 2019-01-14 10:05:00+00:00  1.14557  1.14592  1.14546  1.14584\n",
       " 753377 2019-01-14 10:10:00+00:00  1.14581  1.14584  1.14508  1.14538\n",
       " 753378 2019-01-14 10:15:00+00:00  1.14536  1.14556  1.14524  1.14534\n",
       " 753379 2019-01-14 10:20:00+00:00  1.14534  1.14576  1.14534  1.14561\n",
       " 753380 2019-01-14 10:25:00+00:00  1.14558  1.14588  1.14555  1.14586\n",
       " 753381 2019-01-14 10:30:00+00:00  1.14582  1.14583  1.14545  1.14548,\n",
       "                        timestamp     open     high      low    close\n",
       " 759682 2019-02-13 09:30:00+00:00  1.13256  1.13262  1.13242  1.13248\n",
       " 759683 2019-02-13 09:35:00+00:00  1.13250  1.13259  1.13232  1.13232\n",
       " 759684 2019-02-13 09:40:00+00:00  1.13230  1.13244  1.13214  1.13242\n",
       " 759685 2019-02-13 09:45:00+00:00  1.13244  1.13260  1.13222  1.13254\n",
       " 759686 2019-02-13 09:50:00+00:00  1.13252  1.13254  1.13223  1.13225\n",
       " 759687 2019-02-13 09:55:00+00:00  1.13227  1.13234  1.13205  1.13207\n",
       " 759688 2019-02-13 10:00:00+00:00  1.13205  1.13205  1.13148  1.13159\n",
       " 759689 2019-02-13 10:05:00+00:00  1.13162  1.13198  1.13154  1.13174\n",
       " 759690 2019-02-13 10:10:00+00:00  1.13176  1.13190  1.13168  1.13185\n",
       " 759691 2019-02-13 10:15:00+00:00  1.13182  1.13196  1.13175  1.13194\n",
       " 759692 2019-02-13 10:20:00+00:00  1.13196  1.13196  1.13172  1.13172\n",
       " 759693 2019-02-13 10:25:00+00:00  1.13174  1.13174  1.13127  1.13132\n",
       " 759694 2019-02-13 10:30:00+00:00  1.13130  1.13154  1.13126  1.13152,\n",
       "                        timestamp     open     high      low    close\n",
       " 765430 2019-03-13 09:30:00+00:00  1.12942  1.12946  1.12918  1.12922\n",
       " 765431 2019-03-13 09:35:00+00:00  1.12925  1.12930  1.12910  1.12915\n",
       " 765432 2019-03-13 09:40:00+00:00  1.12918  1.12948  1.12916  1.12946\n",
       " 765433 2019-03-13 09:45:00+00:00  1.12948  1.12952  1.12934  1.12942\n",
       " 765434 2019-03-13 09:50:00+00:00  1.12944  1.12958  1.12927  1.12927\n",
       " 765435 2019-03-13 09:55:00+00:00  1.12924  1.12952  1.12922  1.12940\n",
       " 765436 2019-03-13 10:00:00+00:00  1.12942  1.12998  1.12942  1.12988\n",
       " 765437 2019-03-13 10:05:00+00:00  1.12990  1.13028  1.12988  1.13005\n",
       " 765438 2019-03-13 10:10:00+00:00  1.13008  1.13012  1.12988  1.12992\n",
       " 765439 2019-03-13 10:15:00+00:00  1.12994  1.12994  1.12960  1.12964\n",
       " 765440 2019-03-13 10:20:00+00:00  1.12962  1.12978  1.12961  1.12970\n",
       " 765441 2019-03-13 10:25:00+00:00  1.12973  1.12988  1.12961  1.12980\n",
       " 765442 2019-03-13 10:30:00+00:00  1.12982  1.12982  1.12952  1.12956,\n",
       "                        timestamp     open     high      low    close\n",
       " 771722 2019-04-12 08:30:00+00:00  1.12985  1.13034  1.12977  1.13028\n",
       " 771723 2019-04-12 08:35:00+00:00  1.13030  1.13080  1.13022  1.13080\n",
       " 771724 2019-04-12 08:40:00+00:00  1.13082  1.13093  1.13054  1.13093\n",
       " 771725 2019-04-12 08:45:00+00:00  1.13096  1.13100  1.13048  1.13060\n",
       " 771726 2019-04-12 08:50:00+00:00  1.13062  1.13062  1.13028  1.13052\n",
       " 771727 2019-04-12 08:55:00+00:00  1.13048  1.13070  1.13040  1.13056\n",
       " 771728 2019-04-12 09:00:00+00:00  1.13054  1.13094  1.13049  1.13094\n",
       " 771729 2019-04-12 09:05:00+00:00  1.13091  1.13112  1.13084  1.13098\n",
       " 771730 2019-04-12 09:10:00+00:00  1.13100  1.13125  1.13100  1.13120\n",
       " 771731 2019-04-12 09:15:00+00:00  1.13123  1.13130  1.13108  1.13117\n",
       " 771732 2019-04-12 09:20:00+00:00  1.13115  1.13117  1.13081  1.13085\n",
       " 771733 2019-04-12 09:25:00+00:00  1.13088  1.13101  1.13076  1.13093\n",
       " 771734 2019-04-12 09:30:00+00:00  1.13096  1.13098  1.13062  1.13066,\n",
       "                        timestamp     open     high      low    close\n",
       " 777982 2019-05-14 08:30:00+00:00  1.12405  1.12408  1.12391  1.12394\n",
       " 777983 2019-05-14 08:35:00+00:00  1.12390  1.12406  1.12388  1.12397\n",
       " 777984 2019-05-14 08:40:00+00:00  1.12394  1.12400  1.12389  1.12394\n",
       " 777985 2019-05-14 08:45:00+00:00  1.12392  1.12418  1.12392  1.12418\n",
       " 777986 2019-05-14 08:50:00+00:00  1.12415  1.12438  1.12412  1.12432\n",
       " 777987 2019-05-14 08:55:00+00:00  1.12434  1.12438  1.12426  1.12426\n",
       " 777988 2019-05-14 09:00:00+00:00  1.12424  1.12426  1.12372  1.12385\n",
       " 777989 2019-05-14 09:05:00+00:00  1.12382  1.12418  1.12382  1.12418\n",
       " 777990 2019-05-14 09:10:00+00:00  1.12421  1.12433  1.12402  1.12404\n",
       " 777991 2019-05-14 09:15:00+00:00  1.12406  1.12408  1.12388  1.12388\n",
       " 777992 2019-05-14 09:20:00+00:00  1.12390  1.12400  1.12383  1.12388\n",
       " 777993 2019-05-14 09:25:00+00:00  1.12390  1.12432  1.12390  1.12404\n",
       " 777994 2019-05-14 09:30:00+00:00  1.12402  1.12410  1.12370  1.12370,\n",
       "                        timestamp     open     high      low    close\n",
       " 784242 2019-06-13 08:30:00+00:00  1.12956  1.12968  1.12944  1.12954\n",
       " 784243 2019-06-13 08:35:00+00:00  1.12952  1.12969  1.12944  1.12950\n",
       " 784244 2019-06-13 08:40:00+00:00  1.12947  1.12978  1.12945  1.12976\n",
       " 784245 2019-06-13 08:45:00+00:00  1.12974  1.12990  1.12964  1.12988\n",
       " 784246 2019-06-13 08:50:00+00:00  1.12986  1.12995  1.12969  1.12972\n",
       " 784247 2019-06-13 08:55:00+00:00  1.12970  1.12970  1.12918  1.12918\n",
       " 784248 2019-06-13 09:00:00+00:00  1.12920  1.12946  1.12918  1.12922\n",
       " 784249 2019-06-13 09:05:00+00:00  1.12920  1.12927  1.12904  1.12906\n",
       " 784250 2019-06-13 09:10:00+00:00  1.12904  1.12906  1.12891  1.12906\n",
       " 784251 2019-06-13 09:15:00+00:00  1.12904  1.12930  1.12903  1.12928\n",
       " 784252 2019-06-13 09:20:00+00:00  1.12930  1.12958  1.12930  1.12948\n",
       " 784253 2019-06-13 09:25:00+00:00  1.12945  1.12949  1.12931  1.12934\n",
       " 784254 2019-06-13 09:30:00+00:00  1.12932  1.12937  1.12913  1.12913,\n",
       "                        timestamp     open     high      low    close\n",
       " 790222 2019-07-12 08:30:00+00:00  1.12652  1.12652  1.12618  1.12638\n",
       " 790223 2019-07-12 08:35:00+00:00  1.12641  1.12662  1.12623  1.12632\n",
       " 790224 2019-07-12 08:40:00+00:00  1.12630  1.12648  1.12614  1.12644\n",
       " 790225 2019-07-12 08:45:00+00:00  1.12642  1.12648  1.12620  1.12639\n",
       " 790226 2019-07-12 08:50:00+00:00  1.12636  1.12658  1.12616  1.12648\n",
       " 790227 2019-07-12 08:55:00+00:00  1.12646  1.12654  1.12618  1.12622\n",
       " 790228 2019-07-12 09:00:00+00:00  1.12624  1.12670  1.12624  1.12640\n",
       " 790229 2019-07-12 09:05:00+00:00  1.12643  1.12652  1.12620  1.12649\n",
       " 790230 2019-07-12 09:10:00+00:00  1.12647  1.12658  1.12631  1.12639\n",
       " 790231 2019-07-12 09:15:00+00:00  1.12642  1.12659  1.12622  1.12627\n",
       " 790232 2019-07-12 09:20:00+00:00  1.12629  1.12629  1.12583  1.12588\n",
       " 790233 2019-07-12 09:25:00+00:00  1.12590  1.12600  1.12564  1.12572\n",
       " 790234 2019-07-12 09:30:00+00:00  1.12569  1.12585  1.12546  1.12585,\n",
       "                        timestamp     open     high      low    close\n",
       " 796798 2019-08-14 08:30:00+00:00  1.11807  1.11835  1.11798  1.11835\n",
       " 796799 2019-08-14 08:35:00+00:00  1.11832  1.11854  1.11830  1.11834\n",
       " 796800 2019-08-14 08:40:00+00:00  1.11832  1.11846  1.11827  1.11836\n",
       " 796801 2019-08-14 08:45:00+00:00  1.11834  1.11845  1.11806  1.11806\n",
       " 796802 2019-08-14 08:50:00+00:00  1.11804  1.11809  1.11786  1.11788\n",
       " 796803 2019-08-14 08:55:00+00:00  1.11790  1.11790  1.11763  1.11763\n",
       " 796804 2019-08-14 09:00:00+00:00  1.11760  1.11768  1.11732  1.11746\n",
       " 796805 2019-08-14 09:05:00+00:00  1.11744  1.11775  1.11726  1.11766\n",
       " 796806 2019-08-14 09:10:00+00:00  1.11768  1.11800  1.11768  1.11800\n",
       " 796807 2019-08-14 09:15:00+00:00  1.11797  1.11798  1.11776  1.11796\n",
       " 796808 2019-08-14 09:20:00+00:00  1.11792  1.11828  1.11790  1.11826\n",
       " 796809 2019-08-14 09:25:00+00:00  1.11828  1.11838  1.11814  1.11834\n",
       " 796810 2019-08-14 09:30:00+00:00  1.11831  1.11846  1.11820  1.11846,\n",
       "                        timestamp     open     high      low    close\n",
       " 802783 2019-09-12 08:30:00+00:00  1.10279  1.10290  1.10268  1.10286\n",
       " 802784 2019-09-12 08:35:00+00:00  1.10283  1.10294  1.10269  1.10271\n",
       " 802785 2019-09-12 08:40:00+00:00  1.10269  1.10280  1.10258  1.10266\n",
       " 802786 2019-09-12 08:45:00+00:00  1.10263  1.10272  1.10251  1.10268\n",
       " 802787 2019-09-12 08:50:00+00:00  1.10265  1.10286  1.10252  1.10274\n",
       " 802788 2019-09-12 08:55:00+00:00  1.10272  1.10277  1.10258  1.10272\n",
       " 802789 2019-09-12 09:00:00+00:00  1.10270  1.10276  1.10253  1.10276\n",
       " 802790 2019-09-12 09:05:00+00:00  1.10273  1.10285  1.10260  1.10281\n",
       " 802791 2019-09-12 09:10:00+00:00  1.10278  1.10281  1.10266  1.10270\n",
       " 802792 2019-09-12 09:15:00+00:00  1.10268  1.10283  1.10261  1.10271\n",
       " 802793 2019-09-12 09:20:00+00:00  1.10268  1.10280  1.10266  1.10271\n",
       " 802794 2019-09-12 09:25:00+00:00  1.10274  1.10282  1.10271  1.10282\n",
       " 802795 2019-09-12 09:30:00+00:00  1.10280  1.10282  1.10270  1.10272]"
      ]
     },
     "execution_count": 16,
     "metadata": {},
     "output_type": "execute_result"
    }
   ],
   "source": [
    "# Utilizamos compresión de listas para sacar un DataFrame de los indicadores para hacer match entre los comunicados del\n",
    "# indicador y los precios\n",
    "#Se busca desde la fecha y hora del indicador agarrar los precios de 30 minutos antes y 30 minutos despues (mas menos 6 periodos)\n",
    "periodosRS = [df.iloc[i-6:i+7]for i in comparacionRS.index]\n",
    "periodosIP = [df.iloc[i-6:i+7]for i in comparacionIP.index]\n",
    "periodosIP"
   ]
  },
  {
   "cell_type": "markdown",
   "metadata": {},
   "source": [
    "o (Dirección) Close (t_30) - Open(t_0)\n",
    "\n",
    "o (Pips Alcistas) High(t_0 : t_30) – Open(t_0)\n",
    "\n",
    "o (Pips Bajistas) Open(t_0) – Low(t_0 : t_30)\n",
    "\n",
    "o (Volatilidad) High(t_-30 : t_30) , - mínimo low (t_-30:t_30)"
   ]
  },
  {
   "cell_type": "code",
   "execution_count": 30,
   "metadata": {},
   "outputs": [],
   "source": [
    "# Con esta función se saca dirección, pips alcistas, pips bajistas y volatilidad de los precios de cada comunicado del indicador\n",
    "# Se le mete el DataFrame de los comunicados de nuestro indicador y el match de los precios con el indicador\n",
    "def finalDF(DataFrame,periodos):\n",
    "\n",
    "    DataFrame['direccion']= DataFrame['actual']\n",
    "    DataFrame['pips alcistas']=DataFrame['actual']\n",
    "    DataFrame['pips bajistas']= DataFrame['actual']\n",
    "    DataFrame['volatilidad']=DataFrame['actual']\n",
    "\n",
    "    for i in range(len(DataFrame)):\n",
    "\n",
    "        DataFrame['direccion'][i] = periodos[i][\"close\"].iloc[-1] - periodos[i][\"open\"].iloc[6]\n",
    "        DataFrame['pips alcistas'][i] = periodos[i][\"high\"].iloc[6:-1].max() - periodos[i][\"open\"].iloc[0]\n",
    "        DataFrame['pips bajistas'][i] = periodos[i][\"open\"].iloc[0] - periodos[i][\"low\"].iloc[6:-1].min()\n",
    "        DataFrame['volatilidad'][i] = periodos[i][\"high\"].max()-periodos[i][\"low\"].min()\n",
    "    return DataFrame\n",
    "\n"
   ]
  },
  {
   "cell_type": "code",
   "execution_count": 31,
   "metadata": {},
   "outputs": [
    {
     "data": {
      "text/html": [
       "<div>\n",
       "<style scoped>\n",
       "    .dataframe tbody tr th:only-of-type {\n",
       "        vertical-align: middle;\n",
       "    }\n",
       "\n",
       "    .dataframe tbody tr th {\n",
       "        vertical-align: top;\n",
       "    }\n",
       "\n",
       "    .dataframe thead th {\n",
       "        text-align: right;\n",
       "    }\n",
       "</style>\n",
       "<table border=\"1\" class=\"dataframe\">\n",
       "  <thead>\n",
       "    <tr style=\"text-align: right;\">\n",
       "      <th></th>\n",
       "      <th>timestamp</th>\n",
       "      <th>Currency</th>\n",
       "      <th>Name</th>\n",
       "      <th>Country</th>\n",
       "      <th>Volatility</th>\n",
       "      <th>actual</th>\n",
       "      <th>previous</th>\n",
       "      <th>consensus</th>\n",
       "      <th>escenario</th>\n",
       "      <th>direccion</th>\n",
       "      <th>pips alcistas</th>\n",
       "      <th>pips bajistas</th>\n",
       "      <th>volatilidad</th>\n",
       "    </tr>\n",
       "  </thead>\n",
       "  <tbody>\n",
       "    <tr>\n",
       "      <td>0</td>\n",
       "      <td>2009-01-09 10:00:00+00:00</td>\n",
       "      <td>EUR</td>\n",
       "      <td>Retail Sales (MoM)</td>\n",
       "      <td>European Monetary Union</td>\n",
       "      <td>2</td>\n",
       "      <td>0.32</td>\n",
       "      <td>0.30</td>\n",
       "      <td>-0.1</td>\n",
       "      <td>B</td>\n",
       "      <td>0.00290</td>\n",
       "      <td>0.00537</td>\n",
       "      <td>-0.00138</td>\n",
       "      <td>0.00642</td>\n",
       "    </tr>\n",
       "    <tr>\n",
       "      <td>1</td>\n",
       "      <td>2009-02-04 10:00:00+00:00</td>\n",
       "      <td>EUR</td>\n",
       "      <td>Retail Sales (MoM)</td>\n",
       "      <td>European Monetary Union</td>\n",
       "      <td>2</td>\n",
       "      <td>-0.90</td>\n",
       "      <td>0.32</td>\n",
       "      <td>-0.2</td>\n",
       "      <td>D</td>\n",
       "      <td>0.00173</td>\n",
       "      <td>0.00459</td>\n",
       "      <td>-0.00121</td>\n",
       "      <td>0.00547</td>\n",
       "    </tr>\n",
       "    <tr>\n",
       "      <td>2</td>\n",
       "      <td>2009-03-13 10:00:00+00:00</td>\n",
       "      <td>EUR</td>\n",
       "      <td>Retail Sales (MoM)</td>\n",
       "      <td>European Monetary Union</td>\n",
       "      <td>2</td>\n",
       "      <td>0.10</td>\n",
       "      <td>-0.90</td>\n",
       "      <td>0.2</td>\n",
       "      <td>C</td>\n",
       "      <td>-0.00126</td>\n",
       "      <td>-0.00066</td>\n",
       "      <td>0.00418</td>\n",
       "      <td>0.00460</td>\n",
       "    </tr>\n",
       "    <tr>\n",
       "      <td>3</td>\n",
       "      <td>2009-04-06 09:00:00+00:00</td>\n",
       "      <td>EUR</td>\n",
       "      <td>Retail Sales (MoM)</td>\n",
       "      <td>European Monetary Union</td>\n",
       "      <td>2</td>\n",
       "      <td>-1.00</td>\n",
       "      <td>0.10</td>\n",
       "      <td>-0.3</td>\n",
       "      <td>D</td>\n",
       "      <td>-0.00136</td>\n",
       "      <td>-0.00080</td>\n",
       "      <td>0.00354</td>\n",
       "      <td>0.00490</td>\n",
       "    </tr>\n",
       "    <tr>\n",
       "      <td>4</td>\n",
       "      <td>2009-05-06 09:00:00+00:00</td>\n",
       "      <td>EUR</td>\n",
       "      <td>Retail Sales (MoM)</td>\n",
       "      <td>European Monetary Union</td>\n",
       "      <td>2</td>\n",
       "      <td>-0.30</td>\n",
       "      <td>-1.00</td>\n",
       "      <td>0.1</td>\n",
       "      <td>C</td>\n",
       "      <td>0.00001</td>\n",
       "      <td>0.00088</td>\n",
       "      <td>0.00150</td>\n",
       "      <td>0.00266</td>\n",
       "    </tr>\n",
       "    <tr>\n",
       "      <td>...</td>\n",
       "      <td>...</td>\n",
       "      <td>...</td>\n",
       "      <td>...</td>\n",
       "      <td>...</td>\n",
       "      <td>...</td>\n",
       "      <td>...</td>\n",
       "      <td>...</td>\n",
       "      <td>...</td>\n",
       "      <td>...</td>\n",
       "      <td>...</td>\n",
       "      <td>...</td>\n",
       "      <td>...</td>\n",
       "      <td>...</td>\n",
       "    </tr>\n",
       "    <tr>\n",
       "      <td>124</td>\n",
       "      <td>2019-05-06 09:00:00+00:00</td>\n",
       "      <td>EUR</td>\n",
       "      <td>Retail Sales (MoM)</td>\n",
       "      <td>European Monetary Union</td>\n",
       "      <td>1</td>\n",
       "      <td>0.00</td>\n",
       "      <td>0.40</td>\n",
       "      <td>-0.1</td>\n",
       "      <td>B</td>\n",
       "      <td>0.00067</td>\n",
       "      <td>-0.00006</td>\n",
       "      <td>0.00078</td>\n",
       "      <td>0.00081</td>\n",
       "    </tr>\n",
       "    <tr>\n",
       "      <td>125</td>\n",
       "      <td>2019-06-05 09:00:00+00:00</td>\n",
       "      <td>EUR</td>\n",
       "      <td>Retail Sales (MoM)</td>\n",
       "      <td>European Monetary Union</td>\n",
       "      <td>1</td>\n",
       "      <td>-0.40</td>\n",
       "      <td>0.00</td>\n",
       "      <td>-0.4</td>\n",
       "      <td>B</td>\n",
       "      <td>0.00046</td>\n",
       "      <td>0.00137</td>\n",
       "      <td>-0.00031</td>\n",
       "      <td>0.00170</td>\n",
       "    </tr>\n",
       "    <tr>\n",
       "      <td>126</td>\n",
       "      <td>2019-07-04 09:00:00+00:00</td>\n",
       "      <td>EUR</td>\n",
       "      <td>Retail Sales (MoM)</td>\n",
       "      <td>European Monetary Union</td>\n",
       "      <td>1</td>\n",
       "      <td>-0.30</td>\n",
       "      <td>-0.40</td>\n",
       "      <td>0.3</td>\n",
       "      <td>C</td>\n",
       "      <td>0.00050</td>\n",
       "      <td>-0.00010</td>\n",
       "      <td>0.00092</td>\n",
       "      <td>0.00100</td>\n",
       "    </tr>\n",
       "    <tr>\n",
       "      <td>127</td>\n",
       "      <td>2019-08-02 09:00:00+00:00</td>\n",
       "      <td>EUR</td>\n",
       "      <td>Retail Sales (MoM)</td>\n",
       "      <td>European Monetary Union</td>\n",
       "      <td>1</td>\n",
       "      <td>1.10</td>\n",
       "      <td>-0.30</td>\n",
       "      <td>0.2</td>\n",
       "      <td>A</td>\n",
       "      <td>0.00012</td>\n",
       "      <td>0.00050</td>\n",
       "      <td>0.00018</td>\n",
       "      <td>0.00074</td>\n",
       "    </tr>\n",
       "    <tr>\n",
       "      <td>128</td>\n",
       "      <td>2019-09-04 09:00:00+00:00</td>\n",
       "      <td>EUR</td>\n",
       "      <td>Retail Sales (MoM)</td>\n",
       "      <td>European Monetary Union</td>\n",
       "      <td>1</td>\n",
       "      <td>-0.60</td>\n",
       "      <td>1.10</td>\n",
       "      <td>-0.6</td>\n",
       "      <td>B</td>\n",
       "      <td>0.00024</td>\n",
       "      <td>0.00247</td>\n",
       "      <td>-0.00137</td>\n",
       "      <td>0.00260</td>\n",
       "    </tr>\n",
       "  </tbody>\n",
       "</table>\n",
       "<p>129 rows × 13 columns</p>\n",
       "</div>"
      ],
      "text/plain": [
       "                    timestamp Currency                Name  \\\n",
       "0   2009-01-09 10:00:00+00:00      EUR  Retail Sales (MoM)   \n",
       "1   2009-02-04 10:00:00+00:00      EUR  Retail Sales (MoM)   \n",
       "2   2009-03-13 10:00:00+00:00      EUR  Retail Sales (MoM)   \n",
       "3   2009-04-06 09:00:00+00:00      EUR  Retail Sales (MoM)   \n",
       "4   2009-05-06 09:00:00+00:00      EUR  Retail Sales (MoM)   \n",
       "..                        ...      ...                 ...   \n",
       "124 2019-05-06 09:00:00+00:00      EUR  Retail Sales (MoM)   \n",
       "125 2019-06-05 09:00:00+00:00      EUR  Retail Sales (MoM)   \n",
       "126 2019-07-04 09:00:00+00:00      EUR  Retail Sales (MoM)   \n",
       "127 2019-08-02 09:00:00+00:00      EUR  Retail Sales (MoM)   \n",
       "128 2019-09-04 09:00:00+00:00      EUR  Retail Sales (MoM)   \n",
       "\n",
       "                     Country  Volatility  actual  previous  consensus  \\\n",
       "0    European Monetary Union           2    0.32      0.30       -0.1   \n",
       "1    European Monetary Union           2   -0.90      0.32       -0.2   \n",
       "2    European Monetary Union           2    0.10     -0.90        0.2   \n",
       "3    European Monetary Union           2   -1.00      0.10       -0.3   \n",
       "4    European Monetary Union           2   -0.30     -1.00        0.1   \n",
       "..                       ...         ...     ...       ...        ...   \n",
       "124  European Monetary Union           1    0.00      0.40       -0.1   \n",
       "125  European Monetary Union           1   -0.40      0.00       -0.4   \n",
       "126  European Monetary Union           1   -0.30     -0.40        0.3   \n",
       "127  European Monetary Union           1    1.10     -0.30        0.2   \n",
       "128  European Monetary Union           1   -0.60      1.10       -0.6   \n",
       "\n",
       "    escenario  direccion  pips alcistas  pips bajistas  volatilidad  \n",
       "0           B    0.00290        0.00537       -0.00138      0.00642  \n",
       "1           D    0.00173        0.00459       -0.00121      0.00547  \n",
       "2           C   -0.00126       -0.00066        0.00418      0.00460  \n",
       "3           D   -0.00136       -0.00080        0.00354      0.00490  \n",
       "4           C    0.00001        0.00088        0.00150      0.00266  \n",
       "..        ...        ...            ...            ...          ...  \n",
       "124         B    0.00067       -0.00006        0.00078      0.00081  \n",
       "125         B    0.00046        0.00137       -0.00031      0.00170  \n",
       "126         C    0.00050       -0.00010        0.00092      0.00100  \n",
       "127         A    0.00012        0.00050        0.00018      0.00074  \n",
       "128         B    0.00024        0.00247       -0.00137      0.00260  \n",
       "\n",
       "[129 rows x 13 columns]"
      ]
     },
     "execution_count": 31,
     "metadata": {},
     "output_type": "execute_result"
    }
   ],
   "source": [
    "# utilizamos la funcion finalDF() para obtener nuestro DataFrame final en retail sales.\n",
    "FinalDFRS = finalDF(RS,periodosRS)\n",
    "FinalDFRS"
   ]
  },
  {
   "cell_type": "code",
   "execution_count": 32,
   "metadata": {},
   "outputs": [
    {
     "data": {
      "text/html": [
       "<div>\n",
       "<style scoped>\n",
       "    .dataframe tbody tr th:only-of-type {\n",
       "        vertical-align: middle;\n",
       "    }\n",
       "\n",
       "    .dataframe tbody tr th {\n",
       "        vertical-align: top;\n",
       "    }\n",
       "\n",
       "    .dataframe thead th {\n",
       "        text-align: right;\n",
       "    }\n",
       "</style>\n",
       "<table border=\"1\" class=\"dataframe\">\n",
       "  <thead>\n",
       "    <tr style=\"text-align: right;\">\n",
       "      <th></th>\n",
       "      <th>timestamp</th>\n",
       "      <th>Currency</th>\n",
       "      <th>Name</th>\n",
       "      <th>Country</th>\n",
       "      <th>Volatility</th>\n",
       "      <th>actual</th>\n",
       "      <th>previous</th>\n",
       "      <th>consensus</th>\n",
       "      <th>escenario</th>\n",
       "      <th>direccion</th>\n",
       "      <th>pips alcistas</th>\n",
       "      <th>pips bajistas</th>\n",
       "      <th>volatilidad</th>\n",
       "    </tr>\n",
       "  </thead>\n",
       "  <tbody>\n",
       "    <tr>\n",
       "      <td>0</td>\n",
       "      <td>2009-01-14 10:00:00+00:00</td>\n",
       "      <td>EUR</td>\n",
       "      <td>Industrial Production s.a. (MoM)</td>\n",
       "      <td>European Monetary Union</td>\n",
       "      <td>1</td>\n",
       "      <td>-3.0</td>\n",
       "      <td>-1.2</td>\n",
       "      <td>-1.8</td>\n",
       "      <td>D</td>\n",
       "      <td>0.00557</td>\n",
       "      <td>0.00072</td>\n",
       "      <td>0.00395</td>\n",
       "      <td>0.00689</td>\n",
       "    </tr>\n",
       "    <tr>\n",
       "      <td>1</td>\n",
       "      <td>2009-02-12 10:00:00+00:00</td>\n",
       "      <td>EUR</td>\n",
       "      <td>Industrial Production s.a. (MoM)</td>\n",
       "      <td>European Monetary Union</td>\n",
       "      <td>1</td>\n",
       "      <td>-4.5</td>\n",
       "      <td>-3.0</td>\n",
       "      <td>-2.5</td>\n",
       "      <td>C</td>\n",
       "      <td>-0.00484</td>\n",
       "      <td>0.00008</td>\n",
       "      <td>0.00448</td>\n",
       "      <td>0.00688</td>\n",
       "    </tr>\n",
       "    <tr>\n",
       "      <td>2</td>\n",
       "      <td>2009-03-20 10:00:00+00:00</td>\n",
       "      <td>EUR</td>\n",
       "      <td>Industrial Production s.a. (MoM)</td>\n",
       "      <td>European Monetary Union</td>\n",
       "      <td>1</td>\n",
       "      <td>-2.9</td>\n",
       "      <td>-4.5</td>\n",
       "      <td>-1.5</td>\n",
       "      <td>C</td>\n",
       "      <td>-0.00690</td>\n",
       "      <td>0.00119</td>\n",
       "      <td>0.00411</td>\n",
       "      <td>0.00934</td>\n",
       "    </tr>\n",
       "    <tr>\n",
       "      <td>3</td>\n",
       "      <td>2009-04-16 09:00:00+00:00</td>\n",
       "      <td>EUR</td>\n",
       "      <td>Industrial Production s.a. (MoM)</td>\n",
       "      <td>European Monetary Union</td>\n",
       "      <td>1</td>\n",
       "      <td>-3.3</td>\n",
       "      <td>-2.9</td>\n",
       "      <td>-2.5</td>\n",
       "      <td>C</td>\n",
       "      <td>-0.00341</td>\n",
       "      <td>-0.00088</td>\n",
       "      <td>0.00434</td>\n",
       "      <td>0.00494</td>\n",
       "    </tr>\n",
       "    <tr>\n",
       "      <td>4</td>\n",
       "      <td>2009-05-13 09:00:00+00:00</td>\n",
       "      <td>EUR</td>\n",
       "      <td>Industrial Production s.a. (MoM)</td>\n",
       "      <td>European Monetary Union</td>\n",
       "      <td>1</td>\n",
       "      <td>-1.1</td>\n",
       "      <td>-3.3</td>\n",
       "      <td>-1.0</td>\n",
       "      <td>C</td>\n",
       "      <td>0.00055</td>\n",
       "      <td>0.00076</td>\n",
       "      <td>0.00215</td>\n",
       "      <td>0.00383</td>\n",
       "    </tr>\n",
       "    <tr>\n",
       "      <td>...</td>\n",
       "      <td>...</td>\n",
       "      <td>...</td>\n",
       "      <td>...</td>\n",
       "      <td>...</td>\n",
       "      <td>...</td>\n",
       "      <td>...</td>\n",
       "      <td>...</td>\n",
       "      <td>...</td>\n",
       "      <td>...</td>\n",
       "      <td>...</td>\n",
       "      <td>...</td>\n",
       "      <td>...</td>\n",
       "      <td>...</td>\n",
       "    </tr>\n",
       "    <tr>\n",
       "      <td>124</td>\n",
       "      <td>2019-05-14 09:00:00+00:00</td>\n",
       "      <td>EUR</td>\n",
       "      <td>Industrial Production s.a. (MoM)</td>\n",
       "      <td>European Monetary Union</td>\n",
       "      <td>2</td>\n",
       "      <td>-0.3</td>\n",
       "      <td>-0.2</td>\n",
       "      <td>-0.3</td>\n",
       "      <td>B</td>\n",
       "      <td>-0.00054</td>\n",
       "      <td>0.00028</td>\n",
       "      <td>0.00033</td>\n",
       "      <td>0.00068</td>\n",
       "    </tr>\n",
       "    <tr>\n",
       "      <td>125</td>\n",
       "      <td>2019-06-13 09:00:00+00:00</td>\n",
       "      <td>EUR</td>\n",
       "      <td>Industrial Production s.a. (MoM)</td>\n",
       "      <td>European Monetary Union</td>\n",
       "      <td>2</td>\n",
       "      <td>-0.5</td>\n",
       "      <td>-0.3</td>\n",
       "      <td>-0.5</td>\n",
       "      <td>B</td>\n",
       "      <td>-0.00007</td>\n",
       "      <td>0.00002</td>\n",
       "      <td>0.00065</td>\n",
       "      <td>0.00104</td>\n",
       "    </tr>\n",
       "    <tr>\n",
       "      <td>126</td>\n",
       "      <td>2019-07-12 09:00:00+00:00</td>\n",
       "      <td>EUR</td>\n",
       "      <td>Industrial Production s.a. (MoM)</td>\n",
       "      <td>European Monetary Union</td>\n",
       "      <td>2</td>\n",
       "      <td>0.9</td>\n",
       "      <td>-0.5</td>\n",
       "      <td>0.2</td>\n",
       "      <td>A</td>\n",
       "      <td>-0.00039</td>\n",
       "      <td>0.00018</td>\n",
       "      <td>0.00088</td>\n",
       "      <td>0.00124</td>\n",
       "    </tr>\n",
       "    <tr>\n",
       "      <td>127</td>\n",
       "      <td>2019-08-14 09:00:00+00:00</td>\n",
       "      <td>EUR</td>\n",
       "      <td>Industrial Production s.a. (MoM)</td>\n",
       "      <td>European Monetary Union</td>\n",
       "      <td>2</td>\n",
       "      <td>-1.6</td>\n",
       "      <td>0.9</td>\n",
       "      <td>-1.4</td>\n",
       "      <td>D</td>\n",
       "      <td>0.00086</td>\n",
       "      <td>0.00031</td>\n",
       "      <td>0.00081</td>\n",
       "      <td>0.00128</td>\n",
       "    </tr>\n",
       "    <tr>\n",
       "      <td>128</td>\n",
       "      <td>2019-09-12 09:00:00+00:00</td>\n",
       "      <td>EUR</td>\n",
       "      <td>Industrial Production s.a. (MoM)</td>\n",
       "      <td>European Monetary Union</td>\n",
       "      <td>2</td>\n",
       "      <td>-0.4</td>\n",
       "      <td>-1.6</td>\n",
       "      <td>-0.1</td>\n",
       "      <td>C</td>\n",
       "      <td>0.00002</td>\n",
       "      <td>0.00006</td>\n",
       "      <td>0.00026</td>\n",
       "      <td>0.00043</td>\n",
       "    </tr>\n",
       "  </tbody>\n",
       "</table>\n",
       "<p>129 rows × 13 columns</p>\n",
       "</div>"
      ],
      "text/plain": [
       "                    timestamp Currency                              Name  \\\n",
       "0   2009-01-14 10:00:00+00:00      EUR  Industrial Production s.a. (MoM)   \n",
       "1   2009-02-12 10:00:00+00:00      EUR  Industrial Production s.a. (MoM)   \n",
       "2   2009-03-20 10:00:00+00:00      EUR  Industrial Production s.a. (MoM)   \n",
       "3   2009-04-16 09:00:00+00:00      EUR  Industrial Production s.a. (MoM)   \n",
       "4   2009-05-13 09:00:00+00:00      EUR  Industrial Production s.a. (MoM)   \n",
       "..                        ...      ...                               ...   \n",
       "124 2019-05-14 09:00:00+00:00      EUR  Industrial Production s.a. (MoM)   \n",
       "125 2019-06-13 09:00:00+00:00      EUR  Industrial Production s.a. (MoM)   \n",
       "126 2019-07-12 09:00:00+00:00      EUR  Industrial Production s.a. (MoM)   \n",
       "127 2019-08-14 09:00:00+00:00      EUR  Industrial Production s.a. (MoM)   \n",
       "128 2019-09-12 09:00:00+00:00      EUR  Industrial Production s.a. (MoM)   \n",
       "\n",
       "                     Country  Volatility  actual  previous  consensus  \\\n",
       "0    European Monetary Union           1    -3.0      -1.2       -1.8   \n",
       "1    European Monetary Union           1    -4.5      -3.0       -2.5   \n",
       "2    European Monetary Union           1    -2.9      -4.5       -1.5   \n",
       "3    European Monetary Union           1    -3.3      -2.9       -2.5   \n",
       "4    European Monetary Union           1    -1.1      -3.3       -1.0   \n",
       "..                       ...         ...     ...       ...        ...   \n",
       "124  European Monetary Union           2    -0.3      -0.2       -0.3   \n",
       "125  European Monetary Union           2    -0.5      -0.3       -0.5   \n",
       "126  European Monetary Union           2     0.9      -0.5        0.2   \n",
       "127  European Monetary Union           2    -1.6       0.9       -1.4   \n",
       "128  European Monetary Union           2    -0.4      -1.6       -0.1   \n",
       "\n",
       "    escenario  direccion  pips alcistas  pips bajistas  volatilidad  \n",
       "0           D    0.00557        0.00072        0.00395      0.00689  \n",
       "1           C   -0.00484        0.00008        0.00448      0.00688  \n",
       "2           C   -0.00690        0.00119        0.00411      0.00934  \n",
       "3           C   -0.00341       -0.00088        0.00434      0.00494  \n",
       "4           C    0.00055        0.00076        0.00215      0.00383  \n",
       "..        ...        ...            ...            ...          ...  \n",
       "124         B   -0.00054        0.00028        0.00033      0.00068  \n",
       "125         B   -0.00007        0.00002        0.00065      0.00104  \n",
       "126         A   -0.00039        0.00018        0.00088      0.00124  \n",
       "127         D    0.00086        0.00031        0.00081      0.00128  \n",
       "128         C    0.00002        0.00006        0.00026      0.00043  \n",
       "\n",
       "[129 rows x 13 columns]"
      ]
     },
     "execution_count": 32,
     "metadata": {},
     "output_type": "execute_result"
    }
   ],
   "source": [
    "# utilizamos la funcion finalDF() para obtener nuestro DataFrame final en industrial productions.\n",
    "FinalDFIP = finalDF(IP,periodosIP)\n",
    "FinalDFIP"
   ]
  },
  {
   "cell_type": "code",
   "execution_count": 33,
   "metadata": {},
   "outputs": [
    {
     "data": {
      "text/html": [
       "<div>\n",
       "<style scoped>\n",
       "    .dataframe tbody tr th:only-of-type {\n",
       "        vertical-align: middle;\n",
       "    }\n",
       "\n",
       "    .dataframe tbody tr th {\n",
       "        vertical-align: top;\n",
       "    }\n",
       "\n",
       "    .dataframe thead th {\n",
       "        text-align: right;\n",
       "    }\n",
       "</style>\n",
       "<table border=\"1\" class=\"dataframe\">\n",
       "  <thead>\n",
       "    <tr style=\"text-align: right;\">\n",
       "      <th></th>\n",
       "      <th>escenario</th>\n",
       "      <th>cantidad</th>\n",
       "    </tr>\n",
       "  </thead>\n",
       "  <tbody>\n",
       "    <tr>\n",
       "      <td>0</td>\n",
       "      <td>D</td>\n",
       "      <td>29</td>\n",
       "    </tr>\n",
       "    <tr>\n",
       "      <td>1</td>\n",
       "      <td>C</td>\n",
       "      <td>34</td>\n",
       "    </tr>\n",
       "    <tr>\n",
       "      <td>2</td>\n",
       "      <td>B</td>\n",
       "      <td>27</td>\n",
       "    </tr>\n",
       "    <tr>\n",
       "      <td>3</td>\n",
       "      <td>A</td>\n",
       "      <td>39</td>\n",
       "    </tr>\n",
       "  </tbody>\n",
       "</table>\n",
       "</div>"
      ],
      "text/plain": [
       "  escenario  cantidad\n",
       "0         D        29\n",
       "1         C        34\n",
       "2         B        27\n",
       "3         A        39"
      ]
     },
     "execution_count": 33,
     "metadata": {},
     "output_type": "execute_result"
    }
   ],
   "source": [
    "# Usamos la función Counter para contar cuantas veces se repiten las palabras\n",
    "counter = Counter(FinalDFIP['escenario'])\n",
    "escenariosIP = pd.DataFrame.from_dict(counter, orient='index').reset_index()\n",
    "escenariosIP.columns = ['escenario', 'cantidad']\n",
    "escenariosIP\n",
    "###----------------cuantos escenarios hubo en cada uno A B C y D (IP)-------------------------"
   ]
  },
  {
   "cell_type": "code",
   "execution_count": 42,
   "metadata": {},
   "outputs": [
    {
     "data": {
      "application/vnd.plotly.v1+json": {
       "config": {
        "plotlyServerURL": "https://plot.ly"
       },
       "data": [
        {
         "hovertemplate": "<i>Casos</i>: %{y}<br><b>Identificador</b>: %{x}<br>",
         "type": "bar",
         "x": [
          "D",
          "C",
          "B",
          "A"
         ],
         "xaxis": "x",
         "y": [
          29,
          34,
          27,
          39
         ],
         "yaxis": "y"
        }
       ],
       "layout": {
        "template": {
         "data": {
          "bar": [
           {
            "error_x": {
             "color": "#2a3f5f"
            },
            "error_y": {
             "color": "#2a3f5f"
            },
            "marker": {
             "line": {
              "color": "#E5ECF6",
              "width": 0.5
             }
            },
            "type": "bar"
           }
          ],
          "barpolar": [
           {
            "marker": {
             "line": {
              "color": "#E5ECF6",
              "width": 0.5
             }
            },
            "type": "barpolar"
           }
          ],
          "carpet": [
           {
            "aaxis": {
             "endlinecolor": "#2a3f5f",
             "gridcolor": "white",
             "linecolor": "white",
             "minorgridcolor": "white",
             "startlinecolor": "#2a3f5f"
            },
            "baxis": {
             "endlinecolor": "#2a3f5f",
             "gridcolor": "white",
             "linecolor": "white",
             "minorgridcolor": "white",
             "startlinecolor": "#2a3f5f"
            },
            "type": "carpet"
           }
          ],
          "choropleth": [
           {
            "colorbar": {
             "outlinewidth": 0,
             "ticks": ""
            },
            "type": "choropleth"
           }
          ],
          "contour": [
           {
            "colorbar": {
             "outlinewidth": 0,
             "ticks": ""
            },
            "colorscale": [
             [
              0,
              "#0d0887"
             ],
             [
              0.1111111111111111,
              "#46039f"
             ],
             [
              0.2222222222222222,
              "#7201a8"
             ],
             [
              0.3333333333333333,
              "#9c179e"
             ],
             [
              0.4444444444444444,
              "#bd3786"
             ],
             [
              0.5555555555555556,
              "#d8576b"
             ],
             [
              0.6666666666666666,
              "#ed7953"
             ],
             [
              0.7777777777777778,
              "#fb9f3a"
             ],
             [
              0.8888888888888888,
              "#fdca26"
             ],
             [
              1,
              "#f0f921"
             ]
            ],
            "type": "contour"
           }
          ],
          "contourcarpet": [
           {
            "colorbar": {
             "outlinewidth": 0,
             "ticks": ""
            },
            "type": "contourcarpet"
           }
          ],
          "heatmap": [
           {
            "colorbar": {
             "outlinewidth": 0,
             "ticks": ""
            },
            "colorscale": [
             [
              0,
              "#0d0887"
             ],
             [
              0.1111111111111111,
              "#46039f"
             ],
             [
              0.2222222222222222,
              "#7201a8"
             ],
             [
              0.3333333333333333,
              "#9c179e"
             ],
             [
              0.4444444444444444,
              "#bd3786"
             ],
             [
              0.5555555555555556,
              "#d8576b"
             ],
             [
              0.6666666666666666,
              "#ed7953"
             ],
             [
              0.7777777777777778,
              "#fb9f3a"
             ],
             [
              0.8888888888888888,
              "#fdca26"
             ],
             [
              1,
              "#f0f921"
             ]
            ],
            "type": "heatmap"
           }
          ],
          "heatmapgl": [
           {
            "colorbar": {
             "outlinewidth": 0,
             "ticks": ""
            },
            "colorscale": [
             [
              0,
              "#0d0887"
             ],
             [
              0.1111111111111111,
              "#46039f"
             ],
             [
              0.2222222222222222,
              "#7201a8"
             ],
             [
              0.3333333333333333,
              "#9c179e"
             ],
             [
              0.4444444444444444,
              "#bd3786"
             ],
             [
              0.5555555555555556,
              "#d8576b"
             ],
             [
              0.6666666666666666,
              "#ed7953"
             ],
             [
              0.7777777777777778,
              "#fb9f3a"
             ],
             [
              0.8888888888888888,
              "#fdca26"
             ],
             [
              1,
              "#f0f921"
             ]
            ],
            "type": "heatmapgl"
           }
          ],
          "histogram": [
           {
            "marker": {
             "colorbar": {
              "outlinewidth": 0,
              "ticks": ""
             }
            },
            "type": "histogram"
           }
          ],
          "histogram2d": [
           {
            "colorbar": {
             "outlinewidth": 0,
             "ticks": ""
            },
            "colorscale": [
             [
              0,
              "#0d0887"
             ],
             [
              0.1111111111111111,
              "#46039f"
             ],
             [
              0.2222222222222222,
              "#7201a8"
             ],
             [
              0.3333333333333333,
              "#9c179e"
             ],
             [
              0.4444444444444444,
              "#bd3786"
             ],
             [
              0.5555555555555556,
              "#d8576b"
             ],
             [
              0.6666666666666666,
              "#ed7953"
             ],
             [
              0.7777777777777778,
              "#fb9f3a"
             ],
             [
              0.8888888888888888,
              "#fdca26"
             ],
             [
              1,
              "#f0f921"
             ]
            ],
            "type": "histogram2d"
           }
          ],
          "histogram2dcontour": [
           {
            "colorbar": {
             "outlinewidth": 0,
             "ticks": ""
            },
            "colorscale": [
             [
              0,
              "#0d0887"
             ],
             [
              0.1111111111111111,
              "#46039f"
             ],
             [
              0.2222222222222222,
              "#7201a8"
             ],
             [
              0.3333333333333333,
              "#9c179e"
             ],
             [
              0.4444444444444444,
              "#bd3786"
             ],
             [
              0.5555555555555556,
              "#d8576b"
             ],
             [
              0.6666666666666666,
              "#ed7953"
             ],
             [
              0.7777777777777778,
              "#fb9f3a"
             ],
             [
              0.8888888888888888,
              "#fdca26"
             ],
             [
              1,
              "#f0f921"
             ]
            ],
            "type": "histogram2dcontour"
           }
          ],
          "mesh3d": [
           {
            "colorbar": {
             "outlinewidth": 0,
             "ticks": ""
            },
            "type": "mesh3d"
           }
          ],
          "parcoords": [
           {
            "line": {
             "colorbar": {
              "outlinewidth": 0,
              "ticks": ""
             }
            },
            "type": "parcoords"
           }
          ],
          "scatter": [
           {
            "marker": {
             "colorbar": {
              "outlinewidth": 0,
              "ticks": ""
             }
            },
            "type": "scatter"
           }
          ],
          "scatter3d": [
           {
            "line": {
             "colorbar": {
              "outlinewidth": 0,
              "ticks": ""
             }
            },
            "marker": {
             "colorbar": {
              "outlinewidth": 0,
              "ticks": ""
             }
            },
            "type": "scatter3d"
           }
          ],
          "scattercarpet": [
           {
            "marker": {
             "colorbar": {
              "outlinewidth": 0,
              "ticks": ""
             }
            },
            "type": "scattercarpet"
           }
          ],
          "scattergeo": [
           {
            "marker": {
             "colorbar": {
              "outlinewidth": 0,
              "ticks": ""
             }
            },
            "type": "scattergeo"
           }
          ],
          "scattergl": [
           {
            "marker": {
             "colorbar": {
              "outlinewidth": 0,
              "ticks": ""
             }
            },
            "type": "scattergl"
           }
          ],
          "scattermapbox": [
           {
            "marker": {
             "colorbar": {
              "outlinewidth": 0,
              "ticks": ""
             }
            },
            "type": "scattermapbox"
           }
          ],
          "scatterpolar": [
           {
            "marker": {
             "colorbar": {
              "outlinewidth": 0,
              "ticks": ""
             }
            },
            "type": "scatterpolar"
           }
          ],
          "scatterpolargl": [
           {
            "marker": {
             "colorbar": {
              "outlinewidth": 0,
              "ticks": ""
             }
            },
            "type": "scatterpolargl"
           }
          ],
          "scatterternary": [
           {
            "marker": {
             "colorbar": {
              "outlinewidth": 0,
              "ticks": ""
             }
            },
            "type": "scatterternary"
           }
          ],
          "surface": [
           {
            "colorbar": {
             "outlinewidth": 0,
             "ticks": ""
            },
            "colorscale": [
             [
              0,
              "#0d0887"
             ],
             [
              0.1111111111111111,
              "#46039f"
             ],
             [
              0.2222222222222222,
              "#7201a8"
             ],
             [
              0.3333333333333333,
              "#9c179e"
             ],
             [
              0.4444444444444444,
              "#bd3786"
             ],
             [
              0.5555555555555556,
              "#d8576b"
             ],
             [
              0.6666666666666666,
              "#ed7953"
             ],
             [
              0.7777777777777778,
              "#fb9f3a"
             ],
             [
              0.8888888888888888,
              "#fdca26"
             ],
             [
              1,
              "#f0f921"
             ]
            ],
            "type": "surface"
           }
          ],
          "table": [
           {
            "cells": {
             "fill": {
              "color": "#EBF0F8"
             },
             "line": {
              "color": "white"
             }
            },
            "header": {
             "fill": {
              "color": "#C8D4E3"
             },
             "line": {
              "color": "white"
             }
            },
            "type": "table"
           }
          ]
         },
         "layout": {
          "annotationdefaults": {
           "arrowcolor": "#2a3f5f",
           "arrowhead": 0,
           "arrowwidth": 1
          },
          "colorscale": {
           "diverging": [
            [
             0,
             "#8e0152"
            ],
            [
             0.1,
             "#c51b7d"
            ],
            [
             0.2,
             "#de77ae"
            ],
            [
             0.3,
             "#f1b6da"
            ],
            [
             0.4,
             "#fde0ef"
            ],
            [
             0.5,
             "#f7f7f7"
            ],
            [
             0.6,
             "#e6f5d0"
            ],
            [
             0.7,
             "#b8e186"
            ],
            [
             0.8,
             "#7fbc41"
            ],
            [
             0.9,
             "#4d9221"
            ],
            [
             1,
             "#276419"
            ]
           ],
           "sequential": [
            [
             0,
             "#0d0887"
            ],
            [
             0.1111111111111111,
             "#46039f"
            ],
            [
             0.2222222222222222,
             "#7201a8"
            ],
            [
             0.3333333333333333,
             "#9c179e"
            ],
            [
             0.4444444444444444,
             "#bd3786"
            ],
            [
             0.5555555555555556,
             "#d8576b"
            ],
            [
             0.6666666666666666,
             "#ed7953"
            ],
            [
             0.7777777777777778,
             "#fb9f3a"
            ],
            [
             0.8888888888888888,
             "#fdca26"
            ],
            [
             1,
             "#f0f921"
            ]
           ],
           "sequentialminus": [
            [
             0,
             "#0d0887"
            ],
            [
             0.1111111111111111,
             "#46039f"
            ],
            [
             0.2222222222222222,
             "#7201a8"
            ],
            [
             0.3333333333333333,
             "#9c179e"
            ],
            [
             0.4444444444444444,
             "#bd3786"
            ],
            [
             0.5555555555555556,
             "#d8576b"
            ],
            [
             0.6666666666666666,
             "#ed7953"
            ],
            [
             0.7777777777777778,
             "#fb9f3a"
            ],
            [
             0.8888888888888888,
             "#fdca26"
            ],
            [
             1,
             "#f0f921"
            ]
           ]
          },
          "colorway": [
           "#636efa",
           "#EF553B",
           "#00cc96",
           "#ab63fa",
           "#FFA15A",
           "#19d3f3",
           "#FF6692",
           "#B6E880",
           "#FF97FF",
           "#FECB52"
          ],
          "font": {
           "color": "#2a3f5f"
          },
          "geo": {
           "bgcolor": "white",
           "lakecolor": "white",
           "landcolor": "#E5ECF6",
           "showlakes": true,
           "showland": true,
           "subunitcolor": "white"
          },
          "hoverlabel": {
           "align": "left"
          },
          "hovermode": "closest",
          "mapbox": {
           "style": "light"
          },
          "paper_bgcolor": "white",
          "plot_bgcolor": "#E5ECF6",
          "polar": {
           "angularaxis": {
            "gridcolor": "white",
            "linecolor": "white",
            "ticks": ""
           },
           "bgcolor": "#E5ECF6",
           "radialaxis": {
            "gridcolor": "white",
            "linecolor": "white",
            "ticks": ""
           }
          },
          "scene": {
           "xaxis": {
            "backgroundcolor": "#E5ECF6",
            "gridcolor": "white",
            "gridwidth": 2,
            "linecolor": "white",
            "showbackground": true,
            "ticks": "",
            "zerolinecolor": "white"
           },
           "yaxis": {
            "backgroundcolor": "#E5ECF6",
            "gridcolor": "white",
            "gridwidth": 2,
            "linecolor": "white",
            "showbackground": true,
            "ticks": "",
            "zerolinecolor": "white"
           },
           "zaxis": {
            "backgroundcolor": "#E5ECF6",
            "gridcolor": "white",
            "gridwidth": 2,
            "linecolor": "white",
            "showbackground": true,
            "ticks": "",
            "zerolinecolor": "white"
           }
          },
          "shapedefaults": {
           "line": {
            "color": "#2a3f5f"
           }
          },
          "ternary": {
           "aaxis": {
            "gridcolor": "white",
            "linecolor": "white",
            "ticks": ""
           },
           "baxis": {
            "gridcolor": "white",
            "linecolor": "white",
            "ticks": ""
           },
           "bgcolor": "#E5ECF6",
           "caxis": {
            "gridcolor": "white",
            "linecolor": "white",
            "ticks": ""
           }
          },
          "title": {
           "x": 0.05
          },
          "xaxis": {
           "automargin": true,
           "gridcolor": "white",
           "linecolor": "white",
           "ticks": "",
           "zerolinecolor": "white",
           "zerolinewidth": 2
          },
          "yaxis": {
           "automargin": true,
           "gridcolor": "white",
           "linecolor": "white",
           "ticks": "",
           "zerolinecolor": "white",
           "zerolinewidth": 2
          }
         }
        },
        "title": {
         "text": "Escenarios"
        },
        "xaxis": {
         "anchor": "y",
         "domain": [
          0,
          1
         ],
         "title": {
          "text": "Escenarios"
         }
        },
        "yaxis": {
         "anchor": "x",
         "domain": [
          0,
          1
         ],
         "title": {
          "text": "Cantidad en escenarios Industrial Productions"
         }
        }
       }
      },
      "text/html": [
       "<div>\n",
       "        \n",
       "        \n",
       "            <div id=\"17edc323-a060-4486-9e3d-0a57df382d4f\" class=\"plotly-graph-div\" style=\"height:525px; width:100%;\"></div>\n",
       "            <script type=\"text/javascript\">\n",
       "                require([\"plotly\"], function(Plotly) {\n",
       "                    window.PLOTLYENV=window.PLOTLYENV || {};\n",
       "                    \n",
       "                if (document.getElementById(\"17edc323-a060-4486-9e3d-0a57df382d4f\")) {\n",
       "                    Plotly.newPlot(\n",
       "                        '17edc323-a060-4486-9e3d-0a57df382d4f',\n",
       "                        [{\"hovertemplate\": \"<i>Casos</i>: %{y}<br><b>Identificador</b>: %{x}<br>\", \"type\": \"bar\", \"x\": [\"D\", \"C\", \"B\", \"A\"], \"xaxis\": \"x\", \"y\": [29, 34, 27, 39], \"yaxis\": \"y\"}],\n",
       "                        {\"template\": {\"data\": {\"bar\": [{\"error_x\": {\"color\": \"#2a3f5f\"}, \"error_y\": {\"color\": \"#2a3f5f\"}, \"marker\": {\"line\": {\"color\": \"#E5ECF6\", \"width\": 0.5}}, \"type\": \"bar\"}], \"barpolar\": [{\"marker\": {\"line\": {\"color\": \"#E5ECF6\", \"width\": 0.5}}, \"type\": \"barpolar\"}], \"carpet\": [{\"aaxis\": {\"endlinecolor\": \"#2a3f5f\", \"gridcolor\": \"white\", \"linecolor\": \"white\", \"minorgridcolor\": \"white\", \"startlinecolor\": \"#2a3f5f\"}, \"baxis\": {\"endlinecolor\": \"#2a3f5f\", \"gridcolor\": \"white\", \"linecolor\": \"white\", \"minorgridcolor\": \"white\", \"startlinecolor\": \"#2a3f5f\"}, \"type\": \"carpet\"}], \"choropleth\": [{\"colorbar\": {\"outlinewidth\": 0, \"ticks\": \"\"}, \"type\": \"choropleth\"}], \"contour\": [{\"colorbar\": {\"outlinewidth\": 0, \"ticks\": \"\"}, \"colorscale\": [[0.0, \"#0d0887\"], [0.1111111111111111, \"#46039f\"], [0.2222222222222222, \"#7201a8\"], [0.3333333333333333, \"#9c179e\"], [0.4444444444444444, \"#bd3786\"], [0.5555555555555556, \"#d8576b\"], [0.6666666666666666, \"#ed7953\"], [0.7777777777777778, \"#fb9f3a\"], [0.8888888888888888, \"#fdca26\"], [1.0, \"#f0f921\"]], \"type\": \"contour\"}], \"contourcarpet\": [{\"colorbar\": {\"outlinewidth\": 0, \"ticks\": \"\"}, \"type\": \"contourcarpet\"}], \"heatmap\": [{\"colorbar\": {\"outlinewidth\": 0, \"ticks\": \"\"}, \"colorscale\": [[0.0, \"#0d0887\"], [0.1111111111111111, \"#46039f\"], [0.2222222222222222, \"#7201a8\"], [0.3333333333333333, \"#9c179e\"], [0.4444444444444444, \"#bd3786\"], [0.5555555555555556, \"#d8576b\"], [0.6666666666666666, \"#ed7953\"], [0.7777777777777778, \"#fb9f3a\"], [0.8888888888888888, \"#fdca26\"], [1.0, \"#f0f921\"]], \"type\": \"heatmap\"}], \"heatmapgl\": [{\"colorbar\": {\"outlinewidth\": 0, \"ticks\": \"\"}, \"colorscale\": [[0.0, \"#0d0887\"], [0.1111111111111111, \"#46039f\"], [0.2222222222222222, \"#7201a8\"], [0.3333333333333333, \"#9c179e\"], [0.4444444444444444, \"#bd3786\"], [0.5555555555555556, \"#d8576b\"], [0.6666666666666666, \"#ed7953\"], [0.7777777777777778, \"#fb9f3a\"], [0.8888888888888888, \"#fdca26\"], [1.0, \"#f0f921\"]], \"type\": \"heatmapgl\"}], \"histogram\": [{\"marker\": {\"colorbar\": {\"outlinewidth\": 0, \"ticks\": \"\"}}, \"type\": \"histogram\"}], \"histogram2d\": [{\"colorbar\": {\"outlinewidth\": 0, \"ticks\": \"\"}, \"colorscale\": [[0.0, \"#0d0887\"], [0.1111111111111111, \"#46039f\"], [0.2222222222222222, \"#7201a8\"], [0.3333333333333333, \"#9c179e\"], [0.4444444444444444, \"#bd3786\"], [0.5555555555555556, \"#d8576b\"], [0.6666666666666666, \"#ed7953\"], [0.7777777777777778, \"#fb9f3a\"], [0.8888888888888888, \"#fdca26\"], [1.0, \"#f0f921\"]], \"type\": \"histogram2d\"}], \"histogram2dcontour\": [{\"colorbar\": {\"outlinewidth\": 0, \"ticks\": \"\"}, \"colorscale\": [[0.0, \"#0d0887\"], [0.1111111111111111, \"#46039f\"], [0.2222222222222222, \"#7201a8\"], [0.3333333333333333, \"#9c179e\"], [0.4444444444444444, \"#bd3786\"], [0.5555555555555556, \"#d8576b\"], [0.6666666666666666, \"#ed7953\"], [0.7777777777777778, \"#fb9f3a\"], [0.8888888888888888, \"#fdca26\"], [1.0, \"#f0f921\"]], \"type\": \"histogram2dcontour\"}], \"mesh3d\": [{\"colorbar\": {\"outlinewidth\": 0, \"ticks\": \"\"}, \"type\": \"mesh3d\"}], \"parcoords\": [{\"line\": {\"colorbar\": {\"outlinewidth\": 0, \"ticks\": \"\"}}, \"type\": \"parcoords\"}], \"scatter\": [{\"marker\": {\"colorbar\": {\"outlinewidth\": 0, \"ticks\": \"\"}}, \"type\": \"scatter\"}], \"scatter3d\": [{\"line\": {\"colorbar\": {\"outlinewidth\": 0, \"ticks\": \"\"}}, \"marker\": {\"colorbar\": {\"outlinewidth\": 0, \"ticks\": \"\"}}, \"type\": \"scatter3d\"}], \"scattercarpet\": [{\"marker\": {\"colorbar\": {\"outlinewidth\": 0, \"ticks\": \"\"}}, \"type\": \"scattercarpet\"}], \"scattergeo\": [{\"marker\": {\"colorbar\": {\"outlinewidth\": 0, \"ticks\": \"\"}}, \"type\": \"scattergeo\"}], \"scattergl\": [{\"marker\": {\"colorbar\": {\"outlinewidth\": 0, \"ticks\": \"\"}}, \"type\": \"scattergl\"}], \"scattermapbox\": [{\"marker\": {\"colorbar\": {\"outlinewidth\": 0, \"ticks\": \"\"}}, \"type\": \"scattermapbox\"}], \"scatterpolar\": [{\"marker\": {\"colorbar\": {\"outlinewidth\": 0, \"ticks\": \"\"}}, \"type\": \"scatterpolar\"}], \"scatterpolargl\": [{\"marker\": {\"colorbar\": {\"outlinewidth\": 0, \"ticks\": \"\"}}, \"type\": \"scatterpolargl\"}], \"scatterternary\": [{\"marker\": {\"colorbar\": {\"outlinewidth\": 0, \"ticks\": \"\"}}, \"type\": \"scatterternary\"}], \"surface\": [{\"colorbar\": {\"outlinewidth\": 0, \"ticks\": \"\"}, \"colorscale\": [[0.0, \"#0d0887\"], [0.1111111111111111, \"#46039f\"], [0.2222222222222222, \"#7201a8\"], [0.3333333333333333, \"#9c179e\"], [0.4444444444444444, \"#bd3786\"], [0.5555555555555556, \"#d8576b\"], [0.6666666666666666, \"#ed7953\"], [0.7777777777777778, \"#fb9f3a\"], [0.8888888888888888, \"#fdca26\"], [1.0, \"#f0f921\"]], \"type\": \"surface\"}], \"table\": [{\"cells\": {\"fill\": {\"color\": \"#EBF0F8\"}, \"line\": {\"color\": \"white\"}}, \"header\": {\"fill\": {\"color\": \"#C8D4E3\"}, \"line\": {\"color\": \"white\"}}, \"type\": \"table\"}]}, \"layout\": {\"annotationdefaults\": {\"arrowcolor\": \"#2a3f5f\", \"arrowhead\": 0, \"arrowwidth\": 1}, \"colorscale\": {\"diverging\": [[0, \"#8e0152\"], [0.1, \"#c51b7d\"], [0.2, \"#de77ae\"], [0.3, \"#f1b6da\"], [0.4, \"#fde0ef\"], [0.5, \"#f7f7f7\"], [0.6, \"#e6f5d0\"], [0.7, \"#b8e186\"], [0.8, \"#7fbc41\"], [0.9, \"#4d9221\"], [1, \"#276419\"]], \"sequential\": [[0.0, \"#0d0887\"], [0.1111111111111111, \"#46039f\"], [0.2222222222222222, \"#7201a8\"], [0.3333333333333333, \"#9c179e\"], [0.4444444444444444, \"#bd3786\"], [0.5555555555555556, \"#d8576b\"], [0.6666666666666666, \"#ed7953\"], [0.7777777777777778, \"#fb9f3a\"], [0.8888888888888888, \"#fdca26\"], [1.0, \"#f0f921\"]], \"sequentialminus\": [[0.0, \"#0d0887\"], [0.1111111111111111, \"#46039f\"], [0.2222222222222222, \"#7201a8\"], [0.3333333333333333, \"#9c179e\"], [0.4444444444444444, \"#bd3786\"], [0.5555555555555556, \"#d8576b\"], [0.6666666666666666, \"#ed7953\"], [0.7777777777777778, \"#fb9f3a\"], [0.8888888888888888, \"#fdca26\"], [1.0, \"#f0f921\"]]}, \"colorway\": [\"#636efa\", \"#EF553B\", \"#00cc96\", \"#ab63fa\", \"#FFA15A\", \"#19d3f3\", \"#FF6692\", \"#B6E880\", \"#FF97FF\", \"#FECB52\"], \"font\": {\"color\": \"#2a3f5f\"}, \"geo\": {\"bgcolor\": \"white\", \"lakecolor\": \"white\", \"landcolor\": \"#E5ECF6\", \"showlakes\": true, \"showland\": true, \"subunitcolor\": \"white\"}, \"hoverlabel\": {\"align\": \"left\"}, \"hovermode\": \"closest\", \"mapbox\": {\"style\": \"light\"}, \"paper_bgcolor\": \"white\", \"plot_bgcolor\": \"#E5ECF6\", \"polar\": {\"angularaxis\": {\"gridcolor\": \"white\", \"linecolor\": \"white\", \"ticks\": \"\"}, \"bgcolor\": \"#E5ECF6\", \"radialaxis\": {\"gridcolor\": \"white\", \"linecolor\": \"white\", \"ticks\": \"\"}}, \"scene\": {\"xaxis\": {\"backgroundcolor\": \"#E5ECF6\", \"gridcolor\": \"white\", \"gridwidth\": 2, \"linecolor\": \"white\", \"showbackground\": true, \"ticks\": \"\", \"zerolinecolor\": \"white\"}, \"yaxis\": {\"backgroundcolor\": \"#E5ECF6\", \"gridcolor\": \"white\", \"gridwidth\": 2, \"linecolor\": \"white\", \"showbackground\": true, \"ticks\": \"\", \"zerolinecolor\": \"white\"}, \"zaxis\": {\"backgroundcolor\": \"#E5ECF6\", \"gridcolor\": \"white\", \"gridwidth\": 2, \"linecolor\": \"white\", \"showbackground\": true, \"ticks\": \"\", \"zerolinecolor\": \"white\"}}, \"shapedefaults\": {\"line\": {\"color\": \"#2a3f5f\"}}, \"ternary\": {\"aaxis\": {\"gridcolor\": \"white\", \"linecolor\": \"white\", \"ticks\": \"\"}, \"baxis\": {\"gridcolor\": \"white\", \"linecolor\": \"white\", \"ticks\": \"\"}, \"bgcolor\": \"#E5ECF6\", \"caxis\": {\"gridcolor\": \"white\", \"linecolor\": \"white\", \"ticks\": \"\"}}, \"title\": {\"x\": 0.05}, \"xaxis\": {\"automargin\": true, \"gridcolor\": \"white\", \"linecolor\": \"white\", \"ticks\": \"\", \"zerolinecolor\": \"white\", \"zerolinewidth\": 2}, \"yaxis\": {\"automargin\": true, \"gridcolor\": \"white\", \"linecolor\": \"white\", \"ticks\": \"\", \"zerolinecolor\": \"white\", \"zerolinewidth\": 2}}}, \"title\": {\"text\": \"Escenarios\"}, \"xaxis\": {\"anchor\": \"y\", \"domain\": [0.0, 1.0], \"title\": {\"text\": \"Escenarios\"}}, \"yaxis\": {\"anchor\": \"x\", \"domain\": [0.0, 1.0], \"title\": {\"text\": \"Cantidad en escenarios Industrial Productions\"}}},\n",
       "                        {\"responsive\": true}\n",
       "                    ).then(function(){\n",
       "                            \n",
       "var gd = document.getElementById('17edc323-a060-4486-9e3d-0a57df382d4f');\n",
       "var x = new MutationObserver(function (mutations, observer) {{\n",
       "        var display = window.getComputedStyle(gd).display;\n",
       "        if (!display || display === 'none') {{\n",
       "            console.log([gd, 'removed!']);\n",
       "            Plotly.purge(gd);\n",
       "            observer.disconnect();\n",
       "        }}\n",
       "}});\n",
       "\n",
       "// Listen for the removal of the full notebook cells\n",
       "var notebookContainer = gd.closest('#notebook-container');\n",
       "if (notebookContainer) {{\n",
       "    x.observe(notebookContainer, {childList: true});\n",
       "}}\n",
       "\n",
       "// Listen for the clearing of the current output cell\n",
       "var outputEl = gd.closest('.output');\n",
       "if (outputEl) {{\n",
       "    x.observe(outputEl, {childList: true});\n",
       "}}\n",
       "\n",
       "                        })\n",
       "                };\n",
       "                });\n",
       "            </script>\n",
       "        </div>"
      ]
     },
     "metadata": {},
     "output_type": "display_data"
    }
   ],
   "source": [
    "fig = go.Figure()\n",
    "fig = make_subplots()\n",
    "fig.add_trace(go.Bar(x=escenariosIP['escenario'], \n",
    "                     y=escenariosIP['cantidad'],\n",
    "                         hovertemplate = '<i>Casos</i>: %{y}'\n",
    "                        '<br><b>Identificador</b>: %{x}<br>'),secondary_y=False)\n",
    "# Título gráfica\n",
    "fig.update_layout(title_text='Escenarios')\n",
    "    \n",
    "# Título ejes x & y\n",
    "fig.update_xaxes(title_text='Escenarios')\n",
    "fig.update_yaxes(title_text='Cantidad en escenarios Industrial Productions', secondary_y=False)\n",
    "    \n",
    "fig.show()"
   ]
  },
  {
   "cell_type": "code",
   "execution_count": 43,
   "metadata": {},
   "outputs": [
    {
     "data": {
      "text/html": [
       "<div>\n",
       "<style scoped>\n",
       "    .dataframe tbody tr th:only-of-type {\n",
       "        vertical-align: middle;\n",
       "    }\n",
       "\n",
       "    .dataframe tbody tr th {\n",
       "        vertical-align: top;\n",
       "    }\n",
       "\n",
       "    .dataframe thead th {\n",
       "        text-align: right;\n",
       "    }\n",
       "</style>\n",
       "<table border=\"1\" class=\"dataframe\">\n",
       "  <thead>\n",
       "    <tr style=\"text-align: right;\">\n",
       "      <th></th>\n",
       "      <th>escenario</th>\n",
       "      <th>cantidad</th>\n",
       "    </tr>\n",
       "  </thead>\n",
       "  <tbody>\n",
       "    <tr>\n",
       "      <td>0</td>\n",
       "      <td>B</td>\n",
       "      <td>37</td>\n",
       "    </tr>\n",
       "    <tr>\n",
       "      <td>1</td>\n",
       "      <td>D</td>\n",
       "      <td>24</td>\n",
       "    </tr>\n",
       "    <tr>\n",
       "      <td>2</td>\n",
       "      <td>C</td>\n",
       "      <td>37</td>\n",
       "    </tr>\n",
       "    <tr>\n",
       "      <td>3</td>\n",
       "      <td>A</td>\n",
       "      <td>31</td>\n",
       "    </tr>\n",
       "  </tbody>\n",
       "</table>\n",
       "</div>"
      ],
      "text/plain": [
       "  escenario  cantidad\n",
       "0         B        37\n",
       "1         D        24\n",
       "2         C        37\n",
       "3         A        31"
      ]
     },
     "execution_count": 43,
     "metadata": {},
     "output_type": "execute_result"
    }
   ],
   "source": [
    "#Usamos la funcion Counter para contar cuantas veces se repiten las palabras\n",
    "newcounter = Counter(FinalDFRS['escenario'])\n",
    "escenariosRS = pd.DataFrame.from_dict(newcounter, orient='index').reset_index()\n",
    "escenariosRS.columns = ['escenario', 'cantidad']\n",
    "escenariosRS\n",
    "###----------------cuantos escenarios hubo en cada uno A B C y D (RS)-------------------------\n"
   ]
  },
  {
   "cell_type": "code",
   "execution_count": 44,
   "metadata": {},
   "outputs": [
    {
     "data": {
      "application/vnd.plotly.v1+json": {
       "config": {
        "plotlyServerURL": "https://plot.ly"
       },
       "data": [
        {
         "hovertemplate": "<i>Casos</i>: %{y}<br><b>Identificador</b>: %{x}<br>",
         "type": "bar",
         "x": [
          "B",
          "D",
          "C",
          "A"
         ],
         "xaxis": "x",
         "y": [
          37,
          24,
          37,
          31
         ],
         "yaxis": "y"
        }
       ],
       "layout": {
        "template": {
         "data": {
          "bar": [
           {
            "error_x": {
             "color": "#2a3f5f"
            },
            "error_y": {
             "color": "#2a3f5f"
            },
            "marker": {
             "line": {
              "color": "#E5ECF6",
              "width": 0.5
             }
            },
            "type": "bar"
           }
          ],
          "barpolar": [
           {
            "marker": {
             "line": {
              "color": "#E5ECF6",
              "width": 0.5
             }
            },
            "type": "barpolar"
           }
          ],
          "carpet": [
           {
            "aaxis": {
             "endlinecolor": "#2a3f5f",
             "gridcolor": "white",
             "linecolor": "white",
             "minorgridcolor": "white",
             "startlinecolor": "#2a3f5f"
            },
            "baxis": {
             "endlinecolor": "#2a3f5f",
             "gridcolor": "white",
             "linecolor": "white",
             "minorgridcolor": "white",
             "startlinecolor": "#2a3f5f"
            },
            "type": "carpet"
           }
          ],
          "choropleth": [
           {
            "colorbar": {
             "outlinewidth": 0,
             "ticks": ""
            },
            "type": "choropleth"
           }
          ],
          "contour": [
           {
            "colorbar": {
             "outlinewidth": 0,
             "ticks": ""
            },
            "colorscale": [
             [
              0,
              "#0d0887"
             ],
             [
              0.1111111111111111,
              "#46039f"
             ],
             [
              0.2222222222222222,
              "#7201a8"
             ],
             [
              0.3333333333333333,
              "#9c179e"
             ],
             [
              0.4444444444444444,
              "#bd3786"
             ],
             [
              0.5555555555555556,
              "#d8576b"
             ],
             [
              0.6666666666666666,
              "#ed7953"
             ],
             [
              0.7777777777777778,
              "#fb9f3a"
             ],
             [
              0.8888888888888888,
              "#fdca26"
             ],
             [
              1,
              "#f0f921"
             ]
            ],
            "type": "contour"
           }
          ],
          "contourcarpet": [
           {
            "colorbar": {
             "outlinewidth": 0,
             "ticks": ""
            },
            "type": "contourcarpet"
           }
          ],
          "heatmap": [
           {
            "colorbar": {
             "outlinewidth": 0,
             "ticks": ""
            },
            "colorscale": [
             [
              0,
              "#0d0887"
             ],
             [
              0.1111111111111111,
              "#46039f"
             ],
             [
              0.2222222222222222,
              "#7201a8"
             ],
             [
              0.3333333333333333,
              "#9c179e"
             ],
             [
              0.4444444444444444,
              "#bd3786"
             ],
             [
              0.5555555555555556,
              "#d8576b"
             ],
             [
              0.6666666666666666,
              "#ed7953"
             ],
             [
              0.7777777777777778,
              "#fb9f3a"
             ],
             [
              0.8888888888888888,
              "#fdca26"
             ],
             [
              1,
              "#f0f921"
             ]
            ],
            "type": "heatmap"
           }
          ],
          "heatmapgl": [
           {
            "colorbar": {
             "outlinewidth": 0,
             "ticks": ""
            },
            "colorscale": [
             [
              0,
              "#0d0887"
             ],
             [
              0.1111111111111111,
              "#46039f"
             ],
             [
              0.2222222222222222,
              "#7201a8"
             ],
             [
              0.3333333333333333,
              "#9c179e"
             ],
             [
              0.4444444444444444,
              "#bd3786"
             ],
             [
              0.5555555555555556,
              "#d8576b"
             ],
             [
              0.6666666666666666,
              "#ed7953"
             ],
             [
              0.7777777777777778,
              "#fb9f3a"
             ],
             [
              0.8888888888888888,
              "#fdca26"
             ],
             [
              1,
              "#f0f921"
             ]
            ],
            "type": "heatmapgl"
           }
          ],
          "histogram": [
           {
            "marker": {
             "colorbar": {
              "outlinewidth": 0,
              "ticks": ""
             }
            },
            "type": "histogram"
           }
          ],
          "histogram2d": [
           {
            "colorbar": {
             "outlinewidth": 0,
             "ticks": ""
            },
            "colorscale": [
             [
              0,
              "#0d0887"
             ],
             [
              0.1111111111111111,
              "#46039f"
             ],
             [
              0.2222222222222222,
              "#7201a8"
             ],
             [
              0.3333333333333333,
              "#9c179e"
             ],
             [
              0.4444444444444444,
              "#bd3786"
             ],
             [
              0.5555555555555556,
              "#d8576b"
             ],
             [
              0.6666666666666666,
              "#ed7953"
             ],
             [
              0.7777777777777778,
              "#fb9f3a"
             ],
             [
              0.8888888888888888,
              "#fdca26"
             ],
             [
              1,
              "#f0f921"
             ]
            ],
            "type": "histogram2d"
           }
          ],
          "histogram2dcontour": [
           {
            "colorbar": {
             "outlinewidth": 0,
             "ticks": ""
            },
            "colorscale": [
             [
              0,
              "#0d0887"
             ],
             [
              0.1111111111111111,
              "#46039f"
             ],
             [
              0.2222222222222222,
              "#7201a8"
             ],
             [
              0.3333333333333333,
              "#9c179e"
             ],
             [
              0.4444444444444444,
              "#bd3786"
             ],
             [
              0.5555555555555556,
              "#d8576b"
             ],
             [
              0.6666666666666666,
              "#ed7953"
             ],
             [
              0.7777777777777778,
              "#fb9f3a"
             ],
             [
              0.8888888888888888,
              "#fdca26"
             ],
             [
              1,
              "#f0f921"
             ]
            ],
            "type": "histogram2dcontour"
           }
          ],
          "mesh3d": [
           {
            "colorbar": {
             "outlinewidth": 0,
             "ticks": ""
            },
            "type": "mesh3d"
           }
          ],
          "parcoords": [
           {
            "line": {
             "colorbar": {
              "outlinewidth": 0,
              "ticks": ""
             }
            },
            "type": "parcoords"
           }
          ],
          "scatter": [
           {
            "marker": {
             "colorbar": {
              "outlinewidth": 0,
              "ticks": ""
             }
            },
            "type": "scatter"
           }
          ],
          "scatter3d": [
           {
            "line": {
             "colorbar": {
              "outlinewidth": 0,
              "ticks": ""
             }
            },
            "marker": {
             "colorbar": {
              "outlinewidth": 0,
              "ticks": ""
             }
            },
            "type": "scatter3d"
           }
          ],
          "scattercarpet": [
           {
            "marker": {
             "colorbar": {
              "outlinewidth": 0,
              "ticks": ""
             }
            },
            "type": "scattercarpet"
           }
          ],
          "scattergeo": [
           {
            "marker": {
             "colorbar": {
              "outlinewidth": 0,
              "ticks": ""
             }
            },
            "type": "scattergeo"
           }
          ],
          "scattergl": [
           {
            "marker": {
             "colorbar": {
              "outlinewidth": 0,
              "ticks": ""
             }
            },
            "type": "scattergl"
           }
          ],
          "scattermapbox": [
           {
            "marker": {
             "colorbar": {
              "outlinewidth": 0,
              "ticks": ""
             }
            },
            "type": "scattermapbox"
           }
          ],
          "scatterpolar": [
           {
            "marker": {
             "colorbar": {
              "outlinewidth": 0,
              "ticks": ""
             }
            },
            "type": "scatterpolar"
           }
          ],
          "scatterpolargl": [
           {
            "marker": {
             "colorbar": {
              "outlinewidth": 0,
              "ticks": ""
             }
            },
            "type": "scatterpolargl"
           }
          ],
          "scatterternary": [
           {
            "marker": {
             "colorbar": {
              "outlinewidth": 0,
              "ticks": ""
             }
            },
            "type": "scatterternary"
           }
          ],
          "surface": [
           {
            "colorbar": {
             "outlinewidth": 0,
             "ticks": ""
            },
            "colorscale": [
             [
              0,
              "#0d0887"
             ],
             [
              0.1111111111111111,
              "#46039f"
             ],
             [
              0.2222222222222222,
              "#7201a8"
             ],
             [
              0.3333333333333333,
              "#9c179e"
             ],
             [
              0.4444444444444444,
              "#bd3786"
             ],
             [
              0.5555555555555556,
              "#d8576b"
             ],
             [
              0.6666666666666666,
              "#ed7953"
             ],
             [
              0.7777777777777778,
              "#fb9f3a"
             ],
             [
              0.8888888888888888,
              "#fdca26"
             ],
             [
              1,
              "#f0f921"
             ]
            ],
            "type": "surface"
           }
          ],
          "table": [
           {
            "cells": {
             "fill": {
              "color": "#EBF0F8"
             },
             "line": {
              "color": "white"
             }
            },
            "header": {
             "fill": {
              "color": "#C8D4E3"
             },
             "line": {
              "color": "white"
             }
            },
            "type": "table"
           }
          ]
         },
         "layout": {
          "annotationdefaults": {
           "arrowcolor": "#2a3f5f",
           "arrowhead": 0,
           "arrowwidth": 1
          },
          "colorscale": {
           "diverging": [
            [
             0,
             "#8e0152"
            ],
            [
             0.1,
             "#c51b7d"
            ],
            [
             0.2,
             "#de77ae"
            ],
            [
             0.3,
             "#f1b6da"
            ],
            [
             0.4,
             "#fde0ef"
            ],
            [
             0.5,
             "#f7f7f7"
            ],
            [
             0.6,
             "#e6f5d0"
            ],
            [
             0.7,
             "#b8e186"
            ],
            [
             0.8,
             "#7fbc41"
            ],
            [
             0.9,
             "#4d9221"
            ],
            [
             1,
             "#276419"
            ]
           ],
           "sequential": [
            [
             0,
             "#0d0887"
            ],
            [
             0.1111111111111111,
             "#46039f"
            ],
            [
             0.2222222222222222,
             "#7201a8"
            ],
            [
             0.3333333333333333,
             "#9c179e"
            ],
            [
             0.4444444444444444,
             "#bd3786"
            ],
            [
             0.5555555555555556,
             "#d8576b"
            ],
            [
             0.6666666666666666,
             "#ed7953"
            ],
            [
             0.7777777777777778,
             "#fb9f3a"
            ],
            [
             0.8888888888888888,
             "#fdca26"
            ],
            [
             1,
             "#f0f921"
            ]
           ],
           "sequentialminus": [
            [
             0,
             "#0d0887"
            ],
            [
             0.1111111111111111,
             "#46039f"
            ],
            [
             0.2222222222222222,
             "#7201a8"
            ],
            [
             0.3333333333333333,
             "#9c179e"
            ],
            [
             0.4444444444444444,
             "#bd3786"
            ],
            [
             0.5555555555555556,
             "#d8576b"
            ],
            [
             0.6666666666666666,
             "#ed7953"
            ],
            [
             0.7777777777777778,
             "#fb9f3a"
            ],
            [
             0.8888888888888888,
             "#fdca26"
            ],
            [
             1,
             "#f0f921"
            ]
           ]
          },
          "colorway": [
           "#636efa",
           "#EF553B",
           "#00cc96",
           "#ab63fa",
           "#FFA15A",
           "#19d3f3",
           "#FF6692",
           "#B6E880",
           "#FF97FF",
           "#FECB52"
          ],
          "font": {
           "color": "#2a3f5f"
          },
          "geo": {
           "bgcolor": "white",
           "lakecolor": "white",
           "landcolor": "#E5ECF6",
           "showlakes": true,
           "showland": true,
           "subunitcolor": "white"
          },
          "hoverlabel": {
           "align": "left"
          },
          "hovermode": "closest",
          "mapbox": {
           "style": "light"
          },
          "paper_bgcolor": "white",
          "plot_bgcolor": "#E5ECF6",
          "polar": {
           "angularaxis": {
            "gridcolor": "white",
            "linecolor": "white",
            "ticks": ""
           },
           "bgcolor": "#E5ECF6",
           "radialaxis": {
            "gridcolor": "white",
            "linecolor": "white",
            "ticks": ""
           }
          },
          "scene": {
           "xaxis": {
            "backgroundcolor": "#E5ECF6",
            "gridcolor": "white",
            "gridwidth": 2,
            "linecolor": "white",
            "showbackground": true,
            "ticks": "",
            "zerolinecolor": "white"
           },
           "yaxis": {
            "backgroundcolor": "#E5ECF6",
            "gridcolor": "white",
            "gridwidth": 2,
            "linecolor": "white",
            "showbackground": true,
            "ticks": "",
            "zerolinecolor": "white"
           },
           "zaxis": {
            "backgroundcolor": "#E5ECF6",
            "gridcolor": "white",
            "gridwidth": 2,
            "linecolor": "white",
            "showbackground": true,
            "ticks": "",
            "zerolinecolor": "white"
           }
          },
          "shapedefaults": {
           "line": {
            "color": "#2a3f5f"
           }
          },
          "ternary": {
           "aaxis": {
            "gridcolor": "white",
            "linecolor": "white",
            "ticks": ""
           },
           "baxis": {
            "gridcolor": "white",
            "linecolor": "white",
            "ticks": ""
           },
           "bgcolor": "#E5ECF6",
           "caxis": {
            "gridcolor": "white",
            "linecolor": "white",
            "ticks": ""
           }
          },
          "title": {
           "x": 0.05
          },
          "xaxis": {
           "automargin": true,
           "gridcolor": "white",
           "linecolor": "white",
           "ticks": "",
           "zerolinecolor": "white",
           "zerolinewidth": 2
          },
          "yaxis": {
           "automargin": true,
           "gridcolor": "white",
           "linecolor": "white",
           "ticks": "",
           "zerolinecolor": "white",
           "zerolinewidth": 2
          }
         }
        },
        "title": {
         "text": "Escenarios"
        },
        "xaxis": {
         "anchor": "y",
         "domain": [
          0,
          1
         ],
         "title": {
          "text": "Escenarios"
         }
        },
        "yaxis": {
         "anchor": "x",
         "domain": [
          0,
          1
         ],
         "title": {
          "text": "Cantidad en escenarios Retail Sales"
         }
        }
       }
      },
      "text/html": [
       "<div>\n",
       "        \n",
       "        \n",
       "            <div id=\"e15dd19f-6e5e-41c0-aea1-3854d9a4564e\" class=\"plotly-graph-div\" style=\"height:525px; width:100%;\"></div>\n",
       "            <script type=\"text/javascript\">\n",
       "                require([\"plotly\"], function(Plotly) {\n",
       "                    window.PLOTLYENV=window.PLOTLYENV || {};\n",
       "                    \n",
       "                if (document.getElementById(\"e15dd19f-6e5e-41c0-aea1-3854d9a4564e\")) {\n",
       "                    Plotly.newPlot(\n",
       "                        'e15dd19f-6e5e-41c0-aea1-3854d9a4564e',\n",
       "                        [{\"hovertemplate\": \"<i>Casos</i>: %{y}<br><b>Identificador</b>: %{x}<br>\", \"type\": \"bar\", \"x\": [\"B\", \"D\", \"C\", \"A\"], \"xaxis\": \"x\", \"y\": [37, 24, 37, 31], \"yaxis\": \"y\"}],\n",
       "                        {\"template\": {\"data\": {\"bar\": [{\"error_x\": {\"color\": \"#2a3f5f\"}, \"error_y\": {\"color\": \"#2a3f5f\"}, \"marker\": {\"line\": {\"color\": \"#E5ECF6\", \"width\": 0.5}}, \"type\": \"bar\"}], \"barpolar\": [{\"marker\": {\"line\": {\"color\": \"#E5ECF6\", \"width\": 0.5}}, \"type\": \"barpolar\"}], \"carpet\": [{\"aaxis\": {\"endlinecolor\": \"#2a3f5f\", \"gridcolor\": \"white\", \"linecolor\": \"white\", \"minorgridcolor\": \"white\", \"startlinecolor\": \"#2a3f5f\"}, \"baxis\": {\"endlinecolor\": \"#2a3f5f\", \"gridcolor\": \"white\", \"linecolor\": \"white\", \"minorgridcolor\": \"white\", \"startlinecolor\": \"#2a3f5f\"}, \"type\": \"carpet\"}], \"choropleth\": [{\"colorbar\": {\"outlinewidth\": 0, \"ticks\": \"\"}, \"type\": \"choropleth\"}], \"contour\": [{\"colorbar\": {\"outlinewidth\": 0, \"ticks\": \"\"}, \"colorscale\": [[0.0, \"#0d0887\"], [0.1111111111111111, \"#46039f\"], [0.2222222222222222, \"#7201a8\"], [0.3333333333333333, \"#9c179e\"], [0.4444444444444444, \"#bd3786\"], [0.5555555555555556, \"#d8576b\"], [0.6666666666666666, \"#ed7953\"], [0.7777777777777778, \"#fb9f3a\"], [0.8888888888888888, \"#fdca26\"], [1.0, \"#f0f921\"]], \"type\": \"contour\"}], \"contourcarpet\": [{\"colorbar\": {\"outlinewidth\": 0, \"ticks\": \"\"}, \"type\": \"contourcarpet\"}], \"heatmap\": [{\"colorbar\": {\"outlinewidth\": 0, \"ticks\": \"\"}, \"colorscale\": [[0.0, \"#0d0887\"], [0.1111111111111111, \"#46039f\"], [0.2222222222222222, \"#7201a8\"], [0.3333333333333333, \"#9c179e\"], [0.4444444444444444, \"#bd3786\"], [0.5555555555555556, \"#d8576b\"], [0.6666666666666666, \"#ed7953\"], [0.7777777777777778, \"#fb9f3a\"], [0.8888888888888888, \"#fdca26\"], [1.0, \"#f0f921\"]], \"type\": \"heatmap\"}], \"heatmapgl\": [{\"colorbar\": {\"outlinewidth\": 0, \"ticks\": \"\"}, \"colorscale\": [[0.0, \"#0d0887\"], [0.1111111111111111, \"#46039f\"], [0.2222222222222222, \"#7201a8\"], [0.3333333333333333, \"#9c179e\"], [0.4444444444444444, \"#bd3786\"], [0.5555555555555556, \"#d8576b\"], [0.6666666666666666, \"#ed7953\"], [0.7777777777777778, \"#fb9f3a\"], [0.8888888888888888, \"#fdca26\"], [1.0, \"#f0f921\"]], \"type\": \"heatmapgl\"}], \"histogram\": [{\"marker\": {\"colorbar\": {\"outlinewidth\": 0, \"ticks\": \"\"}}, \"type\": \"histogram\"}], \"histogram2d\": [{\"colorbar\": {\"outlinewidth\": 0, \"ticks\": \"\"}, \"colorscale\": [[0.0, \"#0d0887\"], [0.1111111111111111, \"#46039f\"], [0.2222222222222222, \"#7201a8\"], [0.3333333333333333, \"#9c179e\"], [0.4444444444444444, \"#bd3786\"], [0.5555555555555556, \"#d8576b\"], [0.6666666666666666, \"#ed7953\"], [0.7777777777777778, \"#fb9f3a\"], [0.8888888888888888, \"#fdca26\"], [1.0, \"#f0f921\"]], \"type\": \"histogram2d\"}], \"histogram2dcontour\": [{\"colorbar\": {\"outlinewidth\": 0, \"ticks\": \"\"}, \"colorscale\": [[0.0, \"#0d0887\"], [0.1111111111111111, \"#46039f\"], [0.2222222222222222, \"#7201a8\"], [0.3333333333333333, \"#9c179e\"], [0.4444444444444444, \"#bd3786\"], [0.5555555555555556, \"#d8576b\"], [0.6666666666666666, \"#ed7953\"], [0.7777777777777778, \"#fb9f3a\"], [0.8888888888888888, \"#fdca26\"], [1.0, \"#f0f921\"]], \"type\": \"histogram2dcontour\"}], \"mesh3d\": [{\"colorbar\": {\"outlinewidth\": 0, \"ticks\": \"\"}, \"type\": \"mesh3d\"}], \"parcoords\": [{\"line\": {\"colorbar\": {\"outlinewidth\": 0, \"ticks\": \"\"}}, \"type\": \"parcoords\"}], \"scatter\": [{\"marker\": {\"colorbar\": {\"outlinewidth\": 0, \"ticks\": \"\"}}, \"type\": \"scatter\"}], \"scatter3d\": [{\"line\": {\"colorbar\": {\"outlinewidth\": 0, \"ticks\": \"\"}}, \"marker\": {\"colorbar\": {\"outlinewidth\": 0, \"ticks\": \"\"}}, \"type\": \"scatter3d\"}], \"scattercarpet\": [{\"marker\": {\"colorbar\": {\"outlinewidth\": 0, \"ticks\": \"\"}}, \"type\": \"scattercarpet\"}], \"scattergeo\": [{\"marker\": {\"colorbar\": {\"outlinewidth\": 0, \"ticks\": \"\"}}, \"type\": \"scattergeo\"}], \"scattergl\": [{\"marker\": {\"colorbar\": {\"outlinewidth\": 0, \"ticks\": \"\"}}, \"type\": \"scattergl\"}], \"scattermapbox\": [{\"marker\": {\"colorbar\": {\"outlinewidth\": 0, \"ticks\": \"\"}}, \"type\": \"scattermapbox\"}], \"scatterpolar\": [{\"marker\": {\"colorbar\": {\"outlinewidth\": 0, \"ticks\": \"\"}}, \"type\": \"scatterpolar\"}], \"scatterpolargl\": [{\"marker\": {\"colorbar\": {\"outlinewidth\": 0, \"ticks\": \"\"}}, \"type\": \"scatterpolargl\"}], \"scatterternary\": [{\"marker\": {\"colorbar\": {\"outlinewidth\": 0, \"ticks\": \"\"}}, \"type\": \"scatterternary\"}], \"surface\": [{\"colorbar\": {\"outlinewidth\": 0, \"ticks\": \"\"}, \"colorscale\": [[0.0, \"#0d0887\"], [0.1111111111111111, \"#46039f\"], [0.2222222222222222, \"#7201a8\"], [0.3333333333333333, \"#9c179e\"], [0.4444444444444444, \"#bd3786\"], [0.5555555555555556, \"#d8576b\"], [0.6666666666666666, \"#ed7953\"], [0.7777777777777778, \"#fb9f3a\"], [0.8888888888888888, \"#fdca26\"], [1.0, \"#f0f921\"]], \"type\": \"surface\"}], \"table\": [{\"cells\": {\"fill\": {\"color\": \"#EBF0F8\"}, \"line\": {\"color\": \"white\"}}, \"header\": {\"fill\": {\"color\": \"#C8D4E3\"}, \"line\": {\"color\": \"white\"}}, \"type\": \"table\"}]}, \"layout\": {\"annotationdefaults\": {\"arrowcolor\": \"#2a3f5f\", \"arrowhead\": 0, \"arrowwidth\": 1}, \"colorscale\": {\"diverging\": [[0, \"#8e0152\"], [0.1, \"#c51b7d\"], [0.2, \"#de77ae\"], [0.3, \"#f1b6da\"], [0.4, \"#fde0ef\"], [0.5, \"#f7f7f7\"], [0.6, \"#e6f5d0\"], [0.7, \"#b8e186\"], [0.8, \"#7fbc41\"], [0.9, \"#4d9221\"], [1, \"#276419\"]], \"sequential\": [[0.0, \"#0d0887\"], [0.1111111111111111, \"#46039f\"], [0.2222222222222222, \"#7201a8\"], [0.3333333333333333, \"#9c179e\"], [0.4444444444444444, \"#bd3786\"], [0.5555555555555556, \"#d8576b\"], [0.6666666666666666, \"#ed7953\"], [0.7777777777777778, \"#fb9f3a\"], [0.8888888888888888, \"#fdca26\"], [1.0, \"#f0f921\"]], \"sequentialminus\": [[0.0, \"#0d0887\"], [0.1111111111111111, \"#46039f\"], [0.2222222222222222, \"#7201a8\"], [0.3333333333333333, \"#9c179e\"], [0.4444444444444444, \"#bd3786\"], [0.5555555555555556, \"#d8576b\"], [0.6666666666666666, \"#ed7953\"], [0.7777777777777778, \"#fb9f3a\"], [0.8888888888888888, \"#fdca26\"], [1.0, \"#f0f921\"]]}, \"colorway\": [\"#636efa\", \"#EF553B\", \"#00cc96\", \"#ab63fa\", \"#FFA15A\", \"#19d3f3\", \"#FF6692\", \"#B6E880\", \"#FF97FF\", \"#FECB52\"], \"font\": {\"color\": \"#2a3f5f\"}, \"geo\": {\"bgcolor\": \"white\", \"lakecolor\": \"white\", \"landcolor\": \"#E5ECF6\", \"showlakes\": true, \"showland\": true, \"subunitcolor\": \"white\"}, \"hoverlabel\": {\"align\": \"left\"}, \"hovermode\": \"closest\", \"mapbox\": {\"style\": \"light\"}, \"paper_bgcolor\": \"white\", \"plot_bgcolor\": \"#E5ECF6\", \"polar\": {\"angularaxis\": {\"gridcolor\": \"white\", \"linecolor\": \"white\", \"ticks\": \"\"}, \"bgcolor\": \"#E5ECF6\", \"radialaxis\": {\"gridcolor\": \"white\", \"linecolor\": \"white\", \"ticks\": \"\"}}, \"scene\": {\"xaxis\": {\"backgroundcolor\": \"#E5ECF6\", \"gridcolor\": \"white\", \"gridwidth\": 2, \"linecolor\": \"white\", \"showbackground\": true, \"ticks\": \"\", \"zerolinecolor\": \"white\"}, \"yaxis\": {\"backgroundcolor\": \"#E5ECF6\", \"gridcolor\": \"white\", \"gridwidth\": 2, \"linecolor\": \"white\", \"showbackground\": true, \"ticks\": \"\", \"zerolinecolor\": \"white\"}, \"zaxis\": {\"backgroundcolor\": \"#E5ECF6\", \"gridcolor\": \"white\", \"gridwidth\": 2, \"linecolor\": \"white\", \"showbackground\": true, \"ticks\": \"\", \"zerolinecolor\": \"white\"}}, \"shapedefaults\": {\"line\": {\"color\": \"#2a3f5f\"}}, \"ternary\": {\"aaxis\": {\"gridcolor\": \"white\", \"linecolor\": \"white\", \"ticks\": \"\"}, \"baxis\": {\"gridcolor\": \"white\", \"linecolor\": \"white\", \"ticks\": \"\"}, \"bgcolor\": \"#E5ECF6\", \"caxis\": {\"gridcolor\": \"white\", \"linecolor\": \"white\", \"ticks\": \"\"}}, \"title\": {\"x\": 0.05}, \"xaxis\": {\"automargin\": true, \"gridcolor\": \"white\", \"linecolor\": \"white\", \"ticks\": \"\", \"zerolinecolor\": \"white\", \"zerolinewidth\": 2}, \"yaxis\": {\"automargin\": true, \"gridcolor\": \"white\", \"linecolor\": \"white\", \"ticks\": \"\", \"zerolinecolor\": \"white\", \"zerolinewidth\": 2}}}, \"title\": {\"text\": \"Escenarios\"}, \"xaxis\": {\"anchor\": \"y\", \"domain\": [0.0, 1.0], \"title\": {\"text\": \"Escenarios\"}}, \"yaxis\": {\"anchor\": \"x\", \"domain\": [0.0, 1.0], \"title\": {\"text\": \"Cantidad en escenarios Retail Sales\"}}},\n",
       "                        {\"responsive\": true}\n",
       "                    ).then(function(){\n",
       "                            \n",
       "var gd = document.getElementById('e15dd19f-6e5e-41c0-aea1-3854d9a4564e');\n",
       "var x = new MutationObserver(function (mutations, observer) {{\n",
       "        var display = window.getComputedStyle(gd).display;\n",
       "        if (!display || display === 'none') {{\n",
       "            console.log([gd, 'removed!']);\n",
       "            Plotly.purge(gd);\n",
       "            observer.disconnect();\n",
       "        }}\n",
       "}});\n",
       "\n",
       "// Listen for the removal of the full notebook cells\n",
       "var notebookContainer = gd.closest('#notebook-container');\n",
       "if (notebookContainer) {{\n",
       "    x.observe(notebookContainer, {childList: true});\n",
       "}}\n",
       "\n",
       "// Listen for the clearing of the current output cell\n",
       "var outputEl = gd.closest('.output');\n",
       "if (outputEl) {{\n",
       "    x.observe(outputEl, {childList: true});\n",
       "}}\n",
       "\n",
       "                        })\n",
       "                };\n",
       "                });\n",
       "            </script>\n",
       "        </div>"
      ]
     },
     "metadata": {},
     "output_type": "display_data"
    }
   ],
   "source": [
    "fig = go.Figure()\n",
    "fig = make_subplots()\n",
    "fig.add_trace(go.Bar(x=escenariosRS['escenario'], \n",
    "                     y=escenariosRS['cantidad'],\n",
    "                         hovertemplate = '<i>Casos</i>: %{y}'\n",
    "                        '<br><b>Identificador</b>: %{x}<br>'),secondary_y=False)\n",
    "# Título gráfica\n",
    "fig.update_layout(title_text='Escenarios')\n",
    "    \n",
    "# Título ejes x & y\n",
    "fig.update_xaxes(title_text='Escenarios')\n",
    "fig.update_yaxes(title_text='Cantidad en escenarios Retail Sales', secondary_y=False)\n",
    "    \n",
    "fig.show()"
   ]
  },
  {
   "cell_type": "code",
   "execution_count": 37,
   "metadata": {},
   "outputs": [],
   "source": [
    "# Sacando cuales informes pertenecen dependiendo de escenario A, B, y C para checar comportamiento\n",
    "def getescenario(DF):\n",
    "    escA=DF[DF.escenario.isin([\"A\"])]\n",
    "    escB=DF[DF.escenario.isin([\"B\"])]\n",
    "    escC=DF[DF.escenario.isin([\"C\"])]\n",
    "    escD=DF[DF.escenario.isin([\"D\"])]\n",
    "    return escA,escB,escC,escD\n"
   ]
  },
  {
   "cell_type": "code",
   "execution_count": 38,
   "metadata": {},
   "outputs": [],
   "source": [
    "#para sacar el escenario \"A\"=RSescenarios[0]\n",
    "#para sacar el escenario B =RSescenarios[1]\n",
    "#para sacar el escenario C =RSescenarios[2]\n",
    "#para sacar el escenario D =RSescenarios[3]\n",
    "RSescenarios=getescenario(FinalDFRS)\n",
    "\n",
    "#----------*****impriman estas variables para que vean el resultado*****-----------------"
   ]
  },
  {
   "cell_type": "code",
   "execution_count": 39,
   "metadata": {},
   "outputs": [],
   "source": [
    "#para sacar el escenario \"A\"=IPescenarios[0]\n",
    "#para sacar el escenario B =IPescenarios[1]\n",
    "#para sacar el escenario C =IPescenarios[2]\n",
    "#para sacar el escenario D =IPescenarios[3]\n",
    "IPescenarios=getescenario(FinalDFIP)\n",
    "\n",
    "#----------*****impriman estas variables para que vean el resultado*****-----------------"
   ]
  },
  {
   "cell_type": "code",
   "execution_count": 40,
   "metadata": {},
   "outputs": [
    {
     "data": {
      "text/html": [
       "<div>\n",
       "<style scoped>\n",
       "    .dataframe tbody tr th:only-of-type {\n",
       "        vertical-align: middle;\n",
       "    }\n",
       "\n",
       "    .dataframe tbody tr th {\n",
       "        vertical-align: top;\n",
       "    }\n",
       "\n",
       "    .dataframe thead th {\n",
       "        text-align: right;\n",
       "    }\n",
       "</style>\n",
       "<table border=\"1\" class=\"dataframe\">\n",
       "  <thead>\n",
       "    <tr style=\"text-align: right;\">\n",
       "      <th></th>\n",
       "      <th>timestamp</th>\n",
       "      <th>Currency</th>\n",
       "      <th>Name</th>\n",
       "      <th>Country</th>\n",
       "      <th>Volatility</th>\n",
       "      <th>actual</th>\n",
       "      <th>previous</th>\n",
       "      <th>consensus</th>\n",
       "      <th>escenario</th>\n",
       "      <th>direccion</th>\n",
       "      <th>pips alcistas</th>\n",
       "      <th>pips bajistas</th>\n",
       "      <th>volatilidad</th>\n",
       "    </tr>\n",
       "  </thead>\n",
       "  <tbody>\n",
       "    <tr>\n",
       "      <td>5</td>\n",
       "      <td>2009-06-04 09:00:00+00:00</td>\n",
       "      <td>EUR</td>\n",
       "      <td>Retail Sales (MoM)</td>\n",
       "      <td>European Monetary Union</td>\n",
       "      <td>2</td>\n",
       "      <td>0.8</td>\n",
       "      <td>-0.3</td>\n",
       "      <td>0.2</td>\n",
       "      <td>A</td>\n",
       "      <td>-0.00048</td>\n",
       "      <td>0.00153</td>\n",
       "      <td>0.00100</td>\n",
       "      <td>0.00322</td>\n",
       "    </tr>\n",
       "    <tr>\n",
       "      <td>11</td>\n",
       "      <td>2009-12-03 10:00:00+00:00</td>\n",
       "      <td>EUR</td>\n",
       "      <td>Retail Sales (MoM)</td>\n",
       "      <td>European Monetary Union</td>\n",
       "      <td>2</td>\n",
       "      <td>0.5</td>\n",
       "      <td>-0.2</td>\n",
       "      <td>0.2</td>\n",
       "      <td>A</td>\n",
       "      <td>0.00066</td>\n",
       "      <td>0.00266</td>\n",
       "      <td>-0.00096</td>\n",
       "      <td>0.00266</td>\n",
       "    </tr>\n",
       "    <tr>\n",
       "      <td>13</td>\n",
       "      <td>2010-02-03 10:00:00+00:00</td>\n",
       "      <td>EUR</td>\n",
       "      <td>Retail Sales (MoM)</td>\n",
       "      <td>European Monetary Union</td>\n",
       "      <td>2</td>\n",
       "      <td>1.1</td>\n",
       "      <td>-0.4</td>\n",
       "      <td>0.4</td>\n",
       "      <td>A</td>\n",
       "      <td>-0.00058</td>\n",
       "      <td>-0.00066</td>\n",
       "      <td>0.00150</td>\n",
       "      <td>0.00184</td>\n",
       "    </tr>\n",
       "    <tr>\n",
       "      <td>15</td>\n",
       "      <td>2010-04-08 09:00:00+00:00</td>\n",
       "      <td>EUR</td>\n",
       "      <td>Retail Sales (MoM)</td>\n",
       "      <td>European Monetary Union</td>\n",
       "      <td>2</td>\n",
       "      <td>0.1</td>\n",
       "      <td>-0.4</td>\n",
       "      <td>0.0</td>\n",
       "      <td>A</td>\n",
       "      <td>-0.00068</td>\n",
       "      <td>0.00150</td>\n",
       "      <td>-0.00012</td>\n",
       "      <td>0.00186</td>\n",
       "    </tr>\n",
       "    <tr>\n",
       "      <td>18</td>\n",
       "      <td>2010-07-05 09:00:00+00:00</td>\n",
       "      <td>EUR</td>\n",
       "      <td>Retail Sales (MoM)</td>\n",
       "      <td>European Monetary Union</td>\n",
       "      <td>2</td>\n",
       "      <td>0.4</td>\n",
       "      <td>-0.8</td>\n",
       "      <td>-0.1</td>\n",
       "      <td>A</td>\n",
       "      <td>-0.00207</td>\n",
       "      <td>0.00103</td>\n",
       "      <td>0.00074</td>\n",
       "      <td>0.00240</td>\n",
       "    </tr>\n",
       "    <tr>\n",
       "      <td>29</td>\n",
       "      <td>2011-06-07 09:00:00+00:00</td>\n",
       "      <td>EUR</td>\n",
       "      <td>Retail Sales (MoM)</td>\n",
       "      <td>European Monetary Union</td>\n",
       "      <td>2</td>\n",
       "      <td>0.7</td>\n",
       "      <td>-0.9</td>\n",
       "      <td>0.3</td>\n",
       "      <td>A</td>\n",
       "      <td>-0.00137</td>\n",
       "      <td>0.00303</td>\n",
       "      <td>-0.00156</td>\n",
       "      <td>0.00351</td>\n",
       "    </tr>\n",
       "    <tr>\n",
       "      <td>31</td>\n",
       "      <td>2011-08-03 09:00:00+00:00</td>\n",
       "      <td>EUR</td>\n",
       "      <td>Retail Sales (MoM)</td>\n",
       "      <td>European Monetary Union</td>\n",
       "      <td>2</td>\n",
       "      <td>0.7</td>\n",
       "      <td>-1.3</td>\n",
       "      <td>0.5</td>\n",
       "      <td>A</td>\n",
       "      <td>0.00561</td>\n",
       "      <td>0.00731</td>\n",
       "      <td>0.00018</td>\n",
       "      <td>0.00899</td>\n",
       "    </tr>\n",
       "    <tr>\n",
       "      <td>38</td>\n",
       "      <td>2012-03-05 10:00:00+00:00</td>\n",
       "      <td>EUR</td>\n",
       "      <td>Retail Sales (MoM)</td>\n",
       "      <td>European Monetary Union</td>\n",
       "      <td>2</td>\n",
       "      <td>1.1</td>\n",
       "      <td>-0.5</td>\n",
       "      <td>-0.1</td>\n",
       "      <td>A</td>\n",
       "      <td>0.00141</td>\n",
       "      <td>0.00396</td>\n",
       "      <td>-0.00186</td>\n",
       "      <td>0.00410</td>\n",
       "    </tr>\n",
       "    <tr>\n",
       "      <td>40</td>\n",
       "      <td>2012-05-04 09:00:00+00:00</td>\n",
       "      <td>EUR</td>\n",
       "      <td>Retail Sales (MoM)</td>\n",
       "      <td>European Monetary Union</td>\n",
       "      <td>2</td>\n",
       "      <td>0.3</td>\n",
       "      <td>-0.2</td>\n",
       "      <td>0.0</td>\n",
       "      <td>A</td>\n",
       "      <td>0.00024</td>\n",
       "      <td>0.00092</td>\n",
       "      <td>-0.00008</td>\n",
       "      <td>0.00116</td>\n",
       "    </tr>\n",
       "    <tr>\n",
       "      <td>42</td>\n",
       "      <td>2012-07-04 09:00:00+00:00</td>\n",
       "      <td>EUR</td>\n",
       "      <td>Retail Sales (MoM)</td>\n",
       "      <td>European Monetary Union</td>\n",
       "      <td>2</td>\n",
       "      <td>0.8</td>\n",
       "      <td>-1.4</td>\n",
       "      <td>0.3</td>\n",
       "      <td>A</td>\n",
       "      <td>-0.00036</td>\n",
       "      <td>0.00091</td>\n",
       "      <td>-0.00048</td>\n",
       "      <td>0.00130</td>\n",
       "    </tr>\n",
       "    <tr>\n",
       "      <td>45</td>\n",
       "      <td>2012-10-03 09:00:00+00:00</td>\n",
       "      <td>EUR</td>\n",
       "      <td>Retail Sales (MoM)</td>\n",
       "      <td>European Monetary Union</td>\n",
       "      <td>2</td>\n",
       "      <td>0.2</td>\n",
       "      <td>-0.2</td>\n",
       "      <td>-0.1</td>\n",
       "      <td>A</td>\n",
       "      <td>0.00118</td>\n",
       "      <td>0.00141</td>\n",
       "      <td>0.00071</td>\n",
       "      <td>0.00236</td>\n",
       "    </tr>\n",
       "    <tr>\n",
       "      <td>50</td>\n",
       "      <td>2013-03-05 10:00:00+00:00</td>\n",
       "      <td>EUR</td>\n",
       "      <td>Retail Sales (MoM)</td>\n",
       "      <td>European Monetary Union</td>\n",
       "      <td>2</td>\n",
       "      <td>0.9</td>\n",
       "      <td>-0.8</td>\n",
       "      <td>0.2</td>\n",
       "      <td>A</td>\n",
       "      <td>-0.00182</td>\n",
       "      <td>-0.00025</td>\n",
       "      <td>0.00262</td>\n",
       "      <td>0.00273</td>\n",
       "    </tr>\n",
       "    <tr>\n",
       "      <td>54</td>\n",
       "      <td>2013-07-03 09:00:00+00:00</td>\n",
       "      <td>EUR</td>\n",
       "      <td>Retail Sales (MoM)</td>\n",
       "      <td>European Monetary Union</td>\n",
       "      <td>1</td>\n",
       "      <td>1.1</td>\n",
       "      <td>-0.2</td>\n",
       "      <td>0.2</td>\n",
       "      <td>A</td>\n",
       "      <td>-0.00057</td>\n",
       "      <td>0.00282</td>\n",
       "      <td>-0.00127</td>\n",
       "      <td>0.00299</td>\n",
       "    </tr>\n",
       "    <tr>\n",
       "      <td>56</td>\n",
       "      <td>2013-09-04 09:00:00+00:00</td>\n",
       "      <td>EUR</td>\n",
       "      <td>Retail Sales (MoM)</td>\n",
       "      <td>European Monetary Union</td>\n",
       "      <td>1</td>\n",
       "      <td>0.5</td>\n",
       "      <td>-0.7</td>\n",
       "      <td>0.4</td>\n",
       "      <td>A</td>\n",
       "      <td>-0.00042</td>\n",
       "      <td>0.00132</td>\n",
       "      <td>-0.00002</td>\n",
       "      <td>0.00168</td>\n",
       "    </tr>\n",
       "    <tr>\n",
       "      <td>60</td>\n",
       "      <td>2014-01-08 10:00:00+00:00</td>\n",
       "      <td>EUR</td>\n",
       "      <td>Retail Sales (MoM)</td>\n",
       "      <td>European Monetary Union</td>\n",
       "      <td>1</td>\n",
       "      <td>0.9</td>\n",
       "      <td>-0.4</td>\n",
       "      <td>0.2</td>\n",
       "      <td>A</td>\n",
       "      <td>-0.00134</td>\n",
       "      <td>0.00054</td>\n",
       "      <td>0.00157</td>\n",
       "      <td>0.00211</td>\n",
       "    </tr>\n",
       "    <tr>\n",
       "      <td>62</td>\n",
       "      <td>2014-03-05 10:00:00+00:00</td>\n",
       "      <td>EUR</td>\n",
       "      <td>Retail Sales (MoM)</td>\n",
       "      <td>European Monetary Union</td>\n",
       "      <td>1</td>\n",
       "      <td>1.0</td>\n",
       "      <td>-1.3</td>\n",
       "      <td>0.8</td>\n",
       "      <td>A</td>\n",
       "      <td>-0.00158</td>\n",
       "      <td>0.00098</td>\n",
       "      <td>0.00180</td>\n",
       "      <td>0.00373</td>\n",
       "    </tr>\n",
       "    <tr>\n",
       "      <td>66</td>\n",
       "      <td>2014-07-03 09:00:00+00:00</td>\n",
       "      <td>EUR</td>\n",
       "      <td>Retail Sales (MoM)</td>\n",
       "      <td>European Monetary Union</td>\n",
       "      <td>2</td>\n",
       "      <td>0.3</td>\n",
       "      <td>-0.2</td>\n",
       "      <td>0.2</td>\n",
       "      <td>A</td>\n",
       "      <td>-0.00022</td>\n",
       "      <td>-0.00025</td>\n",
       "      <td>0.00079</td>\n",
       "      <td>0.00104</td>\n",
       "    </tr>\n",
       "    <tr>\n",
       "      <td>69</td>\n",
       "      <td>2014-10-03 09:00:00+00:00</td>\n",
       "      <td>EUR</td>\n",
       "      <td>Retail Sales (MoM)</td>\n",
       "      <td>European Monetary Union</td>\n",
       "      <td>1</td>\n",
       "      <td>0.9</td>\n",
       "      <td>-0.4</td>\n",
       "      <td>0.1</td>\n",
       "      <td>A</td>\n",
       "      <td>-0.00007</td>\n",
       "      <td>-0.00066</td>\n",
       "      <td>0.00149</td>\n",
       "      <td>0.00165</td>\n",
       "    </tr>\n",
       "    <tr>\n",
       "      <td>71</td>\n",
       "      <td>2014-12-03 10:00:00+00:00</td>\n",
       "      <td>EUR</td>\n",
       "      <td>Retail Sales (MoM)</td>\n",
       "      <td>European Monetary Union</td>\n",
       "      <td>1</td>\n",
       "      <td>0.6</td>\n",
       "      <td>-1.2</td>\n",
       "      <td>0.6</td>\n",
       "      <td>A</td>\n",
       "      <td>0.00098</td>\n",
       "      <td>0.00036</td>\n",
       "      <td>0.00132</td>\n",
       "      <td>0.00179</td>\n",
       "    </tr>\n",
       "    <tr>\n",
       "      <td>77</td>\n",
       "      <td>2015-06-03 09:00:00+00:00</td>\n",
       "      <td>EUR</td>\n",
       "      <td>Retail Sales (MoM)</td>\n",
       "      <td>European Monetary Union</td>\n",
       "      <td>1</td>\n",
       "      <td>0.7</td>\n",
       "      <td>-0.8</td>\n",
       "      <td>0.7</td>\n",
       "      <td>A</td>\n",
       "      <td>-0.00132</td>\n",
       "      <td>-0.00038</td>\n",
       "      <td>0.00409</td>\n",
       "      <td>0.00467</td>\n",
       "    </tr>\n",
       "    <tr>\n",
       "      <td>85</td>\n",
       "      <td>2016-02-03 10:00:00+00:00</td>\n",
       "      <td>EUR</td>\n",
       "      <td>Retail Sales (MoM)</td>\n",
       "      <td>European Monetary Union</td>\n",
       "      <td>1</td>\n",
       "      <td>0.3</td>\n",
       "      <td>-0.3</td>\n",
       "      <td>0.3</td>\n",
       "      <td>A</td>\n",
       "      <td>0.00082</td>\n",
       "      <td>0.00233</td>\n",
       "      <td>-0.00090</td>\n",
       "      <td>0.00237</td>\n",
       "    </tr>\n",
       "    <tr>\n",
       "      <td>90</td>\n",
       "      <td>2016-07-05 09:00:00+00:00</td>\n",
       "      <td>EUR</td>\n",
       "      <td>Retail Sales (MoM)</td>\n",
       "      <td>European Monetary Union</td>\n",
       "      <td>1</td>\n",
       "      <td>0.4</td>\n",
       "      <td>0.0</td>\n",
       "      <td>0.4</td>\n",
       "      <td>A</td>\n",
       "      <td>0.00028</td>\n",
       "      <td>-0.00090</td>\n",
       "      <td>0.00224</td>\n",
       "      <td>0.00277</td>\n",
       "    </tr>\n",
       "    <tr>\n",
       "      <td>92</td>\n",
       "      <td>2016-09-05 09:00:00+00:00</td>\n",
       "      <td>EUR</td>\n",
       "      <td>Retail Sales (MoM)</td>\n",
       "      <td>European Monetary Union</td>\n",
       "      <td>1</td>\n",
       "      <td>1.1</td>\n",
       "      <td>0.0</td>\n",
       "      <td>0.4</td>\n",
       "      <td>A</td>\n",
       "      <td>0.00001</td>\n",
       "      <td>-0.00114</td>\n",
       "      <td>0.00168</td>\n",
       "      <td>0.00174</td>\n",
       "    </tr>\n",
       "    <tr>\n",
       "      <td>95</td>\n",
       "      <td>2016-12-05 10:00:00+00:00</td>\n",
       "      <td>EUR</td>\n",
       "      <td>Retail Sales (MoM)</td>\n",
       "      <td>European Monetary Union</td>\n",
       "      <td>1</td>\n",
       "      <td>1.1</td>\n",
       "      <td>-0.2</td>\n",
       "      <td>0.9</td>\n",
       "      <td>A</td>\n",
       "      <td>0.00030</td>\n",
       "      <td>-0.00027</td>\n",
       "      <td>0.00130</td>\n",
       "      <td>0.00246</td>\n",
       "    </tr>\n",
       "    <tr>\n",
       "      <td>99</td>\n",
       "      <td>2017-04-04 09:00:00+00:00</td>\n",
       "      <td>EUR</td>\n",
       "      <td>Retail Sales (MoM)</td>\n",
       "      <td>European Monetary Union</td>\n",
       "      <td>1</td>\n",
       "      <td>0.7</td>\n",
       "      <td>-0.1</td>\n",
       "      <td>0.5</td>\n",
       "      <td>A</td>\n",
       "      <td>-0.00088</td>\n",
       "      <td>0.00046</td>\n",
       "      <td>0.00060</td>\n",
       "      <td>0.00122</td>\n",
       "    </tr>\n",
       "    <tr>\n",
       "      <td>102</td>\n",
       "      <td>2017-07-05 09:00:00+00:00</td>\n",
       "      <td>EUR</td>\n",
       "      <td>Retail Sales (MoM)</td>\n",
       "      <td>European Monetary Union</td>\n",
       "      <td>1</td>\n",
       "      <td>0.4</td>\n",
       "      <td>0.1</td>\n",
       "      <td>0.3</td>\n",
       "      <td>A</td>\n",
       "      <td>-0.00099</td>\n",
       "      <td>-0.00067</td>\n",
       "      <td>0.00328</td>\n",
       "      <td>0.00340</td>\n",
       "    </tr>\n",
       "    <tr>\n",
       "      <td>106</td>\n",
       "      <td>2017-11-07 10:00:00+00:00</td>\n",
       "      <td>EUR</td>\n",
       "      <td>Retail Sales (MoM)</td>\n",
       "      <td>European Monetary Union</td>\n",
       "      <td>1</td>\n",
       "      <td>0.7</td>\n",
       "      <td>-0.5</td>\n",
       "      <td>0.6</td>\n",
       "      <td>A</td>\n",
       "      <td>-0.00026</td>\n",
       "      <td>0.00000</td>\n",
       "      <td>0.00181</td>\n",
       "      <td>0.00227</td>\n",
       "    </tr>\n",
       "    <tr>\n",
       "      <td>108</td>\n",
       "      <td>2018-01-08 10:00:00+00:00</td>\n",
       "      <td>EUR</td>\n",
       "      <td>Retail Sales (MoM)</td>\n",
       "      <td>European Monetary Union</td>\n",
       "      <td>1</td>\n",
       "      <td>1.5</td>\n",
       "      <td>-1.1</td>\n",
       "      <td>1.3</td>\n",
       "      <td>A</td>\n",
       "      <td>0.00090</td>\n",
       "      <td>0.00104</td>\n",
       "      <td>0.00000</td>\n",
       "      <td>0.00132</td>\n",
       "    </tr>\n",
       "    <tr>\n",
       "      <td>119</td>\n",
       "      <td>2018-12-05 10:00:00+00:00</td>\n",
       "      <td>EUR</td>\n",
       "      <td>Retail Sales (MoM)</td>\n",
       "      <td>European Monetary Union</td>\n",
       "      <td>1</td>\n",
       "      <td>0.3</td>\n",
       "      <td>0.0</td>\n",
       "      <td>0.2</td>\n",
       "      <td>A</td>\n",
       "      <td>-0.00006</td>\n",
       "      <td>0.00063</td>\n",
       "      <td>0.00024</td>\n",
       "      <td>0.00128</td>\n",
       "    </tr>\n",
       "    <tr>\n",
       "      <td>122</td>\n",
       "      <td>2019-03-05 10:00:00+00:00</td>\n",
       "      <td>EUR</td>\n",
       "      <td>Retail Sales (MoM)</td>\n",
       "      <td>European Monetary Union</td>\n",
       "      <td>1</td>\n",
       "      <td>1.3</td>\n",
       "      <td>-1.6</td>\n",
       "      <td>1.2</td>\n",
       "      <td>A</td>\n",
       "      <td>-0.00036</td>\n",
       "      <td>0.00030</td>\n",
       "      <td>0.00060</td>\n",
       "      <td>0.00113</td>\n",
       "    </tr>\n",
       "    <tr>\n",
       "      <td>127</td>\n",
       "      <td>2019-08-02 09:00:00+00:00</td>\n",
       "      <td>EUR</td>\n",
       "      <td>Retail Sales (MoM)</td>\n",
       "      <td>European Monetary Union</td>\n",
       "      <td>1</td>\n",
       "      <td>1.1</td>\n",
       "      <td>-0.3</td>\n",
       "      <td>0.2</td>\n",
       "      <td>A</td>\n",
       "      <td>0.00012</td>\n",
       "      <td>0.00050</td>\n",
       "      <td>0.00018</td>\n",
       "      <td>0.00074</td>\n",
       "    </tr>\n",
       "  </tbody>\n",
       "</table>\n",
       "</div>"
      ],
      "text/plain": [
       "                    timestamp Currency                Name  \\\n",
       "5   2009-06-04 09:00:00+00:00      EUR  Retail Sales (MoM)   \n",
       "11  2009-12-03 10:00:00+00:00      EUR  Retail Sales (MoM)   \n",
       "13  2010-02-03 10:00:00+00:00      EUR  Retail Sales (MoM)   \n",
       "15  2010-04-08 09:00:00+00:00      EUR  Retail Sales (MoM)   \n",
       "18  2010-07-05 09:00:00+00:00      EUR  Retail Sales (MoM)   \n",
       "29  2011-06-07 09:00:00+00:00      EUR  Retail Sales (MoM)   \n",
       "31  2011-08-03 09:00:00+00:00      EUR  Retail Sales (MoM)   \n",
       "38  2012-03-05 10:00:00+00:00      EUR  Retail Sales (MoM)   \n",
       "40  2012-05-04 09:00:00+00:00      EUR  Retail Sales (MoM)   \n",
       "42  2012-07-04 09:00:00+00:00      EUR  Retail Sales (MoM)   \n",
       "45  2012-10-03 09:00:00+00:00      EUR  Retail Sales (MoM)   \n",
       "50  2013-03-05 10:00:00+00:00      EUR  Retail Sales (MoM)   \n",
       "54  2013-07-03 09:00:00+00:00      EUR  Retail Sales (MoM)   \n",
       "56  2013-09-04 09:00:00+00:00      EUR  Retail Sales (MoM)   \n",
       "60  2014-01-08 10:00:00+00:00      EUR  Retail Sales (MoM)   \n",
       "62  2014-03-05 10:00:00+00:00      EUR  Retail Sales (MoM)   \n",
       "66  2014-07-03 09:00:00+00:00      EUR  Retail Sales (MoM)   \n",
       "69  2014-10-03 09:00:00+00:00      EUR  Retail Sales (MoM)   \n",
       "71  2014-12-03 10:00:00+00:00      EUR  Retail Sales (MoM)   \n",
       "77  2015-06-03 09:00:00+00:00      EUR  Retail Sales (MoM)   \n",
       "85  2016-02-03 10:00:00+00:00      EUR  Retail Sales (MoM)   \n",
       "90  2016-07-05 09:00:00+00:00      EUR  Retail Sales (MoM)   \n",
       "92  2016-09-05 09:00:00+00:00      EUR  Retail Sales (MoM)   \n",
       "95  2016-12-05 10:00:00+00:00      EUR  Retail Sales (MoM)   \n",
       "99  2017-04-04 09:00:00+00:00      EUR  Retail Sales (MoM)   \n",
       "102 2017-07-05 09:00:00+00:00      EUR  Retail Sales (MoM)   \n",
       "106 2017-11-07 10:00:00+00:00      EUR  Retail Sales (MoM)   \n",
       "108 2018-01-08 10:00:00+00:00      EUR  Retail Sales (MoM)   \n",
       "119 2018-12-05 10:00:00+00:00      EUR  Retail Sales (MoM)   \n",
       "122 2019-03-05 10:00:00+00:00      EUR  Retail Sales (MoM)   \n",
       "127 2019-08-02 09:00:00+00:00      EUR  Retail Sales (MoM)   \n",
       "\n",
       "                     Country  Volatility  actual  previous  consensus  \\\n",
       "5    European Monetary Union           2     0.8      -0.3        0.2   \n",
       "11   European Monetary Union           2     0.5      -0.2        0.2   \n",
       "13   European Monetary Union           2     1.1      -0.4        0.4   \n",
       "15   European Monetary Union           2     0.1      -0.4        0.0   \n",
       "18   European Monetary Union           2     0.4      -0.8       -0.1   \n",
       "29   European Monetary Union           2     0.7      -0.9        0.3   \n",
       "31   European Monetary Union           2     0.7      -1.3        0.5   \n",
       "38   European Monetary Union           2     1.1      -0.5       -0.1   \n",
       "40   European Monetary Union           2     0.3      -0.2        0.0   \n",
       "42   European Monetary Union           2     0.8      -1.4        0.3   \n",
       "45   European Monetary Union           2     0.2      -0.2       -0.1   \n",
       "50   European Monetary Union           2     0.9      -0.8        0.2   \n",
       "54   European Monetary Union           1     1.1      -0.2        0.2   \n",
       "56   European Monetary Union           1     0.5      -0.7        0.4   \n",
       "60   European Monetary Union           1     0.9      -0.4        0.2   \n",
       "62   European Monetary Union           1     1.0      -1.3        0.8   \n",
       "66   European Monetary Union           2     0.3      -0.2        0.2   \n",
       "69   European Monetary Union           1     0.9      -0.4        0.1   \n",
       "71   European Monetary Union           1     0.6      -1.2        0.6   \n",
       "77   European Monetary Union           1     0.7      -0.8        0.7   \n",
       "85   European Monetary Union           1     0.3      -0.3        0.3   \n",
       "90   European Monetary Union           1     0.4       0.0        0.4   \n",
       "92   European Monetary Union           1     1.1       0.0        0.4   \n",
       "95   European Monetary Union           1     1.1      -0.2        0.9   \n",
       "99   European Monetary Union           1     0.7      -0.1        0.5   \n",
       "102  European Monetary Union           1     0.4       0.1        0.3   \n",
       "106  European Monetary Union           1     0.7      -0.5        0.6   \n",
       "108  European Monetary Union           1     1.5      -1.1        1.3   \n",
       "119  European Monetary Union           1     0.3       0.0        0.2   \n",
       "122  European Monetary Union           1     1.3      -1.6        1.2   \n",
       "127  European Monetary Union           1     1.1      -0.3        0.2   \n",
       "\n",
       "    escenario  direccion  pips alcistas  pips bajistas  volatilidad  \n",
       "5           A   -0.00048        0.00153        0.00100      0.00322  \n",
       "11          A    0.00066        0.00266       -0.00096      0.00266  \n",
       "13          A   -0.00058       -0.00066        0.00150      0.00184  \n",
       "15          A   -0.00068        0.00150       -0.00012      0.00186  \n",
       "18          A   -0.00207        0.00103        0.00074      0.00240  \n",
       "29          A   -0.00137        0.00303       -0.00156      0.00351  \n",
       "31          A    0.00561        0.00731        0.00018      0.00899  \n",
       "38          A    0.00141        0.00396       -0.00186      0.00410  \n",
       "40          A    0.00024        0.00092       -0.00008      0.00116  \n",
       "42          A   -0.00036        0.00091       -0.00048      0.00130  \n",
       "45          A    0.00118        0.00141        0.00071      0.00236  \n",
       "50          A   -0.00182       -0.00025        0.00262      0.00273  \n",
       "54          A   -0.00057        0.00282       -0.00127      0.00299  \n",
       "56          A   -0.00042        0.00132       -0.00002      0.00168  \n",
       "60          A   -0.00134        0.00054        0.00157      0.00211  \n",
       "62          A   -0.00158        0.00098        0.00180      0.00373  \n",
       "66          A   -0.00022       -0.00025        0.00079      0.00104  \n",
       "69          A   -0.00007       -0.00066        0.00149      0.00165  \n",
       "71          A    0.00098        0.00036        0.00132      0.00179  \n",
       "77          A   -0.00132       -0.00038        0.00409      0.00467  \n",
       "85          A    0.00082        0.00233       -0.00090      0.00237  \n",
       "90          A    0.00028       -0.00090        0.00224      0.00277  \n",
       "92          A    0.00001       -0.00114        0.00168      0.00174  \n",
       "95          A    0.00030       -0.00027        0.00130      0.00246  \n",
       "99          A   -0.00088        0.00046        0.00060      0.00122  \n",
       "102         A   -0.00099       -0.00067        0.00328      0.00340  \n",
       "106         A   -0.00026        0.00000        0.00181      0.00227  \n",
       "108         A    0.00090        0.00104        0.00000      0.00132  \n",
       "119         A   -0.00006        0.00063        0.00024      0.00128  \n",
       "122         A   -0.00036        0.00030        0.00060      0.00113  \n",
       "127         A    0.00012        0.00050        0.00018      0.00074  "
      ]
     },
     "execution_count": 40,
     "metadata": {},
     "output_type": "execute_result"
    }
   ],
   "source": [
    "#ejemplo escenario \"A\" en Retail Sales (MoM)\n",
    "RSescenarios[0]"
   ]
  },
  {
   "cell_type": "code",
   "execution_count": null,
   "metadata": {},
   "outputs": [],
   "source": []
  }
 ],
 "metadata": {
  "kernelspec": {
   "display_name": "Python 3",
   "language": "python",
   "name": "python3"
  },
  "language_info": {
   "codemirror_mode": {
    "name": "ipython",
    "version": 3
   },
   "file_extension": ".py",
   "mimetype": "text/x-python",
   "name": "python",
   "nbconvert_exporter": "python",
   "pygments_lexer": "ipython3",
   "version": "3.7.1"
  }
 },
 "nbformat": 4,
 "nbformat_minor": 2
}
