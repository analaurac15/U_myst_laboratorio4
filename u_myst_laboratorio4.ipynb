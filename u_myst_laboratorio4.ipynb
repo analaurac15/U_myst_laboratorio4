{
 "cells": [
  {
   "cell_type": "markdown",
   "metadata": {},
   "source": [
    "# Laboratorio 4\n",
    "\n",
    "## Equipo U\n",
    "\n",
    "#### Ana Laura Correa Cabrales\n",
    "#### Carlos Eduardo Ochoa Arambula\n",
    "#### Pablo Francisco Vargas Castellanos\n",
    "#### Emilio De La Torre Jimenez"
   ]
  },
  {
   "cell_type": "markdown",
   "metadata": {},
   "source": [
    "El propósito: Que puedas describir los efectos cuantitativos en el precio durante los comunicados de indicadores macroeconómicos, así como el detectar oportunidades de inversión a partir de los resultados obtenidos. Lo anterior, utilizando lo que se conoce como \"Calendario Económico\", y más en particular, aquel que incorpora información de las principales economías del mundo por lo que es ampliamiente utilizado en el mercado de Forex."
   ]
  },
  {
   "cell_type": "code",
   "execution_count": 2,
   "metadata": {},
   "outputs": [],
   "source": [
    "import numpy as np\n",
    "import pandas as pd\n",
    "import plotly.graph_objs as go\n",
    "from plotly.subplots import make_subplots\n",
    "from plotly.offline import download_plotlyjs, init_notebook_mode, plot, iplot\n",
    "import plotly.offline as py\n",
    "from collections import Counter\n",
    "import matplotlib.pyplot as plt\n",
    "import plotly.graph_objects as go\n",
    "import datetime as dt\n",
    "import warnings\n",
    "warnings.filterwarnings(\"ignore\")"
   ]
  },
  {
   "cell_type": "code",
   "execution_count": 3,
   "metadata": {},
   "outputs": [],
   "source": [
    "#Cargamos los datos, y eliminamos los que no tienen valor\n",
    "df = pd.read_csv(\"calendario_economico.csv\") \n",
    "df.dropna(inplace = True)"
   ]
  },
  {
   "cell_type": "code",
   "execution_count": 4,
   "metadata": {},
   "outputs": [],
   "source": [
    "#buscamos y agrupamos nuestros datos en Data Frames\n",
    "data1=df.loc[df['Name'] == 'Industrial Production s.a. (MoM)']\n",
    "IndProduction=data1.loc[df['Country'] == 'European Monetary Union']\n",
    "IndProduction=IndProduction.reset_index(drop=True)\n",
    "data2=df.loc[df['Name'] == 'Retail Sales (MoM)']\n",
    "RetailSales=data2.loc[df['Country'] == 'European Monetary Union']\n",
    "RetailSales=RetailSales.reset_index(drop=True)\n"
   ]
  },
  {
   "cell_type": "code",
   "execution_count": 5,
   "metadata": {},
   "outputs": [],
   "source": [
    "#Date time a la variable \"timestamp\" para poder despues buscarla en los precios \n",
    "IndProduction['timestamp']=pd.to_datetime(IndProduction['timestamp'])\n",
    "IndProduction['timestamp']=IndProduction['timestamp'].dt.tz_localize('UTC')\n",
    "RetailSales['timestamp']=pd.to_datetime(RetailSales['timestamp'])\n",
    "RetailSales['timestamp']=RetailSales['timestamp'].dt.tz_localize('UTC')"
   ]
  },
  {
   "cell_type": "code",
   "execution_count": 6,
   "metadata": {},
   "outputs": [],
   "source": [
    "#definimos escenarios por restricciones\n",
    "def escenario(x):\n",
    "    x['escenario']= x['actual']\n",
    "    for i in range(len(x)):\n",
    "        if x['actual'][i] >= x['consensus'][i] >= x['previous'][i]:\n",
    "            x['escenario'][i] = \"A\"\n",
    "        elif x['actual'][i] >= x['consensus'][i] < x['previous'][i]:\n",
    "            x['escenario'][i]=\"B\"\n",
    "        elif x['actual'][i] < x['consensus'][i] >= x['previous'][i]:\n",
    "            x['escenario'][i]=\"C\"\n",
    "        elif x['actual'][i] < x['consensus'][i] < x['previous'][i]:\n",
    "            x['escenario'][i]=\"D\"\n",
    "    return x\n",
    "    "
   ]
  },
  {
   "cell_type": "code",
   "execution_count": 7,
   "metadata": {},
   "outputs": [],
   "source": [
    "RS=escenario(RetailSales)\n",
    "IP=escenario(IndProduction)"
   ]
  },
  {
   "cell_type": "code",
   "execution_count": 60,
   "metadata": {},
   "outputs": [],
   "source": [
    "#cargamos los datos de los precios del Euro-Dolar\n",
    "df = pd.read_csv(\"precios_historicos_eurusd.csv\") \n",
    "df['timestamp']=pd.to_datetime(df['timestamp'])\n",
    "df['timestamp']=df['timestamp'].dt.tz_localize('UTC')\n"
   ]
  },
  {
   "cell_type": "code",
   "execution_count": 59,
   "metadata": {},
   "outputs": [],
   "source": [
    "#checando valores en precios EUR/USD con misma hora que nuestro calendario economico\n",
    "#Data frame con los valores que coinciden las horas\n",
    "comparacionRS=df[df.timestamp.isin(RS.timestamp)]\n",
    "comparacionIP=df[df.timestamp.isin(IP.timestamp)]"
   ]
  },
  {
   "cell_type": "code",
   "execution_count": 61,
   "metadata": {},
   "outputs": [],
   "source": [
    "#funcion tomar los indices de media hora antes y despues\n",
    "def getprices(DF):\n",
    "    for i in range(len(DF)):\n",
    "        indices=[int(DF.index[i]-6)]\n",
    "        x=-6\n",
    "        for j in range(13): \n",
    "            x=x+1\n",
    "            indices.append(int(DF.index[i])+x)\n",
    "    \n",
    "    return precios\n"
   ]
  },
  {
   "cell_type": "code",
   "execution_count": 57,
   "metadata": {},
   "outputs": [
    {
     "data": {
      "text/html": [
       "<div>\n",
       "<style scoped>\n",
       "    .dataframe tbody tr th:only-of-type {\n",
       "        vertical-align: middle;\n",
       "    }\n",
       "\n",
       "    .dataframe tbody tr th {\n",
       "        vertical-align: top;\n",
       "    }\n",
       "\n",
       "    .dataframe thead th {\n",
       "        text-align: right;\n",
       "    }\n",
       "</style>\n",
       "<table border=\"1\" class=\"dataframe\">\n",
       "  <thead>\n",
       "    <tr style=\"text-align: right;\">\n",
       "      <th></th>\n",
       "      <th>timestamp</th>\n",
       "      <th>open</th>\n",
       "      <th>high</th>\n",
       "      <th>low</th>\n",
       "      <th>close</th>\n",
       "    </tr>\n",
       "  </thead>\n",
       "  <tbody>\n",
       "    <tr>\n",
       "      <td>918</td>\n",
       "      <td>2009-01-09 09:30:00+00:00</td>\n",
       "      <td>1.36789</td>\n",
       "      <td>1.36829</td>\n",
       "      <td>1.36684</td>\n",
       "      <td>1.36781</td>\n",
       "    </tr>\n",
       "    <tr>\n",
       "      <td>919</td>\n",
       "      <td>2009-01-09 09:35:00+00:00</td>\n",
       "      <td>1.36780</td>\n",
       "      <td>1.36851</td>\n",
       "      <td>1.36731</td>\n",
       "      <td>1.36756</td>\n",
       "    </tr>\n",
       "    <tr>\n",
       "      <td>920</td>\n",
       "      <td>2009-01-09 09:40:00+00:00</td>\n",
       "      <td>1.36758</td>\n",
       "      <td>1.36776</td>\n",
       "      <td>1.36716</td>\n",
       "      <td>1.36767</td>\n",
       "    </tr>\n",
       "    <tr>\n",
       "      <td>921</td>\n",
       "      <td>2009-01-09 09:45:00+00:00</td>\n",
       "      <td>1.36761</td>\n",
       "      <td>1.36776</td>\n",
       "      <td>1.36696</td>\n",
       "      <td>1.36732</td>\n",
       "    </tr>\n",
       "    <tr>\n",
       "      <td>922</td>\n",
       "      <td>2009-01-09 09:50:00+00:00</td>\n",
       "      <td>1.36731</td>\n",
       "      <td>1.36921</td>\n",
       "      <td>1.36722</td>\n",
       "      <td>1.36896</td>\n",
       "    </tr>\n",
       "    <tr>\n",
       "      <td>923</td>\n",
       "      <td>2009-01-09 09:55:00+00:00</td>\n",
       "      <td>1.36896</td>\n",
       "      <td>1.37036</td>\n",
       "      <td>1.36856</td>\n",
       "      <td>1.36901</td>\n",
       "    </tr>\n",
       "    <tr>\n",
       "      <td>924</td>\n",
       "      <td>2009-01-09 10:00:00+00:00</td>\n",
       "      <td>1.36941</td>\n",
       "      <td>1.37326</td>\n",
       "      <td>1.36927</td>\n",
       "      <td>1.37226</td>\n",
       "    </tr>\n",
       "    <tr>\n",
       "      <td>925</td>\n",
       "      <td>2009-01-09 10:05:00+00:00</td>\n",
       "      <td>1.37202</td>\n",
       "      <td>1.37256</td>\n",
       "      <td>1.37161</td>\n",
       "      <td>1.37166</td>\n",
       "    </tr>\n",
       "    <tr>\n",
       "      <td>926</td>\n",
       "      <td>2009-01-09 10:10:00+00:00</td>\n",
       "      <td>1.37168</td>\n",
       "      <td>1.37221</td>\n",
       "      <td>1.37091</td>\n",
       "      <td>1.37121</td>\n",
       "    </tr>\n",
       "    <tr>\n",
       "      <td>927</td>\n",
       "      <td>2009-01-09 10:15:00+00:00</td>\n",
       "      <td>1.37116</td>\n",
       "      <td>1.37126</td>\n",
       "      <td>1.37026</td>\n",
       "      <td>1.37126</td>\n",
       "    </tr>\n",
       "    <tr>\n",
       "      <td>928</td>\n",
       "      <td>2009-01-09 10:20:00+00:00</td>\n",
       "      <td>1.37131</td>\n",
       "      <td>1.37246</td>\n",
       "      <td>1.37086</td>\n",
       "      <td>1.37136</td>\n",
       "    </tr>\n",
       "    <tr>\n",
       "      <td>929</td>\n",
       "      <td>2009-01-09 10:25:00+00:00</td>\n",
       "      <td>1.37136</td>\n",
       "      <td>1.37211</td>\n",
       "      <td>1.37056</td>\n",
       "      <td>1.37116</td>\n",
       "    </tr>\n",
       "    <tr>\n",
       "      <td>930</td>\n",
       "      <td>2009-01-09 10:30:00+00:00</td>\n",
       "      <td>1.37114</td>\n",
       "      <td>1.37231</td>\n",
       "      <td>1.37076</td>\n",
       "      <td>1.37231</td>\n",
       "    </tr>\n",
       "    <tr>\n",
       "      <td>931</td>\n",
       "      <td>2009-01-09 10:35:00+00:00</td>\n",
       "      <td>1.37231</td>\n",
       "      <td>1.37286</td>\n",
       "      <td>1.37116</td>\n",
       "      <td>1.37122</td>\n",
       "    </tr>\n",
       "  </tbody>\n",
       "</table>\n",
       "</div>"
      ],
      "text/plain": [
       "                    timestamp     open     high      low    close\n",
       "918 2009-01-09 09:30:00+00:00  1.36789  1.36829  1.36684  1.36781\n",
       "919 2009-01-09 09:35:00+00:00  1.36780  1.36851  1.36731  1.36756\n",
       "920 2009-01-09 09:40:00+00:00  1.36758  1.36776  1.36716  1.36767\n",
       "921 2009-01-09 09:45:00+00:00  1.36761  1.36776  1.36696  1.36732\n",
       "922 2009-01-09 09:50:00+00:00  1.36731  1.36921  1.36722  1.36896\n",
       "923 2009-01-09 09:55:00+00:00  1.36896  1.37036  1.36856  1.36901\n",
       "924 2009-01-09 10:00:00+00:00  1.36941  1.37326  1.36927  1.37226\n",
       "925 2009-01-09 10:05:00+00:00  1.37202  1.37256  1.37161  1.37166\n",
       "926 2009-01-09 10:10:00+00:00  1.37168  1.37221  1.37091  1.37121\n",
       "927 2009-01-09 10:15:00+00:00  1.37116  1.37126  1.37026  1.37126\n",
       "928 2009-01-09 10:20:00+00:00  1.37131  1.37246  1.37086  1.37136\n",
       "929 2009-01-09 10:25:00+00:00  1.37136  1.37211  1.37056  1.37116\n",
       "930 2009-01-09 10:30:00+00:00  1.37114  1.37231  1.37076  1.37231\n",
       "931 2009-01-09 10:35:00+00:00  1.37231  1.37286  1.37116  1.37122"
      ]
     },
     "execution_count": 57,
     "metadata": {},
     "output_type": "execute_result"
    }
   ],
   "source": [
    "precios=df.iloc[indices]"
   ]
  },
  {
   "cell_type": "code",
   "execution_count": null,
   "metadata": {},
   "outputs": [],
   "source": []
  }
 ],
 "metadata": {
  "kernelspec": {
   "display_name": "Python 3",
   "language": "python",
   "name": "python3"
  },
  "language_info": {
   "codemirror_mode": {
    "name": "ipython",
    "version": 3
   },
   "file_extension": ".py",
   "mimetype": "text/x-python",
   "name": "python",
   "nbconvert_exporter": "python",
   "pygments_lexer": "ipython3",
   "version": "3.7.0"
  }
 },
 "nbformat": 4,
 "nbformat_minor": 2
}
