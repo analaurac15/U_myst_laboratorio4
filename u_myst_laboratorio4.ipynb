{
 "cells": [
  {
   "cell_type": "markdown",
   "metadata": {},
   "source": [
    "# Laboratorio 4\n",
    "\n",
    "## Equipo U\n",
    "\n",
    "#### Ana Laura Correa Cabrales\n",
    "#### Carlos Eduardo Ochoa Arambula\n",
    "#### Pablo Francisco Vargas Castellanos\n",
    "#### Emilio De La Torre Jimenez"
   ]
  },
  {
   "cell_type": "markdown",
   "metadata": {},
   "source": [
    "El propósito: Que puedas describir los efectos cuantitativos en el precio durante los comunicados de indicadores macroeconómicos, así como el detectar oportunidades de inversión a partir de los resultados obtenidos. Lo anterior, utilizando lo que se conoce como \"Calendario Económico\", y más en particular, aquel que incorpora información de las principales economías del mundo por lo que es ampliamiente utilizado en el mercado de Forex."
   ]
  },
  {
   "cell_type": "code",
   "execution_count": 164,
   "metadata": {},
   "outputs": [],
   "source": [
    "import numpy as np\n",
    "import pandas as pd\n",
    "import plotly.graph_objs as go\n",
    "from plotly.subplots import make_subplots\n",
    "from plotly.offline import download_plotlyjs, init_notebook_mode, plot, iplot\n",
    "import plotly.offline as py\n",
    "from collections import Counter\n",
    "import matplotlib.pyplot as plt\n",
    "import plotly.graph_objects as go\n",
    "import datetime as dt\n",
    "import warnings\n",
    "warnings.filterwarnings(\"ignore\")"
   ]
  },
  {
   "cell_type": "code",
   "execution_count": 165,
   "metadata": {},
   "outputs": [],
   "source": [
    "#Cargamos los datos, y eliminamos los que no tienen valor\n",
    "df = pd.read_csv(\"calendario_economico.csv\") \n",
    "df.dropna(inplace = True)"
   ]
  },
  {
   "cell_type": "code",
   "execution_count": 166,
   "metadata": {},
   "outputs": [],
   "source": [
    "#buscamos y agrupamos nuestros datos en Data Frames\n",
    "data1=df.loc[df['Name'] == 'Industrial Production s.a. (MoM)']\n",
    "IndProduction=data1.loc[df['Country'] == 'European Monetary Union']\n",
    "IndProduction=IndProduction.reset_index(drop=True)\n",
    "data2=df.loc[df['Name'] == 'Retail Sales (MoM)']\n",
    "RetailSales=data2.loc[df['Country'] == 'European Monetary Union']\n",
    "RetailSales=RetailSales.reset_index(drop=True)\n"
   ]
  },
  {
   "cell_type": "code",
   "execution_count": 167,
   "metadata": {},
   "outputs": [],
   "source": [
    "#Date time a la variable \"timestamp\" para poder despues buscarla en los precios \n",
    "IndProduction['timestamp']=pd.to_datetime(IndProduction['timestamp'])\n",
    "IndProduction['timestamp']=IndProduction['timestamp'].dt.tz_localize('UTC')\n",
    "RetailSales['timestamp']=pd.to_datetime(RetailSales['timestamp'])\n",
    "RetailSales['timestamp']=RetailSales['timestamp'].dt.tz_localize('UTC')"
   ]
  },
  {
   "cell_type": "code",
   "execution_count": 168,
   "metadata": {},
   "outputs": [],
   "source": [
    "#definimos escenarios por restricciones\n",
    "def escenario(x):\n",
    "    x['escenario']= x['actual']\n",
    "    for i in range(len(x)):\n",
    "        if x['actual'][i] >= x['consensus'][i] >= x['previous'][i]:\n",
    "            x['escenario'][i] = \"A\"\n",
    "        elif x['actual'][i] >= x['consensus'][i] < x['previous'][i]:\n",
    "            x['escenario'][i]=\"B\"\n",
    "        elif x['actual'][i] < x['consensus'][i] >= x['previous'][i]:\n",
    "            x['escenario'][i]=\"C\"\n",
    "        elif x['actual'][i] < x['consensus'][i] < x['previous'][i]:\n",
    "            x['escenario'][i]=\"D\"\n",
    "    return x\n",
    "    "
   ]
  },
  {
   "cell_type": "code",
   "execution_count": 169,
   "metadata": {},
   "outputs": [],
   "source": [
    "RS=escenario(RetailSales)\n",
    "IP=escenario(IndProduction)"
   ]
  },
  {
   "cell_type": "code",
   "execution_count": 170,
   "metadata": {},
   "outputs": [],
   "source": [
    "#cargamos los datos de los precios del Euro-Dolar\n",
    "df = pd.read_csv(\"precios_historicos_eurusd.csv\") \n",
    "df['timestamp']=pd.to_datetime(df['timestamp'])\n",
    "df['timestamp']=df['timestamp'].dt.tz_localize('UTC')"
   ]
  },
  {
   "cell_type": "code",
   "execution_count": 192,
   "metadata": {},
   "outputs": [],
   "source": [
    "#checando valores en precios EUR/USD con misma hora que nuestro calendario economico\n",
    "#Data frame con los valores que coinciden las horas\n",
    "indices=df[df.timestamp.isin(RS.timestamp)]\n",
    "#tomar los indices de media hora antes y despes\n",
    "mediaant=indices.index-6\n",
    "venticincoant=indices.index-5\n",
    "venteant=indices.index-4\n",
    "quinceant=indices.index-3\n",
    "diezant=indices.index-2\n",
    "cincoant=indices.index-1\n",
    "local=indices.index\n",
    "cincodesp=indices.index+1\n",
    "diezdesp=indices.index+2\n",
    "quincedesp=indices.index+3\n",
    "ventedesp=indices.index+4\n",
    "venticincodesp=indices.index+5\n",
    "mediadesp=indices.index+6"
   ]
  },
  {
   "cell_type": "code",
   "execution_count": null,
   "metadata": {},
   "outputs": [],
   "source": []
  },
  {
   "cell_type": "code",
   "execution_count": null,
   "metadata": {},
   "outputs": [],
   "source": []
  }
 ],
 "metadata": {
  "kernelspec": {
   "display_name": "Python 3",
   "language": "python",
   "name": "python3"
  },
  "language_info": {
   "codemirror_mode": {
    "name": "ipython",
    "version": 3
   },
   "file_extension": ".py",
   "mimetype": "text/x-python",
   "name": "python",
   "nbconvert_exporter": "python",
   "pygments_lexer": "ipython3",
   "version": "3.7.0"
  }
 },
 "nbformat": 4,
 "nbformat_minor": 2
}
